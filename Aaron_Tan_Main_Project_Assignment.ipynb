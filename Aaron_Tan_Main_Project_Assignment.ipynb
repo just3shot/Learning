{
  "nbformat": 4,
  "nbformat_minor": 0,
  "metadata": {
    "colab": {
      "name": "Aaron Tan Main Project Assignment.ipynb",
      "provenance": [],
      "collapsed_sections": [],
      "include_colab_link": true
    },
    "kernelspec": {
      "name": "python3",
      "display_name": "Python 3"
    },
    "accelerator": "GPU"
  },
  "cells": [
    {
      "cell_type": "markdown",
      "metadata": {
        "id": "view-in-github",
        "colab_type": "text"
      },
      "source": [
        "<a href=\"https://colab.research.google.com/github/just3shot/Learning/blob/main/Aaron_Tan_Main_Project_Assignment.ipynb\" target=\"_parent\"><img src=\"https://colab.research.google.com/assets/colab-badge.svg\" alt=\"Open In Colab\"/></a>"
      ]
    },
    {
      "cell_type": "markdown",
      "metadata": {
        "id": "_IANPTpPZz4O"
      },
      "source": [
        "## Importing Celeba Dataset from Kaggle"
      ]
    },
    {
      "cell_type": "code",
      "metadata": {
        "id": "M9qkytLTZUBF",
        "colab": {
          "resources": {
            "http://localhost:8080/nbextensions/google.colab/files.js": {
              "data": "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",
              "ok": true,
              "headers": [
                [
                  "content-type",
                  "application/javascript"
                ]
              ],
              "status": 200,
              "status_text": ""
            }
          },
          "base_uri": "https://localhost:8080/",
          "height": 75
        },
        "outputId": "e0ec43b1-04f6-43d9-bf73-767c2bcefdbf"
      },
      "source": [
        "from google.colab import files\n",
        "uploaded = files.upload()"
      ],
      "execution_count": null,
      "outputs": [
        {
          "output_type": "display_data",
          "data": {
            "text/html": [
              "\n",
              "     <input type=\"file\" id=\"files-9700bde9-00da-425d-900f-6a494246b1e2\" name=\"files[]\" multiple disabled />\n",
              "     <output id=\"result-9700bde9-00da-425d-900f-6a494246b1e2\">\n",
              "      Upload widget is only available when the cell has been executed in the\n",
              "      current browser session. Please rerun this cell to enable.\n",
              "      </output>\n",
              "      <script src=\"/nbextensions/google.colab/files.js\"></script> "
            ],
            "text/plain": [
              "<IPython.core.display.HTML object>"
            ]
          },
          "metadata": {
            "tags": []
          }
        },
        {
          "output_type": "stream",
          "text": [
            "Saving kaggle.json to kaggle.json\n"
          ],
          "name": "stdout"
        }
      ]
    },
    {
      "cell_type": "code",
      "metadata": {
        "id": "tp5Fo2uaZe6t"
      },
      "source": [
        "# Install Kaggle API\n",
        "!pip install -q kaggle"
      ],
      "execution_count": null,
      "outputs": []
    },
    {
      "cell_type": "code",
      "metadata": {
        "id": "fbaSDwcISK6m"
      },
      "source": [
        ""
      ],
      "execution_count": null,
      "outputs": []
    },
    {
      "cell_type": "code",
      "metadata": {
        "id": "iUbRcuELZfzW"
      },
      "source": [
        "!mkdir -p ~/.kaggle\n",
        "!cp kaggle.json ~/.kaggle/\n",
        "\n",
        "# To prevent some error that pops up\n",
        "!chmod 600 ~/.kaggle/kaggle.json"
      ],
      "execution_count": null,
      "outputs": []
    },
    {
      "cell_type": "code",
      "metadata": {
        "id": "hMjLkmRgZf13",
        "colab": {
          "base_uri": "https://localhost:8080/",
          "height": 69
        },
        "outputId": "cfad93fb-c822-4ea4-c417-e34723b323d2"
      },
      "source": [
        "# Where my resource come from\n",
        "!kaggle datasets download -d jessicali9530/celeba-dataset"
      ],
      "execution_count": null,
      "outputs": [
        {
          "output_type": "stream",
          "text": [
            "Downloading celeba-dataset.zip to /content\n",
            " 99% 1.20G/1.21G [00:13<00:00, 119MB/s]\n",
            "100% 1.21G/1.21G [00:13<00:00, 93.5MB/s]\n"
          ],
          "name": "stdout"
        }
      ]
    },
    {
      "cell_type": "markdown",
      "metadata": {
        "id": "EoEk-3g-aCrA"
      },
      "source": [
        "## Importing Libaries for Data Visualisation"
      ]
    },
    {
      "cell_type": "code",
      "metadata": {
        "id": "3gYbxUf5Zf69"
      },
      "source": [
        "import pandas as pd\n",
        "import numpy as np\n",
        "import cv2 \n",
        "import seaborn as sns\n",
        "import matplotlib.pyplot as plt\n",
        "%matplotlib inline"
      ],
      "execution_count": null,
      "outputs": []
    },
    {
      "cell_type": "code",
      "metadata": {
        "id": "GVa3ZdiTaN6D"
      },
      "source": [
        ""
      ],
      "execution_count": null,
      "outputs": []
    },
    {
      "cell_type": "markdown",
      "metadata": {
        "id": "nVaUR9FaaevO"
      },
      "source": [
        "## Data Exploration"
      ]
    },
    {
      "cell_type": "code",
      "metadata": {
        "id": "KDj04tskal32",
        "colab": {
          "base_uri": "https://localhost:8080/",
          "height": 35
        },
        "outputId": "77c76572-f7e8-4f2f-81a2-1d17b1e25300"
      },
      "source": [
        "!ls"
      ],
      "execution_count": null,
      "outputs": [
        {
          "output_type": "stream",
          "text": [
            "celeba-dataset.zip  kaggle.json  sample_data\n"
          ],
          "name": "stdout"
        }
      ]
    },
    {
      "cell_type": "code",
      "metadata": {
        "id": "vQz64ElsaomM"
      },
      "source": [
        "# Unzips the file so to obtain the csv file\n",
        "!unzip -qq celeba-dataset.zip"
      ],
      "execution_count": null,
      "outputs": []
    },
    {
      "cell_type": "code",
      "metadata": {
        "id": "9qYwuaU7auob",
        "colab": {
          "base_uri": "https://localhost:8080/",
          "height": 69
        },
        "outputId": "4bad85a0-4048-436c-869c-abce21aff0c5"
      },
      "source": [
        "!ls"
      ],
      "execution_count": null,
      "outputs": [
        {
          "output_type": "stream",
          "text": [
            "img_align_celeba      list_bbox_celeba.csv\t       sample_data\n",
            "kaggle.json\t      list_eval_partition.csv\n",
            "list_attr_celeba.csv  list_landmarks_align_celeba.csv\n"
          ],
          "name": "stdout"
        }
      ]
    },
    {
      "cell_type": "code",
      "metadata": {
        "id": "EZaQsb87a2WT",
        "colab": {
          "base_uri": "https://localhost:8080/",
          "height": 35
        },
        "outputId": "8b62e9c0-bcbe-49e8-ae6e-99ff502eb78b"
      },
      "source": [
        "# Unzips the file so to obtain the csv file\n",
        "!unzip -qq img_align_celeba.zip"
      ],
      "execution_count": null,
      "outputs": [
        {
          "output_type": "stream",
          "text": [
            "unzip:  cannot find or open img_align_celeba.zip, img_align_celeba.zip.zip or img_align_celeba.zip.ZIP.\n"
          ],
          "name": "stdout"
        }
      ]
    },
    {
      "cell_type": "code",
      "metadata": {
        "id": "agnkDVZNa9ut",
        "colab": {
          "base_uri": "https://localhost:8080/",
          "height": 52
        },
        "outputId": "3c28d985-128e-424f-ed1c-2f6c71939626"
      },
      "source": [
        "# Remove the zips once extracted\n",
        "!rm celeba-dataset.zip\n",
        "!rm img_align_celeba.zip"
      ],
      "execution_count": null,
      "outputs": [
        {
          "output_type": "stream",
          "text": [
            "rm: cannot remove 'celeba-dataset.zip': No such file or directory\n",
            "rm: cannot remove 'img_align_celeba.zip': No such file or directory\n"
          ],
          "name": "stdout"
        }
      ]
    },
    {
      "cell_type": "code",
      "metadata": {
        "id": "Z05LN0SbbTwa",
        "colab": {
          "base_uri": "https://localhost:8080/",
          "height": 69
        },
        "outputId": "ee8cc106-c70d-441d-9fab-ee0d5642b832"
      },
      "source": [
        "!ls"
      ],
      "execution_count": null,
      "outputs": [
        {
          "output_type": "stream",
          "text": [
            "img_align_celeba      list_bbox_celeba.csv\t       sample_data\n",
            "kaggle.json\t      list_eval_partition.csv\n",
            "list_attr_celeba.csv  list_landmarks_align_celeba.csv\n"
          ],
          "name": "stdout"
        }
      ]
    },
    {
      "cell_type": "code",
      "metadata": {
        "id": "RuhSOsZkbUxg",
        "colab": {
          "base_uri": "https://localhost:8080/",
          "height": 251
        },
        "outputId": "700f160a-401d-41cb-b195-927e2f112e7e"
      },
      "source": [
        "df = pd.read_csv(\"list_attr_celeba.csv\")\n",
        "df.head(5)"
      ],
      "execution_count": null,
      "outputs": [
        {
          "output_type": "execute_result",
          "data": {
            "text/html": [
              "<div>\n",
              "<style scoped>\n",
              "    .dataframe tbody tr th:only-of-type {\n",
              "        vertical-align: middle;\n",
              "    }\n",
              "\n",
              "    .dataframe tbody tr th {\n",
              "        vertical-align: top;\n",
              "    }\n",
              "\n",
              "    .dataframe thead th {\n",
              "        text-align: right;\n",
              "    }\n",
              "</style>\n",
              "<table border=\"1\" class=\"dataframe\">\n",
              "  <thead>\n",
              "    <tr style=\"text-align: right;\">\n",
              "      <th></th>\n",
              "      <th>image_id</th>\n",
              "      <th>5_o_Clock_Shadow</th>\n",
              "      <th>Arched_Eyebrows</th>\n",
              "      <th>Attractive</th>\n",
              "      <th>Bags_Under_Eyes</th>\n",
              "      <th>Bald</th>\n",
              "      <th>Bangs</th>\n",
              "      <th>Big_Lips</th>\n",
              "      <th>Big_Nose</th>\n",
              "      <th>Black_Hair</th>\n",
              "      <th>...</th>\n",
              "      <th>Sideburns</th>\n",
              "      <th>Smiling</th>\n",
              "      <th>Straight_Hair</th>\n",
              "      <th>Wavy_Hair</th>\n",
              "      <th>Wearing_Earrings</th>\n",
              "      <th>Wearing_Hat</th>\n",
              "      <th>Wearing_Lipstick</th>\n",
              "      <th>Wearing_Necklace</th>\n",
              "      <th>Wearing_Necktie</th>\n",
              "      <th>Young</th>\n",
              "    </tr>\n",
              "  </thead>\n",
              "  <tbody>\n",
              "    <tr>\n",
              "      <th>0</th>\n",
              "      <td>000001.jpg</td>\n",
              "      <td>-1</td>\n",
              "      <td>1</td>\n",
              "      <td>1</td>\n",
              "      <td>-1</td>\n",
              "      <td>-1</td>\n",
              "      <td>-1</td>\n",
              "      <td>-1</td>\n",
              "      <td>-1</td>\n",
              "      <td>-1</td>\n",
              "      <td>...</td>\n",
              "      <td>-1</td>\n",
              "      <td>1</td>\n",
              "      <td>1</td>\n",
              "      <td>-1</td>\n",
              "      <td>1</td>\n",
              "      <td>-1</td>\n",
              "      <td>1</td>\n",
              "      <td>-1</td>\n",
              "      <td>-1</td>\n",
              "      <td>1</td>\n",
              "    </tr>\n",
              "    <tr>\n",
              "      <th>1</th>\n",
              "      <td>000002.jpg</td>\n",
              "      <td>-1</td>\n",
              "      <td>-1</td>\n",
              "      <td>-1</td>\n",
              "      <td>1</td>\n",
              "      <td>-1</td>\n",
              "      <td>-1</td>\n",
              "      <td>-1</td>\n",
              "      <td>1</td>\n",
              "      <td>-1</td>\n",
              "      <td>...</td>\n",
              "      <td>-1</td>\n",
              "      <td>1</td>\n",
              "      <td>-1</td>\n",
              "      <td>-1</td>\n",
              "      <td>-1</td>\n",
              "      <td>-1</td>\n",
              "      <td>-1</td>\n",
              "      <td>-1</td>\n",
              "      <td>-1</td>\n",
              "      <td>1</td>\n",
              "    </tr>\n",
              "    <tr>\n",
              "      <th>2</th>\n",
              "      <td>000003.jpg</td>\n",
              "      <td>-1</td>\n",
              "      <td>-1</td>\n",
              "      <td>-1</td>\n",
              "      <td>-1</td>\n",
              "      <td>-1</td>\n",
              "      <td>-1</td>\n",
              "      <td>1</td>\n",
              "      <td>-1</td>\n",
              "      <td>-1</td>\n",
              "      <td>...</td>\n",
              "      <td>-1</td>\n",
              "      <td>-1</td>\n",
              "      <td>-1</td>\n",
              "      <td>1</td>\n",
              "      <td>-1</td>\n",
              "      <td>-1</td>\n",
              "      <td>-1</td>\n",
              "      <td>-1</td>\n",
              "      <td>-1</td>\n",
              "      <td>1</td>\n",
              "    </tr>\n",
              "    <tr>\n",
              "      <th>3</th>\n",
              "      <td>000004.jpg</td>\n",
              "      <td>-1</td>\n",
              "      <td>-1</td>\n",
              "      <td>1</td>\n",
              "      <td>-1</td>\n",
              "      <td>-1</td>\n",
              "      <td>-1</td>\n",
              "      <td>-1</td>\n",
              "      <td>-1</td>\n",
              "      <td>-1</td>\n",
              "      <td>...</td>\n",
              "      <td>-1</td>\n",
              "      <td>-1</td>\n",
              "      <td>1</td>\n",
              "      <td>-1</td>\n",
              "      <td>1</td>\n",
              "      <td>-1</td>\n",
              "      <td>1</td>\n",
              "      <td>1</td>\n",
              "      <td>-1</td>\n",
              "      <td>1</td>\n",
              "    </tr>\n",
              "    <tr>\n",
              "      <th>4</th>\n",
              "      <td>000005.jpg</td>\n",
              "      <td>-1</td>\n",
              "      <td>1</td>\n",
              "      <td>1</td>\n",
              "      <td>-1</td>\n",
              "      <td>-1</td>\n",
              "      <td>-1</td>\n",
              "      <td>1</td>\n",
              "      <td>-1</td>\n",
              "      <td>-1</td>\n",
              "      <td>...</td>\n",
              "      <td>-1</td>\n",
              "      <td>-1</td>\n",
              "      <td>-1</td>\n",
              "      <td>-1</td>\n",
              "      <td>-1</td>\n",
              "      <td>-1</td>\n",
              "      <td>1</td>\n",
              "      <td>-1</td>\n",
              "      <td>-1</td>\n",
              "      <td>1</td>\n",
              "    </tr>\n",
              "  </tbody>\n",
              "</table>\n",
              "<p>5 rows × 41 columns</p>\n",
              "</div>"
            ],
            "text/plain": [
              "     image_id  5_o_Clock_Shadow  Arched_Eyebrows  Attractive  Bags_Under_Eyes  \\\n",
              "0  000001.jpg                -1                1           1               -1   \n",
              "1  000002.jpg                -1               -1          -1                1   \n",
              "2  000003.jpg                -1               -1          -1               -1   \n",
              "3  000004.jpg                -1               -1           1               -1   \n",
              "4  000005.jpg                -1                1           1               -1   \n",
              "\n",
              "   Bald  Bangs  Big_Lips  Big_Nose  Black_Hair  ...    Sideburns  Smiling  \\\n",
              "0    -1     -1        -1        -1          -1  ...           -1        1   \n",
              "1    -1     -1        -1         1          -1  ...           -1        1   \n",
              "2    -1     -1         1        -1          -1  ...           -1       -1   \n",
              "3    -1     -1        -1        -1          -1  ...           -1       -1   \n",
              "4    -1     -1         1        -1          -1  ...           -1       -1   \n",
              "\n",
              "   Straight_Hair  Wavy_Hair  Wearing_Earrings  Wearing_Hat  Wearing_Lipstick  \\\n",
              "0              1         -1                 1           -1                 1   \n",
              "1             -1         -1                -1           -1                -1   \n",
              "2             -1          1                -1           -1                -1   \n",
              "3              1         -1                 1           -1                 1   \n",
              "4             -1         -1                -1           -1                 1   \n",
              "\n",
              "   Wearing_Necklace  Wearing_Necktie  Young  \n",
              "0                -1               -1      1  \n",
              "1                -1               -1      1  \n",
              "2                -1               -1      1  \n",
              "3                 1               -1      1  \n",
              "4                -1               -1      1  \n",
              "\n",
              "[5 rows x 41 columns]"
            ]
          },
          "metadata": {
            "tags": []
          },
          "execution_count": 26
        }
      ]
    },
    {
      "cell_type": "code",
      "metadata": {
        "id": "1bixLyI9cPah",
        "colab": {
          "base_uri": "https://localhost:8080/",
          "height": 202
        },
        "outputId": "93eab9ec-fb32-4f2a-8395-23976cc0c19f"
      },
      "source": [
        "df1 = df[[\"image_id\", \"Male\"]]\n",
        "df1.head(5)"
      ],
      "execution_count": null,
      "outputs": [
        {
          "output_type": "execute_result",
          "data": {
            "text/html": [
              "<div>\n",
              "<style scoped>\n",
              "    .dataframe tbody tr th:only-of-type {\n",
              "        vertical-align: middle;\n",
              "    }\n",
              "\n",
              "    .dataframe tbody tr th {\n",
              "        vertical-align: top;\n",
              "    }\n",
              "\n",
              "    .dataframe thead th {\n",
              "        text-align: right;\n",
              "    }\n",
              "</style>\n",
              "<table border=\"1\" class=\"dataframe\">\n",
              "  <thead>\n",
              "    <tr style=\"text-align: right;\">\n",
              "      <th></th>\n",
              "      <th>image_id</th>\n",
              "      <th>Male</th>\n",
              "    </tr>\n",
              "  </thead>\n",
              "  <tbody>\n",
              "    <tr>\n",
              "      <th>0</th>\n",
              "      <td>000001.jpg</td>\n",
              "      <td>-1</td>\n",
              "    </tr>\n",
              "    <tr>\n",
              "      <th>1</th>\n",
              "      <td>000002.jpg</td>\n",
              "      <td>-1</td>\n",
              "    </tr>\n",
              "    <tr>\n",
              "      <th>2</th>\n",
              "      <td>000003.jpg</td>\n",
              "      <td>1</td>\n",
              "    </tr>\n",
              "    <tr>\n",
              "      <th>3</th>\n",
              "      <td>000004.jpg</td>\n",
              "      <td>-1</td>\n",
              "    </tr>\n",
              "    <tr>\n",
              "      <th>4</th>\n",
              "      <td>000005.jpg</td>\n",
              "      <td>-1</td>\n",
              "    </tr>\n",
              "  </tbody>\n",
              "</table>\n",
              "</div>"
            ],
            "text/plain": [
              "     image_id  Male\n",
              "0  000001.jpg    -1\n",
              "1  000002.jpg    -1\n",
              "2  000003.jpg     1\n",
              "3  000004.jpg    -1\n",
              "4  000005.jpg    -1"
            ]
          },
          "metadata": {
            "tags": []
          },
          "execution_count": 27
        }
      ]
    },
    {
      "cell_type": "code",
      "metadata": {
        "id": "G6sBsb1ecctV",
        "colab": {
          "base_uri": "https://localhost:8080/",
          "height": 289
        },
        "outputId": "8dad630e-24b0-4a4c-fbd7-fc83a5b391a8"
      },
      "source": [
        "# DataFrame.replace(to_replace=None, value=None, inplace=False, limit=None, regex=False, method='pad')\n",
        "df1.replace(to_replace=-1, value=0, inplace=True)\n",
        "df1.head(5)"
      ],
      "execution_count": null,
      "outputs": [
        {
          "output_type": "stream",
          "text": [
            "/usr/local/lib/python3.6/dist-packages/ipykernel_launcher.py:1: SettingWithCopyWarning: \n",
            "A value is trying to be set on a copy of a slice from a DataFrame\n",
            "\n",
            "See the caveats in the documentation: http://pandas.pydata.org/pandas-docs/stable/indexing.html#indexing-view-versus-copy\n",
            "  \"\"\"Entry point for launching an IPython kernel.\n"
          ],
          "name": "stderr"
        },
        {
          "output_type": "execute_result",
          "data": {
            "text/html": [
              "<div>\n",
              "<style scoped>\n",
              "    .dataframe tbody tr th:only-of-type {\n",
              "        vertical-align: middle;\n",
              "    }\n",
              "\n",
              "    .dataframe tbody tr th {\n",
              "        vertical-align: top;\n",
              "    }\n",
              "\n",
              "    .dataframe thead th {\n",
              "        text-align: right;\n",
              "    }\n",
              "</style>\n",
              "<table border=\"1\" class=\"dataframe\">\n",
              "  <thead>\n",
              "    <tr style=\"text-align: right;\">\n",
              "      <th></th>\n",
              "      <th>image_id</th>\n",
              "      <th>Male</th>\n",
              "    </tr>\n",
              "  </thead>\n",
              "  <tbody>\n",
              "    <tr>\n",
              "      <th>0</th>\n",
              "      <td>000001.jpg</td>\n",
              "      <td>0</td>\n",
              "    </tr>\n",
              "    <tr>\n",
              "      <th>1</th>\n",
              "      <td>000002.jpg</td>\n",
              "      <td>0</td>\n",
              "    </tr>\n",
              "    <tr>\n",
              "      <th>2</th>\n",
              "      <td>000003.jpg</td>\n",
              "      <td>1</td>\n",
              "    </tr>\n",
              "    <tr>\n",
              "      <th>3</th>\n",
              "      <td>000004.jpg</td>\n",
              "      <td>0</td>\n",
              "    </tr>\n",
              "    <tr>\n",
              "      <th>4</th>\n",
              "      <td>000005.jpg</td>\n",
              "      <td>0</td>\n",
              "    </tr>\n",
              "  </tbody>\n",
              "</table>\n",
              "</div>"
            ],
            "text/plain": [
              "     image_id  Male\n",
              "0  000001.jpg     0\n",
              "1  000002.jpg     0\n",
              "2  000003.jpg     1\n",
              "3  000004.jpg     0\n",
              "4  000005.jpg     0"
            ]
          },
          "metadata": {
            "tags": []
          },
          "execution_count": 28
        }
      ]
    },
    {
      "cell_type": "code",
      "metadata": {
        "id": "4W8DIdzbdC8b"
      },
      "source": [
        "df_f = df1[df1[\"Male\"] == 0].sample(n=5000, random_state=42)\n",
        "df_m = df1[df1[\"Male\"] == 1].sample(n=5000, random_state=42)"
      ],
      "execution_count": null,
      "outputs": []
    },
    {
      "cell_type": "code",
      "metadata": {
        "id": "2ZzJHVJP4f1m",
        "colab": {
          "base_uri": "https://localhost:8080/",
          "height": 355
        },
        "outputId": "6497e0bc-17be-47d8-b681-6e5ccd48322b"
      },
      "source": [
        "data = pd.concat([df_f, df_m])\n",
        "data = data.sort_index()\n",
        "data.head(10)\n"
      ],
      "execution_count": null,
      "outputs": [
        {
          "output_type": "execute_result",
          "data": {
            "text/html": [
              "<div>\n",
              "<style scoped>\n",
              "    .dataframe tbody tr th:only-of-type {\n",
              "        vertical-align: middle;\n",
              "    }\n",
              "\n",
              "    .dataframe tbody tr th {\n",
              "        vertical-align: top;\n",
              "    }\n",
              "\n",
              "    .dataframe thead th {\n",
              "        text-align: right;\n",
              "    }\n",
              "</style>\n",
              "<table border=\"1\" class=\"dataframe\">\n",
              "  <thead>\n",
              "    <tr style=\"text-align: right;\">\n",
              "      <th></th>\n",
              "      <th>image_id</th>\n",
              "      <th>Male</th>\n",
              "    </tr>\n",
              "  </thead>\n",
              "  <tbody>\n",
              "    <tr>\n",
              "      <th>81</th>\n",
              "      <td>000082.jpg</td>\n",
              "      <td>1</td>\n",
              "    </tr>\n",
              "    <tr>\n",
              "      <th>84</th>\n",
              "      <td>000085.jpg</td>\n",
              "      <td>0</td>\n",
              "    </tr>\n",
              "    <tr>\n",
              "      <th>107</th>\n",
              "      <td>000108.jpg</td>\n",
              "      <td>0</td>\n",
              "    </tr>\n",
              "    <tr>\n",
              "      <th>155</th>\n",
              "      <td>000156.jpg</td>\n",
              "      <td>0</td>\n",
              "    </tr>\n",
              "    <tr>\n",
              "      <th>200</th>\n",
              "      <td>000201.jpg</td>\n",
              "      <td>0</td>\n",
              "    </tr>\n",
              "    <tr>\n",
              "      <th>230</th>\n",
              "      <td>000231.jpg</td>\n",
              "      <td>0</td>\n",
              "    </tr>\n",
              "    <tr>\n",
              "      <th>231</th>\n",
              "      <td>000232.jpg</td>\n",
              "      <td>0</td>\n",
              "    </tr>\n",
              "    <tr>\n",
              "      <th>233</th>\n",
              "      <td>000234.jpg</td>\n",
              "      <td>1</td>\n",
              "    </tr>\n",
              "    <tr>\n",
              "      <th>241</th>\n",
              "      <td>000242.jpg</td>\n",
              "      <td>1</td>\n",
              "    </tr>\n",
              "    <tr>\n",
              "      <th>263</th>\n",
              "      <td>000264.jpg</td>\n",
              "      <td>1</td>\n",
              "    </tr>\n",
              "  </tbody>\n",
              "</table>\n",
              "</div>"
            ],
            "text/plain": [
              "       image_id  Male\n",
              "81   000082.jpg     1\n",
              "84   000085.jpg     0\n",
              "107  000108.jpg     0\n",
              "155  000156.jpg     0\n",
              "200  000201.jpg     0\n",
              "230  000231.jpg     0\n",
              "231  000232.jpg     0\n",
              "233  000234.jpg     1\n",
              "241  000242.jpg     1\n",
              "263  000264.jpg     1"
            ]
          },
          "metadata": {
            "tags": []
          },
          "execution_count": 179
        }
      ]
    },
    {
      "cell_type": "code",
      "metadata": {
        "id": "8nJgT0Ts2RBW",
        "colab": {
          "base_uri": "https://localhost:8080/",
          "height": 87
        },
        "outputId": "70a984a0-933b-4aad-c7ee-22898a6972ee"
      },
      "source": [
        "list01 = data[\"image_id\"].values\n",
        "print(type(list01))\n",
        "list01[:10]"
      ],
      "execution_count": null,
      "outputs": [
        {
          "output_type": "stream",
          "text": [
            "<class 'numpy.ndarray'>\n"
          ],
          "name": "stdout"
        },
        {
          "output_type": "execute_result",
          "data": {
            "text/plain": [
              "array(['000082.jpg', '000085.jpg', '000108.jpg', '000156.jpg',\n",
              "       '000201.jpg', '000231.jpg', '000232.jpg', '000234.jpg',\n",
              "       '000242.jpg', '000264.jpg'], dtype=object)"
            ]
          },
          "metadata": {
            "tags": []
          },
          "execution_count": 180
        }
      ]
    },
    {
      "cell_type": "markdown",
      "metadata": {
        "id": "IYih5EEzxWGY"
      },
      "source": [
        "## Picture data"
      ]
    },
    {
      "cell_type": "code",
      "metadata": {
        "id": "K-whU0XGxYah"
      },
      "source": [
        "from glob import glob\n",
        "import ntpath\n",
        "import cv2\n",
        "picture_file = glob(\"./img_align_celeba/*\")"
      ],
      "execution_count": null,
      "outputs": []
    },
    {
      "cell_type": "code",
      "metadata": {
        "id": "M18Mu3jRxw1t",
        "colab": {
          "base_uri": "https://localhost:8080/",
          "height": 191
        },
        "outputId": "2778bcfa-ab49-4e54-ad3c-7881f505a01f"
      },
      "source": [
        "image_id = []\n",
        "for pic in picture_file:\n",
        "  pic = pic[19:]\n",
        "  image_id.append(pic)\n",
        "image_id[:10]"
      ],
      "execution_count": null,
      "outputs": [
        {
          "output_type": "execute_result",
          "data": {
            "text/plain": [
              "['067689.jpg',\n",
              " '036317.jpg',\n",
              " '062526.jpg',\n",
              " '124000.jpg',\n",
              " '083720.jpg',\n",
              " '133217.jpg',\n",
              " '193706.jpg',\n",
              " '105815.jpg',\n",
              " '192240.jpg',\n",
              " '148840.jpg']"
            ]
          },
          "metadata": {
            "tags": []
          },
          "execution_count": 182
        }
      ]
    },
    {
      "cell_type": "code",
      "metadata": {
        "id": "tV5LI3JUx1Mi",
        "colab": {
          "base_uri": "https://localhost:8080/",
          "height": 72
        },
        "outputId": "50552a27-3738-4dc6-cb3d-2566d1efc260"
      },
      "source": [
        "wow = set(image_id).intersection(list01)\n",
        "wow = sorted(wow)\n",
        "print(wow)\n",
        "print(len(wow))"
      ],
      "execution_count": null,
      "outputs": [
        {
          "output_type": "stream",
          "text": [
            "['000082.jpg', '000085.jpg', '000108.jpg', '000156.jpg', '000201.jpg', '000231.jpg', '000232.jpg', '000234.jpg', '000242.jpg', '000264.jpg', '000286.jpg', '000295.jpg', '000297.jpg', '000334.jpg', '000335.jpg', '000346.jpg', '000357.jpg', '000360.jpg', '000406.jpg', '000489.jpg', '000494.jpg', '000511.jpg', '000520.jpg', '000527.jpg', '000539.jpg', '000610.jpg', '000617.jpg', '000637.jpg', '000643.jpg', '000669.jpg', '000712.jpg', '000716.jpg', '000718.jpg', '000732.jpg', '000741.jpg', '000788.jpg', '000798.jpg', '000812.jpg', '000813.jpg', '000828.jpg', '000858.jpg', '000875.jpg', '000879.jpg', '000891.jpg', '000952.jpg', '000961.jpg', '000972.jpg', '000978.jpg', '001005.jpg', '001034.jpg', '001036.jpg', '001073.jpg', '001079.jpg', '001118.jpg', '001125.jpg', '001136.jpg', '001141.jpg', '001143.jpg', '001156.jpg', '001173.jpg', '001215.jpg', '001238.jpg', '001325.jpg', '001367.jpg', '001370.jpg', '001392.jpg', '001398.jpg', '001422.jpg', '001436.jpg', '001464.jpg', '001476.jpg', '001484.jpg', '001489.jpg', '001501.jpg', '001509.jpg', '001513.jpg', '001525.jpg', '001547.jpg', '001551.jpg', '001571.jpg', '001596.jpg', '001632.jpg', '001644.jpg', '001650.jpg', '001661.jpg', '001667.jpg', '001691.jpg', '001699.jpg', '001727.jpg', '001769.jpg', '001803.jpg', '001827.jpg', '001841.jpg', '001876.jpg', '001907.jpg', '001928.jpg', '001981.jpg', '002005.jpg', '002045.jpg', '002068.jpg', '002073.jpg', '002101.jpg', '002127.jpg', '002163.jpg', '002215.jpg', '002283.jpg', '002286.jpg', '002304.jpg', '002326.jpg', '002367.jpg', '002385.jpg', '002393.jpg', '002397.jpg', '002418.jpg', '002428.jpg', '002440.jpg', '002456.jpg', '002483.jpg', '002526.jpg', '002527.jpg', '002535.jpg', '002585.jpg', '002607.jpg', '002619.jpg', '002657.jpg', '002707.jpg', '002742.jpg', '002747.jpg', '002752.jpg', '002756.jpg', '002772.jpg', '002821.jpg', '002832.jpg', '002836.jpg', '002853.jpg', '002862.jpg', '002900.jpg', '002905.jpg', '002915.jpg', '002975.jpg', '003010.jpg', '003034.jpg', '003050.jpg', '003064.jpg', '003072.jpg', '003092.jpg', '003116.jpg', '003124.jpg', '003131.jpg', '003135.jpg', '003156.jpg', '003184.jpg', '003187.jpg', '003189.jpg', '003191.jpg', '003221.jpg', '003285.jpg', '003324.jpg', '003327.jpg', '003332.jpg', '003380.jpg', '003397.jpg', '003428.jpg', '003438.jpg', '003476.jpg', '003494.jpg', '003498.jpg', '003503.jpg', '003504.jpg', '003537.jpg', '003556.jpg', '003557.jpg', '003610.jpg', '003621.jpg', '003650.jpg', '003669.jpg', '003680.jpg', '003770.jpg', '003799.jpg', '003827.jpg', '003874.jpg', '003891.jpg', '003900.jpg', '003914.jpg', '003920.jpg', '003935.jpg', '003938.jpg', '003971.jpg', '003976.jpg', '003978.jpg', '003985.jpg', '004012.jpg', '004038.jpg', '004066.jpg', '004067.jpg', '004072.jpg', '004073.jpg', '004076.jpg', '004093.jpg', '004100.jpg', '004103.jpg', '004150.jpg', '004189.jpg', '004194.jpg', '004204.jpg', '004275.jpg', '004344.jpg', '004346.jpg', '004350.jpg', '004359.jpg', '004370.jpg', '004404.jpg', '004417.jpg', '004424.jpg', '004430.jpg', '004434.jpg', '004447.jpg', '004455.jpg', '004473.jpg', '004494.jpg', '004500.jpg', '004548.jpg', '004554.jpg', '004557.jpg', '004574.jpg', '004594.jpg', '004595.jpg', '004600.jpg', '004602.jpg', '004613.jpg', '004633.jpg', '004637.jpg', '004640.jpg', '004667.jpg', '004669.jpg', '004693.jpg', '004698.jpg', '004736.jpg', '004737.jpg', '004763.jpg', '004765.jpg', '004770.jpg', '004798.jpg', '004825.jpg', '004830.jpg', '004874.jpg', '004890.jpg', '004918.jpg', '004922.jpg', '004941.jpg', '004946.jpg', '004952.jpg', '004960.jpg', '005006.jpg', '005064.jpg', '005067.jpg', '005077.jpg', '005086.jpg', '005093.jpg', '005112.jpg', '005127.jpg', '005144.jpg', '005202.jpg', '005226.jpg', '005233.jpg', '005237.jpg', '005240.jpg', '005248.jpg', '005286.jpg', '005304.jpg', '005316.jpg', '005327.jpg', '005328.jpg', '005344.jpg', '005353.jpg', '005369.jpg', '005375.jpg', '005385.jpg', '005416.jpg', '005419.jpg', '005454.jpg', '005465.jpg', '005484.jpg', '005506.jpg', '005507.jpg', '005524.jpg', '005539.jpg', '005542.jpg', '005572.jpg', '005603.jpg', '005604.jpg', '005605.jpg', '005613.jpg', '005679.jpg', '005686.jpg', '005692.jpg', '005774.jpg', '005776.jpg', '005789.jpg', '005807.jpg', '005871.jpg', '005929.jpg', '005930.jpg', '005931.jpg', '005949.jpg', '005953.jpg', '005984.jpg', '005998.jpg', '006005.jpg', '006034.jpg', '006038.jpg', '006059.jpg', '006072.jpg', '006148.jpg', '006150.jpg', '006184.jpg', '006196.jpg', '006208.jpg', '006241.jpg', '006243.jpg', '006285.jpg', '006309.jpg', '006316.jpg', '006362.jpg', '006388.jpg', '006391.jpg', '006400.jpg', '006434.jpg', '006488.jpg', '006492.jpg', '006525.jpg', '006538.jpg', '006543.jpg', '006544.jpg', '006546.jpg', '006571.jpg', '006574.jpg', '006619.jpg', '006633.jpg', '006703.jpg', '006713.jpg', '006722.jpg', '006735.jpg', '006749.jpg', '006753.jpg', '006767.jpg', '006779.jpg', '006792.jpg', '006809.jpg', '006816.jpg', '006831.jpg', '006833.jpg', '006862.jpg', '006886.jpg', '006907.jpg', '006926.jpg', '006953.jpg', '006964.jpg', '006983.jpg', '006999.jpg', '007009.jpg', '007011.jpg', '007040.jpg', '007043.jpg', '007062.jpg', '007063.jpg', '007111.jpg', '007116.jpg', '007162.jpg', '007167.jpg', '007190.jpg', '007205.jpg', '007234.jpg', '007245.jpg', '007282.jpg', '007295.jpg', '007317.jpg', '007339.jpg', '007350.jpg', '007359.jpg', '007373.jpg', '007388.jpg', '007391.jpg', '007406.jpg', '007407.jpg', '007426.jpg', '007432.jpg', '007453.jpg', '007461.jpg', '007510.jpg', '007572.jpg', '007596.jpg', '007599.jpg', '007626.jpg', '007627.jpg', '007630.jpg', '007654.jpg', '007672.jpg', '007712.jpg', '007730.jpg', '007731.jpg', '007736.jpg', '007774.jpg', '007779.jpg', '007801.jpg', '007818.jpg', '007827.jpg', '007838.jpg', '007845.jpg', '007847.jpg', '007848.jpg', '007859.jpg', '007898.jpg', '007913.jpg', '007918.jpg', '007929.jpg', '007942.jpg', '007989.jpg', '008013.jpg', '008018.jpg', '008027.jpg', '008057.jpg', '008083.jpg', '008085.jpg', '008127.jpg', '008156.jpg', '008202.jpg', '008275.jpg', '008304.jpg', '008310.jpg', '008320.jpg', '008325.jpg', '008372.jpg', '008374.jpg', '008387.jpg', '008429.jpg', '008453.jpg', '008459.jpg', '008464.jpg', '008476.jpg', '008560.jpg', '008590.jpg', '008596.jpg', '008598.jpg', '008624.jpg', '008683.jpg', '008741.jpg', '008743.jpg', '008763.jpg', '008782.jpg', '008807.jpg', '008814.jpg', '008821.jpg', '008823.jpg', '008826.jpg', '008832.jpg', '008867.jpg', '008873.jpg', '008879.jpg', '008915.jpg', '008950.jpg', '008958.jpg', '008961.jpg', '009007.jpg', '009013.jpg', '009021.jpg', '009022.jpg', '009024.jpg', '009053.jpg', '009126.jpg', '009188.jpg', '009232.jpg', '009280.jpg', '009303.jpg', '009316.jpg', '009319.jpg', '009339.jpg', '009351.jpg', '009355.jpg', '009369.jpg', '009404.jpg', '009462.jpg', '009463.jpg', '009466.jpg', '009499.jpg', '009509.jpg', '009572.jpg', '009587.jpg', '009602.jpg', '009629.jpg', '009674.jpg', '009686.jpg', '009700.jpg', '009732.jpg', '009769.jpg', '009775.jpg', '009846.jpg', '009855.jpg', '009866.jpg', '009869.jpg', '009878.jpg', '009926.jpg', '009936.jpg', '009966.jpg', '009984.jpg', '010007.jpg', '010039.jpg', '010137.jpg', '010140.jpg', '010169.jpg', '010172.jpg', '010187.jpg', '010215.jpg', '010295.jpg', '010322.jpg', '010365.jpg', '010383.jpg', '010390.jpg', '010419.jpg', '010431.jpg', '010440.jpg', '010465.jpg', '010467.jpg', '010489.jpg', '010490.jpg', '010495.jpg', '010505.jpg', '010508.jpg', '010519.jpg', '010549.jpg', '010554.jpg', '010558.jpg', '010621.jpg', '010624.jpg', '010631.jpg', '010668.jpg', '010683.jpg', '010709.jpg', '010711.jpg', '010723.jpg', '010765.jpg', '010768.jpg', '010769.jpg', '010787.jpg', '010814.jpg', '010844.jpg', '010856.jpg', '010863.jpg', '010872.jpg', '010901.jpg', '010928.jpg', '010955.jpg', '010960.jpg', '010965.jpg', '010970.jpg', '010984.jpg', '010990.jpg', '011021.jpg', '011031.jpg', '011040.jpg', '011043.jpg', '011044.jpg', '011062.jpg', '011070.jpg', '011075.jpg', '011077.jpg', '011090.jpg', '011097.jpg', '011099.jpg', '011128.jpg', '011139.jpg', '011187.jpg', '011247.jpg', '011254.jpg', '011257.jpg', '011269.jpg', '011281.jpg', '011328.jpg', '011350.jpg', '011367.jpg', '011369.jpg', '011395.jpg', '011480.jpg', '011489.jpg', '011490.jpg', '011553.jpg', '011567.jpg', '011603.jpg', '011612.jpg', '011628.jpg', '011635.jpg', '011661.jpg', '011669.jpg', '011691.jpg', '011692.jpg', '011699.jpg', '011733.jpg', '011764.jpg', '011784.jpg', '011798.jpg', '011839.jpg', '011840.jpg', '011844.jpg', '011869.jpg', '011889.jpg', '011922.jpg', '011930.jpg', '011945.jpg', '011966.jpg', '011981.jpg', '011986.jpg', '011987.jpg', '012004.jpg', '012011.jpg', '012027.jpg', '012058.jpg', '012061.jpg', '012069.jpg', '012076.jpg', '012103.jpg', '012125.jpg', '012148.jpg', '012154.jpg', '012202.jpg', '012205.jpg', '012231.jpg', '012242.jpg', '012253.jpg', '012280.jpg', '012286.jpg', '012302.jpg', '012330.jpg', '012339.jpg', '012348.jpg', '012355.jpg', '012373.jpg', '012391.jpg', '012422.jpg', '012426.jpg', '012450.jpg', '012484.jpg', '012508.jpg', '012511.jpg', '012524.jpg', '012534.jpg', '012550.jpg', '012589.jpg', '012595.jpg', '012597.jpg', '012599.jpg', '012607.jpg', '012638.jpg', '012657.jpg', '012683.jpg', '012711.jpg', '012721.jpg', '012739.jpg', '012865.jpg', '012870.jpg', '012871.jpg', '012880.jpg', '012890.jpg', '012904.jpg', '012942.jpg', '012953.jpg', '012981.jpg', '012982.jpg', '012986.jpg', '013002.jpg', '013028.jpg', '013029.jpg', '013035.jpg', '013041.jpg', '013075.jpg', '013114.jpg', '013126.jpg', '013229.jpg', '013266.jpg', '013267.jpg', '013302.jpg', '013319.jpg', '013368.jpg', '013377.jpg', '013398.jpg', '013409.jpg', '013429.jpg', '013431.jpg', '013460.jpg', '013512.jpg', '013518.jpg', '013519.jpg', '013563.jpg', '013600.jpg', '013629.jpg', '013634.jpg', '013640.jpg', '013646.jpg', '013654.jpg', '013658.jpg', '013666.jpg', '013702.jpg', '013716.jpg', '013731.jpg', '013796.jpg', '013804.jpg', '013824.jpg', '013832.jpg', '013843.jpg', '013869.jpg', '013913.jpg', '013922.jpg', '013957.jpg', '013997.jpg', '014002.jpg', '014030.jpg', '014066.jpg', '014115.jpg', '014138.jpg', '014159.jpg', '014161.jpg', '014163.jpg', '014170.jpg', '014177.jpg', '014196.jpg', '014207.jpg', '014226.jpg', '014234.jpg', '014277.jpg', '014280.jpg', '014335.jpg', '014350.jpg', '014393.jpg', '014399.jpg', '014443.jpg', '014449.jpg', '014475.jpg', '014505.jpg', '014528.jpg', '014530.jpg', '014541.jpg', '014545.jpg', '014551.jpg', '014555.jpg', '014568.jpg', '014604.jpg', '014609.jpg', '014616.jpg', '014625.jpg', '014636.jpg', '014646.jpg', '014654.jpg', '014667.jpg', '014698.jpg', '014742.jpg', '014756.jpg', '014763.jpg', '014776.jpg', '014789.jpg', '014805.jpg', '014810.jpg', '014816.jpg', '014818.jpg', '014841.jpg', '014843.jpg', '014849.jpg', '014853.jpg', '014858.jpg', '014881.jpg', '014905.jpg', '014954.jpg', '014955.jpg', '014975.jpg', '014980.jpg', '014996.jpg', '015007.jpg', '015022.jpg', '015025.jpg', '015029.jpg', '015039.jpg', '015041.jpg', '015045.jpg', '015055.jpg', '015105.jpg', '015127.jpg', '015129.jpg', '015144.jpg', '015158.jpg', '015161.jpg', '015191.jpg', '015192.jpg', '015219.jpg', '015222.jpg', '015244.jpg', '015274.jpg', '015295.jpg', '015296.jpg', '015308.jpg', '015315.jpg', '015347.jpg', '015360.jpg', '015367.jpg', '015376.jpg', '015405.jpg', '015445.jpg', '015464.jpg', '015467.jpg', '015495.jpg', '015515.jpg', '015538.jpg', '015546.jpg', '015562.jpg', '015564.jpg', '015579.jpg', '015620.jpg', '015716.jpg', '015750.jpg', '015758.jpg', '015760.jpg', '015782.jpg', '015800.jpg', '015818.jpg', '015842.jpg', '015854.jpg', '015880.jpg', '015887.jpg', '015899.jpg', '015905.jpg', '015907.jpg', '015957.jpg', '015979.jpg', '016020.jpg', '016025.jpg', '016051.jpg', '016118.jpg', '016146.jpg', '016147.jpg', '016150.jpg', '016190.jpg', '016236.jpg', '016248.jpg', '016254.jpg', '016275.jpg', '016290.jpg', '016305.jpg', '016316.jpg', '016320.jpg', '016350.jpg', '016372.jpg', '016399.jpg', '016406.jpg', '016407.jpg', '016429.jpg', '016440.jpg', '016443.jpg', '016454.jpg', '016456.jpg', '016469.jpg', '016493.jpg', '016518.jpg', '016523.jpg', '016592.jpg', '016593.jpg', '016633.jpg', '016650.jpg', '016687.jpg', '016698.jpg', '016699.jpg', '016774.jpg', '016795.jpg', '016820.jpg', '016821.jpg', '016846.jpg', '016861.jpg', '016902.jpg', '016954.jpg', '016957.jpg', '017003.jpg', '017076.jpg', '017077.jpg', '017121.jpg', '017123.jpg', '017126.jpg', '017134.jpg', '017135.jpg', '017148.jpg', '017168.jpg', '017195.jpg', '017203.jpg', '017248.jpg', '017254.jpg', '017290.jpg', '017301.jpg', '017310.jpg', '017316.jpg', '017325.jpg', '017328.jpg', '017365.jpg', '017372.jpg', '017398.jpg', '017413.jpg', '017464.jpg', '017475.jpg', '017487.jpg', '017524.jpg', '017530.jpg', '017534.jpg', '017578.jpg', '017599.jpg', '017633.jpg', '017657.jpg', '017707.jpg', '017709.jpg', '017729.jpg', '017735.jpg', '017741.jpg', '017742.jpg', '017750.jpg', '017778.jpg', '017808.jpg', '017821.jpg', '017824.jpg', '017845.jpg', '017863.jpg', '017885.jpg', '017890.jpg', '017975.jpg', '017992.jpg', '018007.jpg', '018008.jpg', '018038.jpg', '018040.jpg', '018041.jpg', '018042.jpg', '018077.jpg', '018118.jpg', '018154.jpg', '018167.jpg', '018173.jpg', '018329.jpg', '018331.jpg', '018344.jpg', '018364.jpg', '018381.jpg', '018418.jpg', '018419.jpg', '018434.jpg', '018462.jpg', '018466.jpg', '018493.jpg', '018509.jpg', '018561.jpg', '018588.jpg', '018611.jpg', '018617.jpg', '018626.jpg', '018635.jpg', '018676.jpg', '018685.jpg', '018711.jpg', '018716.jpg', '018739.jpg', '018758.jpg', '018786.jpg', '018809.jpg', '018817.jpg', '018820.jpg', '018869.jpg', '018895.jpg', '018899.jpg', '018930.jpg', '018937.jpg', '018973.jpg', '019049.jpg', '019097.jpg', '019099.jpg', '019107.jpg', '019124.jpg', '019125.jpg', '019148.jpg', '019171.jpg', '019177.jpg', '019194.jpg', '019224.jpg', '019255.jpg', '019279.jpg', '019282.jpg', '019324.jpg', '019328.jpg', '019354.jpg', '019384.jpg', '019410.jpg', '019421.jpg', '019431.jpg', '019444.jpg', '019511.jpg', '019515.jpg', '019516.jpg', '019522.jpg', '019524.jpg', '019526.jpg', '019548.jpg', '019576.jpg', '019589.jpg', '019590.jpg', '019591.jpg', '019602.jpg', '019658.jpg', '019669.jpg', '019698.jpg', '019706.jpg', '019722.jpg', '019786.jpg', '019815.jpg', '019817.jpg', '019832.jpg', '019834.jpg', '019836.jpg', '019840.jpg', '019879.jpg', '019881.jpg', '019934.jpg', '019938.jpg', '019958.jpg', '019981.jpg', '019988.jpg', '019998.jpg', '019999.jpg', '020026.jpg', '020032.jpg', '020079.jpg', '020096.jpg', '020107.jpg', '020154.jpg', '020177.jpg', '020179.jpg', '020202.jpg', '020205.jpg', '020207.jpg', '020266.jpg', '020284.jpg', '020285.jpg', '020321.jpg', '020330.jpg', '020349.jpg', '020376.jpg', '020377.jpg', '020390.jpg', '020400.jpg', '020455.jpg', '020459.jpg', '020480.jpg', '020558.jpg', '020566.jpg', '020576.jpg', '020580.jpg', '020619.jpg', '020636.jpg', '020646.jpg', '020723.jpg', '020733.jpg', '020734.jpg', '020738.jpg', '020758.jpg', '020789.jpg', '020791.jpg', '020819.jpg', '020821.jpg', '020822.jpg', '020927.jpg', '020932.jpg', '020967.jpg', '021013.jpg', '021050.jpg', '021064.jpg', '021066.jpg', '021081.jpg', '021100.jpg', '021109.jpg', '021160.jpg', '021161.jpg', '021164.jpg', '021166.jpg', '021171.jpg', '021191.jpg', '021221.jpg', '021225.jpg', '021262.jpg', '021280.jpg', '021309.jpg', '021330.jpg', '021331.jpg', '021349.jpg', '021366.jpg', '021375.jpg', '021424.jpg', '021431.jpg', '021438.jpg', '021465.jpg', '021479.jpg', '021485.jpg', '021513.jpg', '021519.jpg', '021520.jpg', '021562.jpg', '021572.jpg', '021579.jpg', '021580.jpg', '021588.jpg', '021605.jpg', '021631.jpg', '021642.jpg', '021651.jpg', '021668.jpg', '021669.jpg', '021670.jpg', '021701.jpg', '021728.jpg', '021750.jpg', '021751.jpg', '021752.jpg', '021771.jpg', '021787.jpg', '021799.jpg', '021818.jpg', '021841.jpg', '021872.jpg', '021873.jpg', '021880.jpg', '021926.jpg', '021930.jpg', '021955.jpg', '021958.jpg', '021964.jpg', '021965.jpg', '021970.jpg', '021984.jpg', '022003.jpg', '022016.jpg', '022039.jpg', '022050.jpg', '022068.jpg', '022069.jpg', '022074.jpg', '022077.jpg', '022099.jpg', '022146.jpg', '022147.jpg', '022184.jpg', '022230.jpg', '022239.jpg', '022322.jpg', '022360.jpg', '022397.jpg', '022415.jpg', '022434.jpg', '022465.jpg', '022473.jpg', '022543.jpg', '022566.jpg', '022567.jpg', '022595.jpg', '022597.jpg', '022610.jpg', '022687.jpg', '022704.jpg', '022762.jpg', '022787.jpg', '022796.jpg', '022832.jpg', '022838.jpg', '022855.jpg', '022870.jpg', '022877.jpg', '022896.jpg', '022904.jpg', '022945.jpg', '022989.jpg', '023003.jpg', '023004.jpg', '023014.jpg', '023035.jpg', '023084.jpg', '023100.jpg', '023102.jpg', '023108.jpg', '023113.jpg', '023135.jpg', '023145.jpg', '023173.jpg', '023200.jpg', '023205.jpg', '023217.jpg', '023218.jpg', '023229.jpg', '023246.jpg', '023269.jpg', '023279.jpg', '023313.jpg', '023355.jpg', '023387.jpg', '023427.jpg', '023453.jpg', '023456.jpg', '023483.jpg', '023531.jpg', '023532.jpg', '023556.jpg', '023588.jpg', '023595.jpg', '023642.jpg', '023657.jpg', '023661.jpg', '023673.jpg', '023684.jpg', '023705.jpg', '023709.jpg', '023750.jpg', '023756.jpg', '023767.jpg', '023784.jpg', '023786.jpg', '023797.jpg', '023819.jpg', '023831.jpg', '023871.jpg', '023881.jpg', '023894.jpg', '023911.jpg', '023919.jpg', '023922.jpg', '023963.jpg', '023965.jpg', '024026.jpg', '024046.jpg', '024049.jpg', '024094.jpg', '024152.jpg', '024157.jpg', '024167.jpg', '024178.jpg', '024190.jpg', '024193.jpg', '024241.jpg', '024244.jpg', '024252.jpg', '024285.jpg', '024300.jpg', '024320.jpg', '024333.jpg', '024366.jpg', '024391.jpg', '024451.jpg', '024474.jpg', '024482.jpg', '024497.jpg', '024525.jpg', '024530.jpg', '024548.jpg', '024565.jpg', '024619.jpg', '024621.jpg', '024626.jpg', '024645.jpg', '024684.jpg', '024699.jpg', '024718.jpg', '024756.jpg', '024767.jpg', '024853.jpg', '024867.jpg', '024897.jpg', '024924.jpg', '024988.jpg', '024991.jpg', '025003.jpg', '025013.jpg', '025034.jpg', '025051.jpg', '025074.jpg', '025076.jpg', '025079.jpg', '025091.jpg', '025125.jpg', '025170.jpg', '025175.jpg', '025179.jpg', '025215.jpg', '025237.jpg', '025296.jpg', '025316.jpg', '025331.jpg', '025339.jpg', '025397.jpg', '025410.jpg', '025508.jpg', '025510.jpg', '025543.jpg', '025579.jpg', '025591.jpg', '025592.jpg', '025616.jpg', '025619.jpg', '025625.jpg', '025641.jpg', '025642.jpg', '025643.jpg', '025663.jpg', '025670.jpg', '025675.jpg', '025680.jpg', '025731.jpg', '025743.jpg', '025752.jpg', '025760.jpg', '025794.jpg', '025798.jpg', '025801.jpg', '025862.jpg', '025872.jpg', '025893.jpg', '025912.jpg', '025920.jpg', '025953.jpg', '026047.jpg', '026051.jpg', '026053.jpg', '026074.jpg', '026173.jpg', '026205.jpg', '026206.jpg', '026243.jpg', '026249.jpg', '026256.jpg', '026258.jpg', '026295.jpg', '026329.jpg', '026338.jpg', '026342.jpg', '026345.jpg', '026381.jpg', '026438.jpg', '026473.jpg', '026486.jpg', '026503.jpg', '026506.jpg', '026511.jpg', '026513.jpg', '026514.jpg', '026517.jpg', '026545.jpg', '026567.jpg', '026604.jpg', '026611.jpg', '026652.jpg', '026685.jpg', '026713.jpg', '026719.jpg', '026748.jpg', '026771.jpg', '026774.jpg', '026779.jpg', '026801.jpg', '026811.jpg', '026844.jpg', '026857.jpg', '026885.jpg', '026888.jpg', '026955.jpg', '026959.jpg', '026963.jpg', '027020.jpg', '027023.jpg', '027069.jpg', '027070.jpg', '027082.jpg', '027111.jpg', '027115.jpg', '027130.jpg', '027138.jpg', '027140.jpg', '027195.jpg', '027220.jpg', '027227.jpg', '027233.jpg', '027235.jpg', '027239.jpg', '027241.jpg', '027283.jpg', '027286.jpg', '027326.jpg', '027327.jpg', '027342.jpg', '027356.jpg', '027372.jpg', '027380.jpg', '027383.jpg', '027384.jpg', '027395.jpg', '027421.jpg', '027433.jpg', '027473.jpg', '027480.jpg', '027483.jpg', '027485.jpg', '027620.jpg', '027624.jpg', '027631.jpg', '027633.jpg', '027647.jpg', '027663.jpg', '027665.jpg', '027717.jpg', '027722.jpg', '027747.jpg', '027748.jpg', '027818.jpg', '027819.jpg', '027830.jpg', '027851.jpg', '027880.jpg', '027896.jpg', '027903.jpg', '027904.jpg', '027911.jpg', '027951.jpg', '027966.jpg', '027976.jpg', '027983.jpg', '028001.jpg', '028039.jpg', '028156.jpg', '028162.jpg', '028192.jpg', '028202.jpg', '028203.jpg', '028258.jpg', '028259.jpg', '028298.jpg', '028330.jpg', '028331.jpg', '028404.jpg', '028408.jpg', '028413.jpg', '028415.jpg', '028423.jpg', '028433.jpg', '028455.jpg', '028458.jpg', '028542.jpg', '028544.jpg', '028564.jpg', '028579.jpg', '028582.jpg', '028601.jpg', '028620.jpg', '028625.jpg', '028640.jpg', '028643.jpg', '028650.jpg', '028706.jpg', '028793.jpg', '028803.jpg', '028821.jpg', '028845.jpg', '028934.jpg', '028949.jpg', '028987.jpg', '029025.jpg', '029026.jpg', '029036.jpg', '029086.jpg', '029103.jpg', '029170.jpg', '029172.jpg', '029242.jpg', '029252.jpg', '029309.jpg', '029355.jpg', '029356.jpg', '029417.jpg', '029429.jpg', '029436.jpg', '029443.jpg', '029488.jpg', '029499.jpg', '029530.jpg', '029563.jpg', '029571.jpg', '029572.jpg', '029591.jpg', '029613.jpg', '029641.jpg', '029654.jpg', '029685.jpg', '029723.jpg', '029727.jpg', '029733.jpg', '029771.jpg', '029774.jpg', '029782.jpg', '029831.jpg', '029833.jpg', '029847.jpg', '029857.jpg', '029860.jpg', '029893.jpg', '029896.jpg', '029897.jpg', '029936.jpg', '029943.jpg', '029957.jpg', '029997.jpg', '029998.jpg', '030070.jpg', '030083.jpg', '030107.jpg', '030132.jpg', '030145.jpg', '030152.jpg', '030165.jpg', '030207.jpg', '030240.jpg', '030281.jpg', '030297.jpg', '030302.jpg', '030313.jpg', '030343.jpg', '030349.jpg', '030353.jpg', '030356.jpg', '030407.jpg', '030419.jpg', '030445.jpg', '030460.jpg', '030503.jpg', '030508.jpg', '030546.jpg', '030601.jpg', '030609.jpg', '030631.jpg', '030645.jpg', '030649.jpg', '030652.jpg', '030693.jpg', '030736.jpg', '030751.jpg', '030762.jpg', '030782.jpg', '030808.jpg', '030820.jpg', '030823.jpg', '030831.jpg', '030861.jpg', '030866.jpg', '030908.jpg', '030933.jpg', '030937.jpg', '030966.jpg', '030970.jpg', '030988.jpg', '030993.jpg', '031009.jpg', '031017.jpg', '031020.jpg', '031042.jpg', '031058.jpg', '031077.jpg', '031078.jpg', '031089.jpg', '031104.jpg', '031107.jpg', '031112.jpg', '031123.jpg', '031134.jpg', '031135.jpg', '031139.jpg', '031152.jpg', '031202.jpg', '031223.jpg', '031230.jpg', '031337.jpg', '031348.jpg', '031349.jpg', '031364.jpg', '031370.jpg', '031382.jpg', '031435.jpg', '031440.jpg', '031445.jpg', '031456.jpg', '031467.jpg', '031539.jpg', '031556.jpg', '031563.jpg', '031607.jpg', '031620.jpg', '031673.jpg', '031686.jpg', '031689.jpg', '031745.jpg', '031775.jpg', '031778.jpg', '031782.jpg', '031792.jpg', '031801.jpg', '031818.jpg', '031831.jpg', '031848.jpg', '031869.jpg', '031884.jpg', '031897.jpg', '031901.jpg', '031903.jpg', '031930.jpg', '031934.jpg', '031938.jpg', '031992.jpg', '032040.jpg', '032042.jpg', '032080.jpg', '032088.jpg', '032129.jpg', '032152.jpg', '032180.jpg', '032201.jpg', '032209.jpg', '032226.jpg', '032232.jpg', '032250.jpg', '032270.jpg', '032274.jpg', '032280.jpg', '032295.jpg', '032308.jpg', '032309.jpg', '032338.jpg', '032347.jpg', '032407.jpg', '032426.jpg', '032443.jpg', '032486.jpg', '032491.jpg', '032505.jpg', '032562.jpg', '032567.jpg', '032573.jpg', '032593.jpg', '032606.jpg', '032608.jpg', '032632.jpg', '032663.jpg', '032666.jpg', '032672.jpg', '032673.jpg', '032694.jpg', '032793.jpg', '032796.jpg', '032803.jpg', '032810.jpg', '032816.jpg', '032885.jpg', '032915.jpg', '032962.jpg', '032978.jpg', '033004.jpg', '033007.jpg', '033053.jpg', '033061.jpg', '033084.jpg', '033086.jpg', '033097.jpg', '033133.jpg', '033144.jpg', '033160.jpg', '033167.jpg', '033201.jpg', '033217.jpg', '033221.jpg', '033226.jpg', '033230.jpg', '033260.jpg', '033263.jpg', '033266.jpg', '033286.jpg', '033293.jpg', '033302.jpg', '033306.jpg', '033308.jpg', '033337.jpg', '033418.jpg', '033433.jpg', '033435.jpg', '033498.jpg', '033531.jpg', '033554.jpg', '033581.jpg', '033594.jpg', '033618.jpg', '033627.jpg', '033629.jpg', '033632.jpg', '033643.jpg', '033684.jpg', '033713.jpg', '033715.jpg', '033735.jpg', '033773.jpg', '033777.jpg', '033804.jpg', '033814.jpg', '033819.jpg', '033921.jpg', '034005.jpg', '034076.jpg', '034080.jpg', '034082.jpg', '034142.jpg', '034145.jpg', '034157.jpg', '034165.jpg', '034171.jpg', '034175.jpg', '034207.jpg', '034221.jpg', '034246.jpg', '034354.jpg', '034358.jpg', '034370.jpg', '034388.jpg', '034432.jpg', '034437.jpg', '034441.jpg', '034448.jpg', '034470.jpg', '034481.jpg', '034487.jpg', '034490.jpg', '034505.jpg', '034511.jpg', '034537.jpg', '034547.jpg', '034590.jpg', '034607.jpg', '034609.jpg', '034633.jpg', '034647.jpg', '034659.jpg', '034714.jpg', '034717.jpg', '034731.jpg', '034750.jpg', '034765.jpg', '034781.jpg', '034865.jpg', '034873.jpg', '034919.jpg', '034976.jpg', '034989.jpg', '035001.jpg', '035011.jpg', '035024.jpg', '035036.jpg', '035037.jpg', '035051.jpg', '035057.jpg', '035064.jpg', '035072.jpg', '035075.jpg', '035076.jpg', '035082.jpg', '035106.jpg', '035122.jpg', '035128.jpg', '035138.jpg', '035153.jpg', '035183.jpg', '035225.jpg', '035249.jpg', '035324.jpg', '035326.jpg', '035447.jpg', '035520.jpg', '035541.jpg', '035565.jpg', '035595.jpg', '035598.jpg', '035613.jpg', '035636.jpg', '035648.jpg', '035672.jpg', '035680.jpg', '035686.jpg', '035710.jpg', '035712.jpg', '035716.jpg', '035720.jpg', '035734.jpg', '035779.jpg', '035840.jpg', '035845.jpg', '035846.jpg', '035858.jpg', '035859.jpg', '035865.jpg', '035875.jpg', '035921.jpg', '035922.jpg', '035992.jpg', '035995.jpg', '036006.jpg', '036014.jpg', '036027.jpg', '036031.jpg', '036046.jpg', '036049.jpg', '036100.jpg', '036101.jpg', '036171.jpg', '036172.jpg', '036252.jpg', '036270.jpg', '036296.jpg', '036327.jpg', '036331.jpg', '036340.jpg', '036345.jpg', '036350.jpg', '036359.jpg', '036363.jpg', '036365.jpg', '036377.jpg', '036384.jpg', '036407.jpg', '036426.jpg', '036430.jpg', '036443.jpg', '036447.jpg', '036452.jpg', '036465.jpg', '036480.jpg', '036487.jpg', '036512.jpg', '036515.jpg', '036520.jpg', '036522.jpg', '036550.jpg', '036584.jpg', '036585.jpg', '036603.jpg', '036619.jpg', '036656.jpg', '036663.jpg', '036708.jpg', '036762.jpg', '036785.jpg', '036786.jpg', '036797.jpg', '036829.jpg', '036845.jpg', '036855.jpg', '036865.jpg', '036873.jpg', '036904.jpg', '036921.jpg', '036922.jpg', '036938.jpg', '036999.jpg', '037045.jpg', '037054.jpg', '037156.jpg', '037191.jpg', '037196.jpg', '037208.jpg', '037230.jpg', '037247.jpg', '037255.jpg', '037328.jpg', '037343.jpg', '037344.jpg', '037361.jpg', '037406.jpg', '037425.jpg', '037441.jpg', '037466.jpg', '037467.jpg', '037473.jpg', '037475.jpg', '037495.jpg', '037508.jpg', '037512.jpg', '037513.jpg', '037520.jpg', '037524.jpg', '037542.jpg', '037567.jpg', '037578.jpg', '037582.jpg', '037592.jpg', '037611.jpg', '037616.jpg', '037624.jpg', '037638.jpg', '037654.jpg', '037672.jpg', '037703.jpg', '037732.jpg', '037749.jpg', '037758.jpg', '037765.jpg', '037815.jpg', '037833.jpg', '037840.jpg', '037847.jpg', '037862.jpg', '037869.jpg', '037881.jpg', '037884.jpg', '037901.jpg', '037907.jpg', '037953.jpg', '037975.jpg', '038012.jpg', '038043.jpg', '038104.jpg', '038105.jpg', '038116.jpg', '038141.jpg', '038198.jpg', '038202.jpg', '038203.jpg', '038218.jpg', '038219.jpg', '038234.jpg', '038244.jpg', '038268.jpg', '038269.jpg', '038273.jpg', '038275.jpg', '038277.jpg', '038287.jpg', '038290.jpg', '038312.jpg', '038330.jpg', '038355.jpg', '038356.jpg', '038367.jpg', '038407.jpg', '038438.jpg', '038454.jpg', '038467.jpg', '038481.jpg', '038485.jpg', '038493.jpg', '038515.jpg', '038550.jpg', '038561.jpg', '038569.jpg', '038620.jpg', '038705.jpg', '038717.jpg', '038729.jpg', '038730.jpg', '038756.jpg', '038766.jpg', '038771.jpg', '038806.jpg', '038808.jpg', '038809.jpg', '038815.jpg', '038818.jpg', '038836.jpg', '038856.jpg', '038879.jpg', '038892.jpg', '038944.jpg', '038948.jpg', '038967.jpg', '038981.jpg', '038985.jpg', '038986.jpg', '039010.jpg', '039030.jpg', '039031.jpg', '039043.jpg', '039048.jpg', '039079.jpg', '039102.jpg', '039108.jpg', '039143.jpg', '039166.jpg', '039200.jpg', '039219.jpg', '039236.jpg', '039240.jpg', '039267.jpg', '039272.jpg', '039316.jpg', '039362.jpg', '039396.jpg', '039405.jpg', '039413.jpg', '039428.jpg', '039455.jpg', '039478.jpg', '039484.jpg', '039502.jpg', '039505.jpg', '039509.jpg', '039533.jpg', '039563.jpg', '039574.jpg', '039579.jpg', '039638.jpg', '039677.jpg', '039685.jpg', '039688.jpg', '039726.jpg', '039741.jpg', '039752.jpg', '039776.jpg', '039812.jpg', '039837.jpg', '039840.jpg', '039856.jpg', '039884.jpg', '039886.jpg', '039917.jpg', '039922.jpg', '039950.jpg', '039973.jpg', '039983.jpg', '040001.jpg', '040003.jpg', '040019.jpg', '040023.jpg', '040092.jpg', '040101.jpg', '040127.jpg', '040142.jpg', '040196.jpg', '040204.jpg', '040216.jpg', '040223.jpg', '040247.jpg', '040270.jpg', '040309.jpg', '040314.jpg', '040323.jpg', '040327.jpg', '040362.jpg', '040386.jpg', '040426.jpg', '040442.jpg', '040458.jpg', '040571.jpg', '040572.jpg', '040616.jpg', '040617.jpg', '040618.jpg', '040626.jpg', '040631.jpg', '040635.jpg', '040644.jpg', '040777.jpg', '040779.jpg', '040790.jpg', '040805.jpg', '040816.jpg', '040830.jpg', '040878.jpg', '040885.jpg', '040913.jpg', '040922.jpg', '040925.jpg', '040980.jpg', '041040.jpg', '041049.jpg', '041079.jpg', '041104.jpg', '041159.jpg', '041182.jpg', '041188.jpg', '041224.jpg', '041233.jpg', '041240.jpg', '041273.jpg', '041279.jpg', '041290.jpg', '041329.jpg', '041347.jpg', '041370.jpg', '041385.jpg', '041395.jpg', '041400.jpg', '041457.jpg', '041485.jpg', '041495.jpg', '041507.jpg', '041531.jpg', '041583.jpg', '041606.jpg', '041657.jpg', '041659.jpg', '041674.jpg', '041709.jpg', '041726.jpg', '041827.jpg', '041838.jpg', '041841.jpg', '041847.jpg', '041872.jpg', '041883.jpg', '041889.jpg', '041901.jpg', '041905.jpg', '041920.jpg', '041964.jpg', '041978.jpg', '041982.jpg', '042003.jpg', '042008.jpg', '042106.jpg', '042195.jpg', '042205.jpg', '042208.jpg', '042230.jpg', '042248.jpg', '042254.jpg', '042262.jpg', '042280.jpg', '042300.jpg', '042339.jpg', '042354.jpg', '042407.jpg', '042440.jpg', '042456.jpg', '042458.jpg', '042479.jpg', '042521.jpg', '042559.jpg', '042576.jpg', '042584.jpg', '042588.jpg', '042598.jpg', '042627.jpg', '042631.jpg', '042651.jpg', '042664.jpg', '042683.jpg', '042705.jpg', '042724.jpg', '042737.jpg', '042754.jpg', '042759.jpg', '042769.jpg', '042770.jpg', '042773.jpg', '042774.jpg', '042800.jpg', '042822.jpg', '042826.jpg', '042853.jpg', '042868.jpg', '042870.jpg', '042873.jpg', '042886.jpg', '042895.jpg', '042951.jpg', '042955.jpg', '042968.jpg', '042974.jpg', '042989.jpg', '042996.jpg', '043008.jpg', '043051.jpg', '043058.jpg', '043069.jpg', '043081.jpg', '043096.jpg', '043105.jpg', '043106.jpg', '043121.jpg', '043181.jpg', '043186.jpg', '043208.jpg', '043209.jpg', '043229.jpg', '043263.jpg', '043277.jpg', '043278.jpg', '043287.jpg', '043289.jpg', '043297.jpg', '043323.jpg', '043329.jpg', '043339.jpg', '043348.jpg', '043371.jpg', '043376.jpg', '043380.jpg', '043400.jpg', '043418.jpg', '043424.jpg', '043427.jpg', '043436.jpg', '043438.jpg', '043447.jpg', '043474.jpg', '043508.jpg', '043556.jpg', '043563.jpg', '043574.jpg', '043593.jpg', '043668.jpg', '043724.jpg', '043733.jpg', '043764.jpg', '043779.jpg', '043805.jpg', '043824.jpg', '043829.jpg', '043847.jpg', '043876.jpg', '043883.jpg', '043889.jpg', '043898.jpg', '043943.jpg', '043967.jpg', '044007.jpg', '044011.jpg', '044021.jpg', '044069.jpg', '044104.jpg', '044105.jpg', '044121.jpg', '044135.jpg', '044170.jpg', '044186.jpg', '044203.jpg', '044206.jpg', '044233.jpg', '044244.jpg', '044250.jpg', '044252.jpg', '044267.jpg', '044270.jpg', '044313.jpg', '044342.jpg', '044344.jpg', '044407.jpg', '044425.jpg', '044437.jpg', '044492.jpg', '044494.jpg', '044507.jpg', '044555.jpg', '044594.jpg', '044595.jpg', '044621.jpg', '044641.jpg', '044653.jpg', '044699.jpg', '044709.jpg', '044713.jpg', '044816.jpg', '044817.jpg', '044824.jpg', '044916.jpg', '044917.jpg', '044931.jpg', '044937.jpg', '044952.jpg', '044967.jpg', '044977.jpg', '045021.jpg', '045039.jpg', '045042.jpg', '045058.jpg', '045076.jpg', '045118.jpg', '045137.jpg', '045145.jpg', '045154.jpg', '045157.jpg', '045169.jpg', '045199.jpg', '045219.jpg', '045235.jpg', '045260.jpg', '045269.jpg', '045283.jpg', '045310.jpg', '045315.jpg', '045355.jpg', '045407.jpg', '045417.jpg', '045464.jpg', '045480.jpg', '045482.jpg', '045489.jpg', '045515.jpg', '045520.jpg', '045531.jpg', '045535.jpg', '045546.jpg', '045597.jpg', '045600.jpg', '045667.jpg', '045672.jpg', '045680.jpg', '045744.jpg', '045758.jpg', '045778.jpg', '045793.jpg', '045801.jpg', '045811.jpg', '045845.jpg', '045852.jpg', '045854.jpg', '045868.jpg', '045889.jpg', '045891.jpg', '045901.jpg', '045911.jpg', '045958.jpg', '045983.jpg', '045986.jpg', '046001.jpg', '046016.jpg', '046040.jpg', '046083.jpg', '046088.jpg', '046096.jpg', '046129.jpg', '046143.jpg', '046146.jpg', '046153.jpg', '046188.jpg', '046194.jpg', '046200.jpg', '046203.jpg', '046208.jpg', '046236.jpg', '046243.jpg', '046252.jpg', '046295.jpg', '046298.jpg', '046315.jpg', '046340.jpg', '046360.jpg', '046396.jpg', '046441.jpg', '046474.jpg', '046480.jpg', '046544.jpg', '046563.jpg', '046635.jpg', '046654.jpg', '046662.jpg', '046685.jpg', '046714.jpg', '046726.jpg', '046736.jpg', '046738.jpg', '046749.jpg', '046753.jpg', '046812.jpg', '046847.jpg', '046877.jpg', '046890.jpg', '046892.jpg', '046893.jpg', '046938.jpg', '046946.jpg', '046956.jpg', '046972.jpg', '046975.jpg', '047007.jpg', '047122.jpg', '047130.jpg', '047149.jpg', '047212.jpg', '047264.jpg', '047278.jpg', '047326.jpg', '047335.jpg', '047337.jpg', '047364.jpg', '047396.jpg', '047433.jpg', '047448.jpg', '047478.jpg', '047480.jpg', '047511.jpg', '047540.jpg', '047602.jpg', '047625.jpg', '047643.jpg', '047673.jpg', '047734.jpg', '047737.jpg', '047753.jpg', '047764.jpg', '047767.jpg', '047768.jpg', '047784.jpg', '047785.jpg', '047816.jpg', '047825.jpg', '047849.jpg', '047874.jpg', '047877.jpg', '047881.jpg', '047893.jpg', '047935.jpg', '047950.jpg', '047974.jpg', '047990.jpg', '047995.jpg', '048005.jpg', '048019.jpg', '048025.jpg', '048045.jpg', '048054.jpg', '048105.jpg', '048119.jpg', '048131.jpg', '048146.jpg', '048165.jpg', '048179.jpg', '048189.jpg', '048207.jpg', '048211.jpg', '048259.jpg', '048322.jpg', '048348.jpg', '048349.jpg', '048354.jpg', '048357.jpg', '048360.jpg', '048364.jpg', '048365.jpg', '048392.jpg', '048416.jpg', '048420.jpg', '048427.jpg', '048433.jpg', '048447.jpg', '048452.jpg', '048456.jpg', '048486.jpg', '048499.jpg', '048585.jpg', '048616.jpg', '048622.jpg', '048722.jpg', '048732.jpg', '048804.jpg', '048820.jpg', '048877.jpg', '048885.jpg', '048897.jpg', '048916.jpg', '048944.jpg', '048948.jpg', '048950.jpg', '048969.jpg', '049006.jpg', '049084.jpg', '049113.jpg', '049122.jpg', '049152.jpg', '049229.jpg', '049231.jpg', '049251.jpg', '049296.jpg', '049302.jpg', '049309.jpg', '049314.jpg', '049368.jpg', '049387.jpg', '049461.jpg', '049496.jpg', '049511.jpg', '049551.jpg', '049554.jpg', '049572.jpg', '049578.jpg', '049601.jpg', '049605.jpg', '049622.jpg', '049624.jpg', '049628.jpg', '049629.jpg', '049683.jpg', '049684.jpg', '049703.jpg', '049799.jpg', '049837.jpg', '049868.jpg', '049877.jpg', '049892.jpg', '049903.jpg', '049907.jpg', '049920.jpg', '049976.jpg', '049977.jpg', '050013.jpg', '050016.jpg', '050034.jpg', '050040.jpg', '050138.jpg', '050197.jpg', '050206.jpg', '050215.jpg', '050224.jpg', '050238.jpg', '050248.jpg', '050255.jpg', '050279.jpg', '050311.jpg', '050314.jpg', '050323.jpg', '050327.jpg', '050347.jpg', '050355.jpg', '050374.jpg', '050385.jpg', '050404.jpg', '050413.jpg', '050423.jpg', '050447.jpg', '050453.jpg', '050484.jpg', '050516.jpg', '050528.jpg', '050529.jpg', '050555.jpg', '050613.jpg', '050649.jpg', '050660.jpg', '050692.jpg', '050693.jpg', '050699.jpg', '050720.jpg', '050760.jpg', '050763.jpg', '050765.jpg', '050791.jpg', '050796.jpg', '050813.jpg', '050864.jpg', '050868.jpg', '050912.jpg', '050925.jpg', '050927.jpg', '050962.jpg', '050989.jpg', '050995.jpg', '050996.jpg', '050998.jpg', '051002.jpg', '051008.jpg', '051016.jpg', '051032.jpg', '051038.jpg', '051057.jpg', '051084.jpg', '051095.jpg', '051104.jpg', '051119.jpg', '051167.jpg', '051176.jpg', '051178.jpg', '051179.jpg', '051186.jpg', '051199.jpg', '051215.jpg', '051228.jpg', '051238.jpg', '051243.jpg', '051263.jpg', '051279.jpg', '051292.jpg', '051310.jpg', '051347.jpg', '051350.jpg', '051408.jpg', '051434.jpg', '051478.jpg', '051482.jpg', '051487.jpg', '051499.jpg', '051505.jpg', '051525.jpg', '051540.jpg', '051549.jpg', '051553.jpg', '051556.jpg', '051564.jpg', '051574.jpg', '051577.jpg', '051609.jpg', '051644.jpg', '051655.jpg', '051658.jpg', '051678.jpg', '051694.jpg', '051710.jpg', '051802.jpg', '051834.jpg', '051838.jpg', '051853.jpg', '051858.jpg', '051862.jpg', '051863.jpg', '051888.jpg', '051930.jpg', '051945.jpg', '051958.jpg', '051959.jpg', '051969.jpg', '051993.jpg', '052006.jpg', '052029.jpg', '052039.jpg', '052078.jpg', '052080.jpg', '052098.jpg', '052113.jpg', '052122.jpg', '052173.jpg', '052205.jpg', '052208.jpg', '052221.jpg', '052224.jpg', '052232.jpg', '052237.jpg', '052256.jpg', '052269.jpg', '052332.jpg', '052344.jpg', '052375.jpg', '052385.jpg', '052400.jpg', '052418.jpg', '052442.jpg', '052465.jpg', '052470.jpg', '052526.jpg', '052532.jpg', '052534.jpg', '052594.jpg', '052644.jpg', '052694.jpg', '052719.jpg', '052724.jpg', '052760.jpg', '052784.jpg', '052833.jpg', '052882.jpg', '052929.jpg', '052946.jpg', '052947.jpg', '052950.jpg', '053034.jpg', '053048.jpg', '053111.jpg', '053117.jpg', '053146.jpg', '053171.jpg', '053174.jpg', '053257.jpg', '053265.jpg', '053283.jpg', '053286.jpg', '053309.jpg', '053315.jpg', '053346.jpg', '053352.jpg', '053369.jpg', '053395.jpg', '053433.jpg', '053467.jpg', '053478.jpg', '053485.jpg', '053492.jpg', '053511.jpg', '053533.jpg', '053543.jpg', '053610.jpg', '053628.jpg', '053650.jpg', '053681.jpg', '053698.jpg', '053713.jpg', '053749.jpg', '053751.jpg', '053777.jpg', '053794.jpg', '053813.jpg', '053819.jpg', '053821.jpg', '053836.jpg', '053858.jpg', '053876.jpg', '053894.jpg', '053931.jpg', '053956.jpg', '053983.jpg', '054026.jpg', '054043.jpg', '054149.jpg', '054170.jpg', '054223.jpg', '054242.jpg', '054246.jpg', '054250.jpg', '054266.jpg', '054276.jpg', '054277.jpg', '054281.jpg', '054314.jpg', '054317.jpg', '054322.jpg', '054341.jpg', '054406.jpg', '054427.jpg', '054428.jpg', '054444.jpg', '054485.jpg', '054508.jpg', '054537.jpg', '054557.jpg', '054566.jpg', '054584.jpg', '054588.jpg', '054615.jpg', '054623.jpg', '054662.jpg', '054667.jpg', '054670.jpg', '054691.jpg', '054714.jpg', '054730.jpg', '054734.jpg', '054808.jpg', '054834.jpg', '054844.jpg', '054851.jpg', '054958.jpg', '055078.jpg', '055081.jpg', '055102.jpg', '055130.jpg', '055131.jpg', '055159.jpg', '055177.jpg', '055205.jpg', '055233.jpg', '055246.jpg', '055259.jpg', '055272.jpg', '055280.jpg', '055311.jpg', '055389.jpg', '055408.jpg', '055414.jpg', '055425.jpg', '055467.jpg', '055476.jpg', '055500.jpg', '055502.jpg', '055523.jpg', '055525.jpg', '055532.jpg', '055537.jpg', '055542.jpg', '055570.jpg', '055577.jpg', '055597.jpg', '055606.jpg', '055607.jpg', '055616.jpg', '055645.jpg', '055662.jpg', '055678.jpg', '055685.jpg', '055692.jpg', '055693.jpg', '055695.jpg', '055721.jpg', '055723.jpg', '055752.jpg', '055778.jpg', '055779.jpg', '055803.jpg', '055820.jpg', '055896.jpg', '055897.jpg', '055967.jpg', '056009.jpg', '056016.jpg', '056057.jpg', '056065.jpg', '056072.jpg', '056077.jpg', '056082.jpg', '056116.jpg', '056128.jpg', '056169.jpg', '056203.jpg', '056217.jpg', '056233.jpg', '056242.jpg', '056254.jpg', '056307.jpg', '056316.jpg', '056317.jpg', '056418.jpg', '056499.jpg', '056524.jpg', '056590.jpg', '056591.jpg', '056601.jpg', '056607.jpg', '056621.jpg', '056642.jpg', '056651.jpg', '056703.jpg', '056725.jpg', '056732.jpg', '056738.jpg', '056742.jpg', '056821.jpg', '056842.jpg', '056843.jpg', '056881.jpg', '056912.jpg', '056921.jpg', '056948.jpg', '056968.jpg', '056978.jpg', '056992.jpg', '057026.jpg', '057027.jpg', '057071.jpg', '057073.jpg', '057110.jpg', '057146.jpg', '057163.jpg', '057169.jpg', '057177.jpg', '057220.jpg', '057228.jpg', '057253.jpg', '057306.jpg', '057309.jpg', '057353.jpg', '057389.jpg', '057397.jpg', '057435.jpg', '057455.jpg', '057483.jpg', '057498.jpg', '057511.jpg', '057547.jpg', '057554.jpg', '057556.jpg', '057594.jpg', '057627.jpg', '057634.jpg', '057663.jpg', '057668.jpg', '057680.jpg', '057684.jpg', '057697.jpg', '057710.jpg', '057716.jpg', '057743.jpg', '057772.jpg', '057773.jpg', '057865.jpg', '057922.jpg', '057951.jpg', '057975.jpg', '057979.jpg', '057981.jpg', '057985.jpg', '058004.jpg', '058045.jpg', '058066.jpg', '058085.jpg', '058104.jpg', '058145.jpg', '058167.jpg', '058217.jpg', '058244.jpg', '058281.jpg', '058305.jpg', '058316.jpg', '058319.jpg', '058333.jpg', '058337.jpg', '058344.jpg', '058351.jpg', '058356.jpg', '058380.jpg', '058395.jpg', '058413.jpg', '058437.jpg', '058455.jpg', '058478.jpg', '058514.jpg', '058558.jpg', '058566.jpg', '058573.jpg', '058607.jpg', '058610.jpg', '058611.jpg', '058632.jpg', '058634.jpg', '058658.jpg', '058672.jpg', '058674.jpg', '058682.jpg', '058722.jpg', '058730.jpg', '058777.jpg', '058784.jpg', '058796.jpg', '058820.jpg', '058843.jpg', '058861.jpg', '058866.jpg', '058924.jpg', '058956.jpg', '058960.jpg', '058983.jpg', '059002.jpg', '059029.jpg', '059050.jpg', '059062.jpg', '059090.jpg', '059094.jpg', '059112.jpg', '059149.jpg', '059169.jpg', '059192.jpg', '059231.jpg', '059233.jpg', '059286.jpg', '059309.jpg', '059315.jpg', '059316.jpg', '059327.jpg', '059328.jpg', '059332.jpg', '059341.jpg', '059396.jpg', '059405.jpg', '059412.jpg', '059421.jpg', '059427.jpg', '059456.jpg', '059485.jpg', '059491.jpg', '059500.jpg', '059527.jpg', '059545.jpg', '059582.jpg', '059675.jpg', '059684.jpg', '059710.jpg', '059733.jpg', '059751.jpg', '059804.jpg', '059832.jpg', '059856.jpg', '059883.jpg', '059898.jpg', '059951.jpg', '059987.jpg', '060027.jpg', '060031.jpg', '060072.jpg', '060091.jpg', '060137.jpg', '060152.jpg', '060164.jpg', '060197.jpg', '060201.jpg', '060221.jpg', '060236.jpg', '060245.jpg', '060271.jpg', '060282.jpg', '060292.jpg', '060337.jpg', '060354.jpg', '060381.jpg', '060392.jpg', '060406.jpg', '060413.jpg', '060435.jpg', '060477.jpg', '060482.jpg', '060485.jpg', '060520.jpg', '060567.jpg', '060592.jpg', '060599.jpg', '060602.jpg', '060655.jpg', '060661.jpg', '060671.jpg', '060677.jpg', '060699.jpg', '060783.jpg', '060827.jpg', '060833.jpg', '060864.jpg', '060872.jpg', '060879.jpg', '060888.jpg', '060891.jpg', '060950.jpg', '060984.jpg', '061011.jpg', '061045.jpg', '061066.jpg', '061084.jpg', '061105.jpg', '061109.jpg', '061115.jpg', '061119.jpg', '061121.jpg', '061129.jpg', '061143.jpg', '061145.jpg', '061189.jpg', '061207.jpg', '061213.jpg', '061223.jpg', '061224.jpg', '061272.jpg', '061281.jpg', '061288.jpg', '061292.jpg', '061297.jpg', '061300.jpg', '061301.jpg', '061309.jpg', '061312.jpg', '061334.jpg', '061337.jpg', '061338.jpg', '061341.jpg', '061351.jpg', '061363.jpg', '061375.jpg', '061382.jpg', '061388.jpg', '061411.jpg', '061442.jpg', '061457.jpg', '061467.jpg', '061481.jpg', '061509.jpg', '061516.jpg', '061579.jpg', '061582.jpg', '061589.jpg', '061595.jpg', '061598.jpg', '061638.jpg', '061639.jpg', '061659.jpg', '061676.jpg', '061710.jpg', '061730.jpg', '061757.jpg', '061761.jpg', '061766.jpg', '061798.jpg', '061799.jpg', '061809.jpg', '061835.jpg', '061837.jpg', '061872.jpg', '061930.jpg', '061934.jpg', '061942.jpg', '061982.jpg', '062033.jpg', '062098.jpg', '062115.jpg', '062118.jpg', '062140.jpg', '062240.jpg', '062352.jpg', '062359.jpg', '062407.jpg', '062428.jpg', '062435.jpg', '062438.jpg', '062461.jpg', '062496.jpg', '062501.jpg', '062514.jpg', '062522.jpg', '062524.jpg', '062536.jpg', '062541.jpg', '062561.jpg', '062571.jpg', '062592.jpg', '062605.jpg', '062667.jpg', '062692.jpg', '062748.jpg', '062758.jpg', '062759.jpg', '062774.jpg', '062777.jpg', '062800.jpg', '062813.jpg', '062881.jpg', '062891.jpg', '062900.jpg', '062922.jpg', '062992.jpg', '063039.jpg', '063060.jpg', '063065.jpg', '063074.jpg', '063092.jpg', '063108.jpg', '063134.jpg', '063143.jpg', '063152.jpg', '063172.jpg', '063187.jpg', '063195.jpg', '063237.jpg', '063243.jpg', '063273.jpg', '063274.jpg', '063305.jpg', '063314.jpg', '063340.jpg', '063358.jpg', '063360.jpg', '063372.jpg', '063393.jpg', '063461.jpg', '063468.jpg', '063469.jpg', '063481.jpg', '063530.jpg', '063531.jpg', '063565.jpg', '063574.jpg', '063581.jpg', '063583.jpg', '063636.jpg', '063640.jpg', '063651.jpg', '063658.jpg', '063659.jpg', '063688.jpg', '063689.jpg', '063738.jpg', '063747.jpg', '063762.jpg', '063771.jpg', '063772.jpg', '063788.jpg', '063804.jpg', '063816.jpg', '063867.jpg', '063889.jpg', '063897.jpg', '063925.jpg', '063941.jpg', '063975.jpg', '064001.jpg', '064005.jpg', '064034.jpg', '064050.jpg', '064052.jpg', '064090.jpg', '064111.jpg', '064159.jpg', '064203.jpg', '064245.jpg', '064257.jpg', '064258.jpg', '064260.jpg', '064293.jpg', '064375.jpg', '064379.jpg', '064382.jpg', '064403.jpg', '064415.jpg', '064428.jpg', '064431.jpg', '064467.jpg', '064474.jpg', '064523.jpg', '064532.jpg', '064538.jpg', '064559.jpg', '064562.jpg', '064568.jpg', '064571.jpg', '064575.jpg', '064576.jpg', '064580.jpg', '064650.jpg', '064651.jpg', '064655.jpg', '064663.jpg', '064676.jpg', '064715.jpg', '064753.jpg', '064759.jpg', '064801.jpg', '064810.jpg', '064835.jpg', '064841.jpg', '064852.jpg', '064874.jpg', '064892.jpg', '064921.jpg', '064973.jpg', '065017.jpg', '065021.jpg', '065043.jpg', '065049.jpg', '065057.jpg', '065059.jpg', '065083.jpg', '065099.jpg', '065105.jpg', '065127.jpg', '065189.jpg', '065204.jpg', '065213.jpg', '065243.jpg', '065281.jpg', '065284.jpg', '065304.jpg', '065309.jpg', '065330.jpg', '065343.jpg', '065352.jpg', '065390.jpg', '065433.jpg', '065464.jpg', '065497.jpg', '065499.jpg', '065509.jpg', '065546.jpg', '065555.jpg', '065556.jpg', '065572.jpg', '065577.jpg', '065580.jpg', '065584.jpg', '065601.jpg', '065643.jpg', '065657.jpg', '065658.jpg', '065683.jpg', '065775.jpg', '065824.jpg', '065881.jpg', '065897.jpg', '065980.jpg', '065981.jpg', '066029.jpg', '066064.jpg', '066087.jpg', '066092.jpg', '066095.jpg', '066124.jpg', '066127.jpg', '066149.jpg', '066152.jpg', '066171.jpg', '066185.jpg', '066196.jpg', '066215.jpg', '066218.jpg', '066226.jpg', '066252.jpg', '066254.jpg', '066306.jpg', '066308.jpg', '066314.jpg', '066332.jpg', '066358.jpg', '066403.jpg', '066444.jpg', '066468.jpg', '066479.jpg', '066514.jpg', '066551.jpg', '066552.jpg', '066556.jpg', '066581.jpg', '066600.jpg', '066663.jpg', '066677.jpg', '066692.jpg', '066699.jpg', '066703.jpg', '066719.jpg', '066809.jpg', '066821.jpg', '066837.jpg', '066860.jpg', '066947.jpg', '066954.jpg', '066970.jpg', '066985.jpg', '067028.jpg', '067030.jpg', '067033.jpg', '067064.jpg', '067069.jpg', '067112.jpg', '067145.jpg', '067161.jpg', '067202.jpg', '067203.jpg', '067207.jpg', '067318.jpg', '067335.jpg', '067411.jpg', '067416.jpg', '067433.jpg', '067511.jpg', '067524.jpg', '067595.jpg', '067600.jpg', '067636.jpg', '067639.jpg', '067687.jpg', '067699.jpg', '067713.jpg', '067714.jpg', '067720.jpg', '067722.jpg', '067751.jpg', '067752.jpg', '067776.jpg', '067818.jpg', '067822.jpg', '067831.jpg', '067840.jpg', '067845.jpg', '067875.jpg', '067903.jpg', '067915.jpg', '067937.jpg', '067947.jpg', '067971.jpg', '068032.jpg', '068035.jpg', '068052.jpg', '068077.jpg', '068079.jpg', '068083.jpg', '068085.jpg', '068100.jpg', '068104.jpg', '068159.jpg', '068168.jpg', '068199.jpg', '068225.jpg', '068226.jpg', '068248.jpg', '068258.jpg', '068293.jpg', '068300.jpg', '068328.jpg', '068382.jpg', '068385.jpg', '068478.jpg', '068496.jpg', '068515.jpg', '068526.jpg', '068542.jpg', '068548.jpg', '068558.jpg', '068582.jpg', '068602.jpg', '068614.jpg', '068657.jpg', '068669.jpg', '068681.jpg', '068686.jpg', '068736.jpg', '068742.jpg', '068770.jpg', '068788.jpg', '068803.jpg', '068817.jpg', '068838.jpg', '068850.jpg', '068889.jpg', '068892.jpg', '068894.jpg', '068972.jpg', '068977.jpg', '068978.jpg', '068988.jpg', '068995.jpg', '069005.jpg', '069011.jpg', '069032.jpg', '069067.jpg', '069121.jpg', '069127.jpg', '069148.jpg', '069195.jpg', '069207.jpg', '069223.jpg', '069226.jpg', '069235.jpg', '069266.jpg', '069280.jpg', '069293.jpg', '069333.jpg', '069337.jpg', '069343.jpg', '069365.jpg', '069374.jpg', '069385.jpg', '069401.jpg', '069407.jpg', '069424.jpg', '069461.jpg', '069510.jpg', '069534.jpg', '069564.jpg', '069588.jpg', '069619.jpg', '069646.jpg', '069664.jpg', '069668.jpg', '069674.jpg', '069678.jpg', '069680.jpg', '069721.jpg', '069740.jpg', '069749.jpg', '069760.jpg', '069786.jpg', '069822.jpg', '069827.jpg', '069847.jpg', '069851.jpg', '069887.jpg', '069895.jpg', '069899.jpg', '069940.jpg', '069964.jpg', '070001.jpg', '070026.jpg', '070028.jpg', '070033.jpg', '070051.jpg', '070063.jpg', '070075.jpg', '070112.jpg', '070114.jpg', '070125.jpg', '070143.jpg', '070147.jpg', '070156.jpg', '070189.jpg', '070211.jpg', '070244.jpg', '070274.jpg', '070296.jpg', '070304.jpg', '070331.jpg', '070356.jpg', '070375.jpg', '070387.jpg', '070401.jpg', '070420.jpg', '070442.jpg', '070463.jpg', '070474.jpg', '070476.jpg', '070503.jpg', '070525.jpg', '070541.jpg', '070551.jpg', '070566.jpg', '070587.jpg', '070591.jpg', '070595.jpg', '070622.jpg', '070640.jpg', '070679.jpg', '070691.jpg', '070697.jpg', '070713.jpg', '070716.jpg', '070718.jpg', '070766.jpg', '070778.jpg', '070794.jpg', '070814.jpg', '070899.jpg', '070906.jpg', '070912.jpg', '070923.jpg', '070929.jpg', '070936.jpg', '070960.jpg', '070970.jpg', '070991.jpg', '071014.jpg', '071025.jpg', '071028.jpg', '071037.jpg', '071069.jpg', '071083.jpg', '071112.jpg', '071114.jpg', '071122.jpg', '071134.jpg', '071142.jpg', '071161.jpg', '071162.jpg', '071174.jpg', '071200.jpg', '071214.jpg', '071220.jpg', '071240.jpg', '071263.jpg', '071268.jpg', '071275.jpg', '071284.jpg', '071295.jpg', '071303.jpg', '071372.jpg', '071418.jpg', '071427.jpg', '071430.jpg', '071434.jpg', '071437.jpg', '071463.jpg', '071504.jpg', '071562.jpg', '071570.jpg', '071589.jpg', '071593.jpg', '071618.jpg', '071655.jpg', '071664.jpg', '071721.jpg', '071731.jpg', '071745.jpg', '071753.jpg', '071774.jpg', '071785.jpg', '071834.jpg', '071852.jpg', '071917.jpg', '071935.jpg', '071944.jpg', '071953.jpg', '071990.jpg', '071991.jpg', '071994.jpg', '072044.jpg', '072055.jpg', '072082.jpg', '072083.jpg', '072100.jpg', '072134.jpg', '072165.jpg', '072166.jpg', '072197.jpg', '072205.jpg', '072213.jpg', '072216.jpg', '072234.jpg', '072289.jpg', '072303.jpg', '072322.jpg', '072330.jpg', '072339.jpg', '072414.jpg', '072421.jpg', '072465.jpg', '072479.jpg', '072510.jpg', '072512.jpg', '072537.jpg', '072542.jpg', '072547.jpg', '072590.jpg', '072606.jpg', '072618.jpg', '072631.jpg', '072641.jpg', '072646.jpg', '072652.jpg', '072693.jpg', '072709.jpg', '072716.jpg', '072731.jpg', '072767.jpg', '072789.jpg', '072791.jpg', '072804.jpg', '072872.jpg', '072891.jpg', '072929.jpg', '072944.jpg', '072967.jpg', '073007.jpg', '073018.jpg', '073067.jpg', '073093.jpg', '073163.jpg', '073166.jpg', '073183.jpg', '073185.jpg', '073221.jpg', '073229.jpg', '073260.jpg', '073301.jpg', '073390.jpg', '073394.jpg', '073415.jpg', '073422.jpg', '073427.jpg', '073442.jpg', '073474.jpg', '073506.jpg', '073512.jpg', '073520.jpg', '073549.jpg', '073551.jpg', '073553.jpg', '073570.jpg', '073579.jpg', '073584.jpg', '073618.jpg', '073634.jpg', '073643.jpg', '073667.jpg', '073696.jpg', '073718.jpg', '073755.jpg', '073786.jpg', '073789.jpg', '073795.jpg', '073800.jpg', '073803.jpg', '073810.jpg', '073846.jpg', '073886.jpg', '073943.jpg', '073952.jpg', '073974.jpg', '073983.jpg', '074040.jpg', '074101.jpg', '074140.jpg', '074145.jpg', '074178.jpg', '074299.jpg', '074302.jpg', '074318.jpg', '074356.jpg', '074387.jpg', '074431.jpg', '074434.jpg', '074460.jpg', '074486.jpg', '074541.jpg', '074559.jpg', '074571.jpg', '074591.jpg', '074614.jpg', '074620.jpg', '074629.jpg', '074676.jpg', '074681.jpg', '074698.jpg', '074711.jpg', '074723.jpg', '074733.jpg', '074772.jpg', '074794.jpg', '074813.jpg', '074832.jpg', '074862.jpg', '074864.jpg', '074867.jpg', '074882.jpg', '074915.jpg', '074917.jpg', '074919.jpg', '074931.jpg', '074933.jpg', '074943.jpg', '074945.jpg', '074949.jpg', '074950.jpg', '074996.jpg', '075007.jpg', '075033.jpg', '075068.jpg', '075070.jpg', '075082.jpg', '075097.jpg', '075102.jpg', '075135.jpg', '075136.jpg', '075145.jpg', '075167.jpg', '075171.jpg', '075201.jpg', '075214.jpg', '075241.jpg', '075282.jpg', '075334.jpg', '075383.jpg', '075403.jpg', '075412.jpg', '075433.jpg', '075434.jpg', '075453.jpg', '075534.jpg', '075538.jpg', '075570.jpg', '075579.jpg', '075581.jpg', '075634.jpg', '075662.jpg', '075706.jpg', '075725.jpg', '075739.jpg', '075752.jpg', '075762.jpg', '075794.jpg', '075821.jpg', '075844.jpg', '075845.jpg', '075856.jpg', '075887.jpg', '075896.jpg', '075897.jpg', '075900.jpg', '075913.jpg', '075946.jpg', '076010.jpg', '076037.jpg', '076042.jpg', '076045.jpg', '076052.jpg', '076061.jpg', '076103.jpg', '076138.jpg', '076155.jpg', '076159.jpg', '076164.jpg', '076179.jpg', '076194.jpg', '076237.jpg', '076255.jpg', '076263.jpg', '076354.jpg', '076359.jpg', '076376.jpg', '076431.jpg', '076464.jpg', '076468.jpg', '076476.jpg', '076479.jpg', '076487.jpg', '076488.jpg', '076494.jpg', '076510.jpg', '076522.jpg', '076537.jpg', '076547.jpg', '076579.jpg', '076587.jpg', '076626.jpg', '076672.jpg', '076681.jpg', '076689.jpg', '076701.jpg', '076702.jpg', '076739.jpg', '076784.jpg', '076786.jpg', '076819.jpg', '076840.jpg', '076892.jpg', '076914.jpg', '076975.jpg', '076997.jpg', '076998.jpg', '076999.jpg', '077037.jpg', '077053.jpg', '077071.jpg', '077082.jpg', '077099.jpg', '077103.jpg', '077125.jpg', '077166.jpg', '077192.jpg', '077213.jpg', '077223.jpg', '077238.jpg', '077242.jpg', '077282.jpg', '077290.jpg', '077291.jpg', '077299.jpg', '077322.jpg', '077330.jpg', '077351.jpg', '077372.jpg', '077445.jpg', '077465.jpg', '077499.jpg', '077502.jpg', '077503.jpg', '077530.jpg', '077581.jpg', '077596.jpg', '077615.jpg', '077626.jpg', '077627.jpg', '077657.jpg', '077724.jpg', '077751.jpg', '077778.jpg', '077788.jpg', '077833.jpg', '077886.jpg', '077890.jpg', '077910.jpg', '077926.jpg', '077978.jpg', '078004.jpg', '078010.jpg', '078016.jpg', '078046.jpg', '078097.jpg', '078108.jpg', '078141.jpg', '078152.jpg', '078159.jpg', '078170.jpg', '078188.jpg', '078196.jpg', '078197.jpg', '078250.jpg', '078286.jpg', '078292.jpg', '078297.jpg', '078341.jpg', '078356.jpg', '078365.jpg', '078417.jpg', '078430.jpg', '078433.jpg', '078436.jpg', '078479.jpg', '078502.jpg', '078523.jpg', '078526.jpg', '078539.jpg', '078540.jpg', '078548.jpg', '078552.jpg', '078589.jpg', '078607.jpg', '078619.jpg', '078646.jpg', '078691.jpg', '078753.jpg', '078762.jpg', '078764.jpg', '078765.jpg', '078779.jpg', '078797.jpg', '078815.jpg', '078817.jpg', '078843.jpg', '078939.jpg', '078952.jpg', '079000.jpg', '079006.jpg', '079032.jpg', '079040.jpg', '079060.jpg', '079068.jpg', '079072.jpg', '079108.jpg', '079141.jpg', '079148.jpg', '079172.jpg', '079173.jpg', '079185.jpg', '079197.jpg', '079216.jpg', '079223.jpg', '079254.jpg', '079300.jpg', '079301.jpg', '079313.jpg', '079343.jpg', '079345.jpg', '079351.jpg', '079395.jpg', '079397.jpg', '079422.jpg', '079443.jpg', '079461.jpg', '079483.jpg', '079485.jpg', '079551.jpg', '079556.jpg', '079617.jpg', '079637.jpg', '079652.jpg', '079661.jpg', '079665.jpg', '079680.jpg', '079693.jpg', '079698.jpg', '079765.jpg', '079851.jpg', '079859.jpg', '079862.jpg', '079886.jpg', '079887.jpg', '079891.jpg', '079899.jpg', '079942.jpg', '079943.jpg', '079960.jpg', '079974.jpg', '079992.jpg', '079995.jpg', '080022.jpg', '080025.jpg', '080036.jpg', '080051.jpg', '080061.jpg', '080071.jpg', '080078.jpg', '080084.jpg', '080135.jpg', '080160.jpg', '080176.jpg', '080196.jpg', '080197.jpg', '080204.jpg', '080211.jpg', '080221.jpg', '080226.jpg', '080234.jpg', '080239.jpg', '080242.jpg', '080250.jpg', '080280.jpg', '080281.jpg', '080319.jpg', '080321.jpg', '080335.jpg', '080352.jpg', '080357.jpg', '080364.jpg', '080365.jpg', '080369.jpg', '080375.jpg', '080376.jpg', '080393.jpg', '080416.jpg', '080417.jpg', '080468.jpg', '080544.jpg', '080581.jpg', '080591.jpg', '080614.jpg', '080617.jpg', '080672.jpg', '080716.jpg', '080773.jpg', '080785.jpg', '080802.jpg', '080810.jpg', '080816.jpg', '080819.jpg', '080820.jpg', '080903.jpg', '080908.jpg', '080927.jpg', '080957.jpg', '080980.jpg', '081017.jpg', '081025.jpg', '081051.jpg', '081061.jpg', '081065.jpg', '081068.jpg', '081095.jpg', '081112.jpg', '081136.jpg', '081147.jpg', '081149.jpg', '081153.jpg', '081169.jpg', '081177.jpg', '081207.jpg', '081229.jpg', '081235.jpg', '081246.jpg', '081255.jpg', '081262.jpg', '081274.jpg', '081285.jpg', '081312.jpg', '081314.jpg', '081326.jpg', '081353.jpg', '081375.jpg', '081392.jpg', '081396.jpg', '081422.jpg', '081440.jpg', '081468.jpg', '081509.jpg', '081517.jpg', '081546.jpg', '081601.jpg', '081602.jpg', '081607.jpg', '081620.jpg', '081678.jpg', '081688.jpg', '081701.jpg', '081738.jpg', '081739.jpg', '081775.jpg', '081852.jpg', '081869.jpg', '081872.jpg', '081876.jpg', '081878.jpg', '081916.jpg', '081937.jpg', '081997.jpg', '082001.jpg', '082015.jpg', '082078.jpg', '082095.jpg', '082113.jpg', '082194.jpg', '082230.jpg', '082256.jpg', '082258.jpg', '082305.jpg', '082314.jpg', '082321.jpg', '082334.jpg', '082395.jpg', '082435.jpg', '082439.jpg', '082452.jpg', '082453.jpg', '082511.jpg', '082517.jpg', '082583.jpg', '082615.jpg', '082616.jpg', '082620.jpg', '082637.jpg', '082651.jpg', '082657.jpg', '082704.jpg', '082716.jpg', '082723.jpg', '082754.jpg', '082797.jpg', '082806.jpg', '082837.jpg', '082843.jpg', '082851.jpg', '082888.jpg', '082954.jpg', '082973.jpg', '082995.jpg', '082996.jpg', '083014.jpg', '083060.jpg', '083070.jpg', '083081.jpg', '083085.jpg', '083097.jpg', '083098.jpg', '083112.jpg', '083147.jpg', '083159.jpg', '083185.jpg', '083192.jpg', '083241.jpg', '083263.jpg', '083310.jpg', '083344.jpg', '083350.jpg', '083351.jpg', '083376.jpg', '083382.jpg', '083395.jpg', '083400.jpg', '083417.jpg', '083461.jpg', '083472.jpg', '083475.jpg', '083504.jpg', '083505.jpg', '083583.jpg', '083599.jpg', '083610.jpg', '083614.jpg', '083664.jpg', '083678.jpg', '083693.jpg', '083722.jpg', '083732.jpg', '083776.jpg', '083793.jpg', '083797.jpg', '083824.jpg', '083896.jpg', '083908.jpg', '083939.jpg', '083949.jpg', '083968.jpg', '083974.jpg', '083975.jpg', '083991.jpg', '084012.jpg', '084055.jpg', '084058.jpg', '084065.jpg', '084077.jpg', '084093.jpg', '084104.jpg', '084120.jpg', '084157.jpg', '084186.jpg', '084187.jpg', '084206.jpg', '084214.jpg', '084227.jpg', '084230.jpg', '084253.jpg', '084263.jpg', '084282.jpg', '084286.jpg', '084289.jpg', '084330.jpg', '084334.jpg', '084342.jpg', '084357.jpg', '084363.jpg', '084382.jpg', '084385.jpg', '084389.jpg', '084401.jpg', '084404.jpg', '084434.jpg', '084470.jpg', '084478.jpg', '084539.jpg', '084607.jpg', '084618.jpg', '084646.jpg', '084663.jpg', '084702.jpg', '084705.jpg', '084706.jpg', '084714.jpg', '084723.jpg', '084732.jpg', '084761.jpg', '084765.jpg', '084775.jpg', '084820.jpg', '084847.jpg', '084852.jpg', '084860.jpg', '084886.jpg', '084889.jpg', '084921.jpg', '084938.jpg', '084950.jpg', '084992.jpg', '084999.jpg', '085026.jpg', '085037.jpg', '085071.jpg', '085081.jpg', '085102.jpg', '085109.jpg', '085138.jpg', '085162.jpg', '085199.jpg', '085208.jpg', '085250.jpg', '085257.jpg', '085325.jpg', '085332.jpg', '085364.jpg', '085367.jpg', '085413.jpg', '085426.jpg', '085447.jpg', '085482.jpg', '085538.jpg', '085571.jpg', '085573.jpg', '085604.jpg', '085609.jpg', '085611.jpg', '085626.jpg', '085638.jpg', '085665.jpg', '085669.jpg', '085687.jpg', '085733.jpg', '085743.jpg', '085752.jpg', '085843.jpg', '085882.jpg', '085890.jpg', '085933.jpg', '085955.jpg', '085972.jpg', '085973.jpg', '085981.jpg', '085986.jpg', '086009.jpg', '086027.jpg', '086040.jpg', '086051.jpg', '086102.jpg', '086126.jpg', '086128.jpg', '086154.jpg', '086170.jpg', '086178.jpg', '086183.jpg', '086190.jpg', '086198.jpg', '086216.jpg', '086266.jpg', '086272.jpg', '086293.jpg', '086320.jpg', '086337.jpg', '086362.jpg', '086365.jpg', '086381.jpg', '086468.jpg', '086477.jpg', '086479.jpg', '086482.jpg', '086491.jpg', '086519.jpg', '086539.jpg', '086560.jpg', '086565.jpg', '086566.jpg', '086592.jpg', '086595.jpg', '086617.jpg', '086620.jpg', '086626.jpg', '086637.jpg', '086640.jpg', '086657.jpg', '086680.jpg', '086690.jpg', '086745.jpg', '086748.jpg', '086773.jpg', '086820.jpg', '086822.jpg', '086835.jpg', '086868.jpg', '086872.jpg', '086875.jpg', '086898.jpg', '086916.jpg', '086919.jpg', '086920.jpg', '086933.jpg', '086939.jpg', '086956.jpg', '087003.jpg', '087008.jpg', '087011.jpg', '087052.jpg', '087089.jpg', '087122.jpg', '087140.jpg', '087163.jpg', '087201.jpg', '087218.jpg', '087219.jpg', '087232.jpg', '087233.jpg', '087237.jpg', '087252.jpg', '087281.jpg', '087282.jpg', '087283.jpg', '087324.jpg', '087335.jpg', '087348.jpg', '087357.jpg', '087407.jpg', '087433.jpg', '087437.jpg', '087461.jpg', '087465.jpg', '087495.jpg', '087509.jpg', '087515.jpg', '087564.jpg', '087571.jpg', '087600.jpg', '087653.jpg', '087705.jpg', '087719.jpg', '087726.jpg', '087727.jpg', '087729.jpg', '087769.jpg', '087779.jpg', '087792.jpg', '087816.jpg', '087865.jpg', '087876.jpg', '087883.jpg', '087890.jpg', '087914.jpg', '087966.jpg', '087991.jpg', '088006.jpg', '088017.jpg', '088021.jpg', '088026.jpg', '088027.jpg', '088058.jpg', '088076.jpg', '088105.jpg', '088107.jpg', '088108.jpg', '088137.jpg', '088148.jpg', '088155.jpg', '088185.jpg', '088206.jpg', '088218.jpg', '088224.jpg', '088229.jpg', '088233.jpg', '088237.jpg', '088255.jpg', '088269.jpg', '088295.jpg', '088300.jpg', '088325.jpg', '088326.jpg', '088340.jpg', '088345.jpg', '088351.jpg', '088358.jpg', '088391.jpg', '088445.jpg', '088493.jpg', '088503.jpg', '088520.jpg', '088527.jpg', '088540.jpg', '088589.jpg', '088601.jpg', '088608.jpg', '088616.jpg', '088668.jpg', '088719.jpg', '088721.jpg', '088724.jpg', '088732.jpg', '088741.jpg', '088751.jpg', '088755.jpg', '088759.jpg', '088776.jpg', '088801.jpg', '088832.jpg', '088849.jpg', '088857.jpg', '088894.jpg', '088896.jpg', '088905.jpg', '088908.jpg', '088926.jpg', '088938.jpg', '088961.jpg', '088975.jpg', '088993.jpg', '089006.jpg', '089064.jpg', '089068.jpg', '089069.jpg', '089105.jpg', '089130.jpg', '089176.jpg', '089182.jpg', '089219.jpg', '089261.jpg', '089308.jpg', '089357.jpg', '089435.jpg', '089443.jpg', '089448.jpg', '089467.jpg', '089520.jpg', '089537.jpg', '089592.jpg', '089610.jpg', '089616.jpg', '089621.jpg', '089629.jpg', '089640.jpg', '089646.jpg', '089653.jpg', '089660.jpg', '089680.jpg', '089701.jpg', '089738.jpg', '089744.jpg', '089760.jpg', '089802.jpg', '089825.jpg', '089946.jpg', '089957.jpg', '089995.jpg', '089997.jpg', '090016.jpg', '090017.jpg', '090027.jpg', '090050.jpg', '090054.jpg', '090110.jpg', '090116.jpg', '090154.jpg', '090223.jpg', '090241.jpg', '090247.jpg', '090249.jpg', '090269.jpg', '090311.jpg', '090328.jpg', '090338.jpg', '090347.jpg', '090378.jpg', '090383.jpg', '090411.jpg', '090432.jpg', '090436.jpg', '090490.jpg', '090503.jpg', '090541.jpg', '090561.jpg', '090621.jpg', '090627.jpg', '090630.jpg', '090651.jpg', '090654.jpg', '090665.jpg', '090667.jpg', '090685.jpg', '090690.jpg', '090700.jpg', '090704.jpg', '090720.jpg', '090745.jpg', '090766.jpg', '090803.jpg', '090825.jpg', '090827.jpg', '090853.jpg', '090875.jpg', '090880.jpg', '090918.jpg', '090958.jpg', '090973.jpg', '090976.jpg', '090999.jpg', '091011.jpg', '091044.jpg', '091103.jpg', '091114.jpg', '091133.jpg', '091147.jpg', '091206.jpg', '091219.jpg', '091228.jpg', '091286.jpg', '091301.jpg', '091350.jpg', '091357.jpg', '091362.jpg', '091369.jpg', '091382.jpg', '091395.jpg', '091405.jpg', '091426.jpg', '091435.jpg', '091447.jpg', '091448.jpg', '091453.jpg', '091459.jpg', '091466.jpg', '091523.jpg', '091536.jpg', '091542.jpg', '091593.jpg', '091605.jpg', '091607.jpg', '091621.jpg', '091655.jpg', '091661.jpg', '091725.jpg', '091740.jpg', '091805.jpg', '091810.jpg', '091813.jpg', '091844.jpg', '091870.jpg', '091873.jpg', '091875.jpg', '091889.jpg', '091902.jpg', '091904.jpg', '091908.jpg', '091914.jpg', '091932.jpg', '091938.jpg', '091947.jpg', '091950.jpg', '091968.jpg', '091977.jpg', '091983.jpg', '091999.jpg', '092037.jpg', '092057.jpg', '092058.jpg', '092079.jpg', '092094.jpg', '092105.jpg', '092139.jpg', '092156.jpg', '092158.jpg', '092169.jpg', '092194.jpg', '092204.jpg', '092224.jpg', '092227.jpg', '092245.jpg', '092251.jpg', '092258.jpg', '092283.jpg', '092284.jpg', '092287.jpg', '092290.jpg', '092292.jpg', '092294.jpg', '092317.jpg', '092327.jpg', '092536.jpg', '092620.jpg', '092652.jpg', '092707.jpg', '092727.jpg', '092739.jpg', '092744.jpg', '092754.jpg', '092840.jpg', '092860.jpg', '092866.jpg', '092870.jpg', '092929.jpg', '092952.jpg', '092958.jpg', '092975.jpg', '092979.jpg', '092980.jpg', '092998.jpg', '093000.jpg', '093011.jpg', '093018.jpg', '093029.jpg', '093032.jpg', '093046.jpg', '093092.jpg', '093108.jpg', '093140.jpg', '093144.jpg', '093151.jpg', '093185.jpg', '093199.jpg', '093200.jpg', '093234.jpg', '093257.jpg', '093259.jpg', '093276.jpg', '093317.jpg', '093328.jpg', '093377.jpg', '093402.jpg', '093407.jpg', '093413.jpg', '093444.jpg', '093448.jpg', '093466.jpg', '093488.jpg', '093512.jpg', '093541.jpg', '093542.jpg', '093547.jpg', '093551.jpg', '093570.jpg', '093609.jpg', '093615.jpg', '093619.jpg', '093620.jpg', '093645.jpg', '093651.jpg', '093669.jpg', '093675.jpg', '093681.jpg', '093694.jpg', '093714.jpg', '093729.jpg', '093734.jpg', '093777.jpg', '093785.jpg', '093790.jpg', '093809.jpg', '093838.jpg', '093860.jpg', '093870.jpg', '093888.jpg', '093937.jpg', '093944.jpg', '093947.jpg', '093951.jpg', '093988.jpg', '093996.jpg', '094004.jpg', '094016.jpg', '094067.jpg', '094075.jpg', '094081.jpg', '094093.jpg', '094099.jpg', '094114.jpg', '094157.jpg', '094220.jpg', '094223.jpg', '094231.jpg', '094299.jpg', '094310.jpg', '094358.jpg', '094365.jpg', '094367.jpg', '094425.jpg', '094429.jpg', '094455.jpg', '094463.jpg', '094482.jpg', '094490.jpg', '094491.jpg', '094507.jpg', '094523.jpg', '094524.jpg', '094568.jpg', '094584.jpg', '094603.jpg', '094629.jpg', '094637.jpg', '094652.jpg', '094655.jpg', '094664.jpg', '094676.jpg', '094705.jpg', '094713.jpg', '094717.jpg', '094746.jpg', '094763.jpg', '094767.jpg', '094795.jpg', '094815.jpg', '094818.jpg', '094825.jpg', '094831.jpg', '094863.jpg', '094868.jpg', '094915.jpg', '094934.jpg', '094937.jpg', '094966.jpg', '094986.jpg', '094998.jpg', '095003.jpg', '095015.jpg', '095031.jpg', '095064.jpg', '095089.jpg', '095090.jpg', '095112.jpg', '095120.jpg', '095179.jpg', '095207.jpg', '095238.jpg', '095242.jpg', '095249.jpg', '095253.jpg', '095260.jpg', '095268.jpg', '095287.jpg', '095322.jpg', '095386.jpg', '095406.jpg', '095414.jpg', '095416.jpg', '095439.jpg', '095444.jpg', '095482.jpg', '095498.jpg', '095541.jpg', '095545.jpg', '095546.jpg', '095601.jpg', '095605.jpg', '095610.jpg', '095647.jpg', '095703.jpg', '095704.jpg', '095725.jpg', '095728.jpg', '095745.jpg', '095758.jpg', '095772.jpg', '095777.jpg', '095800.jpg', '095808.jpg', '095832.jpg', '095834.jpg', '095843.jpg', '095855.jpg', '095863.jpg', '095870.jpg', '095891.jpg', '095892.jpg', '095911.jpg', '095926.jpg', '095931.jpg', '095946.jpg', '095956.jpg', '095981.jpg', '095982.jpg', '096008.jpg', '096046.jpg', '096098.jpg', '096126.jpg', '096143.jpg', '096190.jpg', '096196.jpg', '096242.jpg', '096243.jpg', '096274.jpg', '096281.jpg', '096301.jpg', '096321.jpg', '096323.jpg', '096338.jpg', '096361.jpg', '096370.jpg', '096373.jpg', '096394.jpg', '096405.jpg', '096472.jpg', '096479.jpg', '096485.jpg', '096488.jpg', '096499.jpg', '096502.jpg', '096568.jpg', '096582.jpg', '096590.jpg', '096597.jpg', '096609.jpg', '096614.jpg', '096640.jpg', '096665.jpg', '096687.jpg', '096723.jpg', '096727.jpg', '096738.jpg', '096743.jpg', '096764.jpg', '096769.jpg', '096780.jpg', '096782.jpg', '096819.jpg', '096826.jpg', '096831.jpg', '096841.jpg', '096846.jpg', '096866.jpg', '096880.jpg', '096915.jpg', '096924.jpg', '097012.jpg', '097079.jpg', '097085.jpg', '097103.jpg', '097125.jpg', '097130.jpg', '097132.jpg', '097136.jpg', '097182.jpg', '097192.jpg', '097278.jpg', '097281.jpg', '097311.jpg', '097319.jpg', '097342.jpg', '097347.jpg', '097361.jpg', '097384.jpg', '097388.jpg', '097420.jpg', '097430.jpg', '097446.jpg', '097473.jpg', '097515.jpg', '097538.jpg', '097547.jpg', '097559.jpg', '097566.jpg', '097567.jpg', '097584.jpg', '097587.jpg', '097602.jpg', '097611.jpg', '097621.jpg', '097630.jpg', '097639.jpg', '097641.jpg', '097657.jpg', '097667.jpg', '097700.jpg', '097713.jpg', '097721.jpg', '097765.jpg', '097823.jpg', '097825.jpg', '097835.jpg', '097836.jpg', '097856.jpg', '097867.jpg', '097894.jpg', '097918.jpg', '097925.jpg', '097941.jpg', '097993.jpg', '097997.jpg', '098000.jpg', '098026.jpg', '098053.jpg', '098071.jpg', '098086.jpg', '098090.jpg', '098093.jpg', '098140.jpg', '098178.jpg', '098182.jpg', '098195.jpg', '098208.jpg', '098227.jpg', '098234.jpg', '098295.jpg', '098313.jpg', '098339.jpg', '098362.jpg', '098382.jpg', '098420.jpg', '098444.jpg', '098447.jpg', '098549.jpg', '098562.jpg', '098582.jpg', '098591.jpg', '098593.jpg', '098625.jpg', '098642.jpg', '098675.jpg', '098706.jpg', '098739.jpg', '098748.jpg', '098757.jpg', '098770.jpg', '098800.jpg', '098825.jpg', '098826.jpg', '098831.jpg', '098833.jpg', '098854.jpg', '098857.jpg', '098861.jpg', '098862.jpg', '098866.jpg', '098886.jpg', '098951.jpg', '098963.jpg', '099045.jpg', '099071.jpg', '099106.jpg', '099107.jpg', '099134.jpg', '099136.jpg', '099143.jpg', '099186.jpg', '099208.jpg', '099238.jpg', '099257.jpg', '099275.jpg', '099289.jpg', '099319.jpg', '099345.jpg', '099373.jpg', '099374.jpg', '099394.jpg', '099401.jpg', '099409.jpg', '099457.jpg', '099515.jpg', '099518.jpg', '099528.jpg', '099541.jpg', '099547.jpg', '099548.jpg', '099572.jpg', '099579.jpg', '099581.jpg', '099607.jpg', '099616.jpg', '099620.jpg', '099637.jpg', '099648.jpg', '099671.jpg', '099676.jpg', '099716.jpg', '099722.jpg', '099728.jpg', '099749.jpg', '099758.jpg', '099787.jpg', '099814.jpg', '099818.jpg', '099822.jpg', '099839.jpg', '099854.jpg', '099872.jpg', '099879.jpg', '099891.jpg', '099892.jpg', '099921.jpg', '099972.jpg', '099990.jpg', '099993.jpg', '100021.jpg', '100029.jpg', '100055.jpg', '100062.jpg', '100072.jpg', '100102.jpg', '100118.jpg', '100128.jpg', '100142.jpg', '100143.jpg', '100193.jpg', '100239.jpg', '100271.jpg', '100292.jpg', '100311.jpg', '100385.jpg', '100391.jpg', '100419.jpg', '100442.jpg', '100476.jpg', '100479.jpg', '100490.jpg', '100520.jpg', '100527.jpg', '100567.jpg', '100628.jpg', '100634.jpg', '100677.jpg', '100693.jpg', '100695.jpg', '100704.jpg', '100711.jpg', '100719.jpg', '100742.jpg', '100787.jpg', '100797.jpg', '100810.jpg', '100843.jpg', '100849.jpg', '100879.jpg', '100902.jpg', '100903.jpg', '100908.jpg', '100910.jpg', '100923.jpg', '100929.jpg', '100936.jpg', '100967.jpg', '101004.jpg', '101014.jpg', '101020.jpg', '101025.jpg', '101070.jpg', '101074.jpg', '101130.jpg', '101172.jpg', '101182.jpg', '101207.jpg', '101214.jpg', '101217.jpg', '101371.jpg', '101386.jpg', '101391.jpg', '101451.jpg', '101458.jpg', '101495.jpg', '101502.jpg', '101533.jpg', '101543.jpg', '101562.jpg', '101633.jpg', '101652.jpg', '101674.jpg', '101678.jpg', '101687.jpg', '101695.jpg', '101696.jpg', '101708.jpg', '101713.jpg', '101726.jpg', '101728.jpg', '101764.jpg', '101790.jpg', '101807.jpg', '101827.jpg', '101867.jpg', '101906.jpg', '101912.jpg', '101926.jpg', '101928.jpg', '101938.jpg', '101990.jpg', '102015.jpg', '102021.jpg', '102051.jpg', '102052.jpg', '102064.jpg', '102085.jpg', '102100.jpg', '102105.jpg', '102118.jpg', '102151.jpg', '102161.jpg', '102239.jpg', '102250.jpg', '102257.jpg', '102319.jpg', '102334.jpg', '102337.jpg', '102357.jpg', '102398.jpg', '102409.jpg', '102424.jpg', '102508.jpg', '102510.jpg', '102515.jpg', '102521.jpg', '102523.jpg', '102547.jpg', '102548.jpg', '102550.jpg', '102579.jpg', '102615.jpg', '102685.jpg', '102711.jpg', '102717.jpg', '102727.jpg', '102730.jpg', '102735.jpg', '102747.jpg', '102751.jpg', '102806.jpg', '102812.jpg', '102821.jpg', '102823.jpg', '102846.jpg', '102868.jpg', '102872.jpg', '102911.jpg', '102927.jpg', '102937.jpg', '102957.jpg', '102958.jpg', '102991.jpg', '103035.jpg', '103037.jpg', '103038.jpg', '103040.jpg', '103059.jpg', '103107.jpg', '103111.jpg', '103137.jpg', '103171.jpg', '103276.jpg', '103294.jpg', '103302.jpg', '103303.jpg', '103305.jpg', '103323.jpg', '103359.jpg', '103360.jpg', '103368.jpg', '103371.jpg', '103381.jpg', '103401.jpg', '103402.jpg', '103524.jpg', '103538.jpg', '103540.jpg', '103554.jpg', '103557.jpg', '103573.jpg', '103586.jpg', '103622.jpg', '103623.jpg', '103628.jpg', '103641.jpg', '103677.jpg', '103683.jpg', '103706.jpg', '103721.jpg', '103732.jpg', '103747.jpg', '103769.jpg', '103772.jpg', '103787.jpg', '103795.jpg', '103814.jpg', '103829.jpg', '103843.jpg', '103875.jpg', '103930.jpg', '103944.jpg', '103969.jpg', '103991.jpg', '104010.jpg', '104013.jpg', '104014.jpg', '104026.jpg', '104066.jpg', '104089.jpg', '104113.jpg', '104115.jpg', '104118.jpg', '104122.jpg', '104129.jpg', '104131.jpg', '104141.jpg', '104166.jpg', '104171.jpg', '104182.jpg', '104186.jpg', '104188.jpg', '104202.jpg', '104207.jpg', '104233.jpg', '104242.jpg', '104243.jpg', '104270.jpg', '104274.jpg', '104279.jpg', '104301.jpg', '104303.jpg', '104330.jpg', '104341.jpg', '104368.jpg', '104411.jpg', '104475.jpg', '104477.jpg', '104480.jpg', '104530.jpg', '104586.jpg', '104646.jpg', '104684.jpg', '104685.jpg', '104710.jpg', '104721.jpg', '104762.jpg', '104811.jpg', '104831.jpg', '104880.jpg', '104894.jpg', '104981.jpg', '104997.jpg', '105015.jpg', '105018.jpg', '105060.jpg', '105066.jpg', '105121.jpg', '105150.jpg', '105166.jpg', '105191.jpg', '105195.jpg', '105223.jpg', '105226.jpg', '105285.jpg', '105301.jpg', '105342.jpg', '105357.jpg', '105410.jpg', '105435.jpg', '105443.jpg', '105465.jpg', '105472.jpg', '105504.jpg', '105513.jpg', '105517.jpg', '105546.jpg', '105561.jpg', '105562.jpg', '105588.jpg', '105606.jpg', '105616.jpg', '105685.jpg', '105729.jpg', '105823.jpg', '105873.jpg', '105909.jpg', '105912.jpg', '105914.jpg', '105927.jpg', '105944.jpg', '105967.jpg', '105970.jpg', '106001.jpg', '106006.jpg', '106043.jpg', '106068.jpg', '106101.jpg', '106115.jpg', '106139.jpg', '106251.jpg', '106261.jpg', '106314.jpg', '106325.jpg', '106330.jpg', '106333.jpg', '106341.jpg', '106345.jpg', '106424.jpg', '106457.jpg', '106473.jpg', '106511.jpg', '106520.jpg', '106546.jpg', '106549.jpg', '106572.jpg', '106591.jpg', '106593.jpg', '106594.jpg', '106606.jpg', '106620.jpg', '106626.jpg', '106681.jpg', '106702.jpg', '106705.jpg', '106710.jpg', '106732.jpg', '106786.jpg', '106804.jpg', '106810.jpg', '106820.jpg', '106852.jpg', '106855.jpg', '106890.jpg', '106900.jpg', '106902.jpg', '106936.jpg', '107059.jpg', '107062.jpg', '107096.jpg', '107161.jpg', '107166.jpg', '107175.jpg', '107207.jpg', '107225.jpg', '107236.jpg', '107244.jpg', '107301.jpg', '107315.jpg', '107321.jpg', '107332.jpg', '107341.jpg', '107350.jpg', '107360.jpg', '107375.jpg', '107392.jpg', '107393.jpg', '107404.jpg', '107409.jpg', '107416.jpg', '107468.jpg', '107525.jpg', '107545.jpg', '107547.jpg', '107558.jpg', '107570.jpg', '107625.jpg', '107627.jpg', '107646.jpg', '107691.jpg', '107701.jpg', '107716.jpg', '107722.jpg', '107723.jpg', '107748.jpg', '107756.jpg', '107760.jpg', '107769.jpg', '107777.jpg', '107779.jpg', '107780.jpg', '107785.jpg', '107790.jpg', '107791.jpg', '107796.jpg', '107848.jpg', '107880.jpg', '107910.jpg', '107924.jpg', '107940.jpg', '107963.jpg', '107996.jpg', '108002.jpg', '108007.jpg', '108009.jpg', '108021.jpg', '108086.jpg', '108110.jpg', '108124.jpg', '108134.jpg', '108142.jpg', '108177.jpg', '108178.jpg', '108212.jpg', '108232.jpg', '108242.jpg', '108248.jpg', '108294.jpg', '108302.jpg', '108316.jpg', '108346.jpg', '108365.jpg', '108371.jpg', '108389.jpg', '108416.jpg', '108441.jpg', '108445.jpg', '108449.jpg', '108451.jpg', '108452.jpg', '108468.jpg', '108483.jpg', '108487.jpg', '108496.jpg', '108497.jpg', '108517.jpg', '108518.jpg', '108526.jpg', '108533.jpg', '108556.jpg', '108582.jpg', '108600.jpg', '108605.jpg', '108617.jpg', '108619.jpg', '108635.jpg', '108731.jpg', '108733.jpg', '108747.jpg', '108798.jpg', '108799.jpg', '108824.jpg', '108858.jpg', '108869.jpg', '108870.jpg', '108874.jpg', '108888.jpg', '108910.jpg', '108913.jpg', '108928.jpg', '108930.jpg', '108940.jpg', '109000.jpg', '109001.jpg', '109006.jpg', '109025.jpg', '109095.jpg', '109173.jpg', '109190.jpg', '109208.jpg', '109215.jpg', '109219.jpg', '109224.jpg', '109230.jpg', '109251.jpg', '109255.jpg', '109262.jpg', '109270.jpg', '109271.jpg', '109294.jpg', '109316.jpg', '109333.jpg', '109360.jpg', '109373.jpg', '109376.jpg', '109425.jpg', '109462.jpg', '109486.jpg', '109506.jpg', '109516.jpg', '109529.jpg', '109534.jpg', '109551.jpg', '109566.jpg', '109593.jpg', '109604.jpg', '109645.jpg', '109669.jpg', '109677.jpg', '109738.jpg', '109760.jpg', '109797.jpg', '109811.jpg', '109818.jpg', '109839.jpg', '109855.jpg', '109910.jpg', '109917.jpg', '109938.jpg', '109941.jpg', '109957.jpg', '110001.jpg', '110011.jpg', '110021.jpg', '110032.jpg', '110054.jpg', '110062.jpg', '110074.jpg', '110107.jpg', '110138.jpg', '110159.jpg', '110181.jpg', '110217.jpg', '110229.jpg', '110259.jpg', '110260.jpg', '110277.jpg', '110295.jpg', '110297.jpg', '110369.jpg', '110378.jpg', '110384.jpg', '110430.jpg', '110448.jpg', '110466.jpg', '110467.jpg', '110493.jpg', '110495.jpg', '110502.jpg', '110510.jpg', '110532.jpg', '110546.jpg', '110598.jpg', '110666.jpg', '110667.jpg', '110691.jpg', '110713.jpg', '110726.jpg', '110745.jpg', '110765.jpg', '110785.jpg', '110804.jpg', '110808.jpg', '110825.jpg', '110843.jpg', '110865.jpg', '110866.jpg', '110880.jpg', '110910.jpg', '110914.jpg', '110918.jpg', '110919.jpg', '110925.jpg', '110926.jpg', '110938.jpg', '110983.jpg', '111023.jpg', '111060.jpg', '111089.jpg', '111097.jpg', '111100.jpg', '111103.jpg', '111118.jpg', '111120.jpg', '111138.jpg', '111193.jpg', '111233.jpg', '111266.jpg', '111283.jpg', '111306.jpg', '111360.jpg', '111406.jpg', '111411.jpg', '111417.jpg', '111461.jpg', '111509.jpg', '111516.jpg', '111564.jpg', '111569.jpg', '111572.jpg', '111583.jpg', '111602.jpg', '111635.jpg', '111684.jpg', '111687.jpg', '111698.jpg', '111736.jpg', '111750.jpg', '111757.jpg', '111758.jpg', '111770.jpg', '111772.jpg', '111774.jpg', '111775.jpg', '111825.jpg', '111895.jpg', '111919.jpg', '111921.jpg', '111945.jpg', '111984.jpg', '111993.jpg', '112010.jpg', '112045.jpg', '112070.jpg', '112115.jpg', '112124.jpg', '112147.jpg', '112223.jpg', '112232.jpg', '112254.jpg', '112265.jpg', '112277.jpg', '112311.jpg', '112324.jpg', '112327.jpg', '112331.jpg', '112366.jpg', '112383.jpg', '112390.jpg', '112415.jpg', '112427.jpg', '112438.jpg', '112449.jpg', '112483.jpg', '112498.jpg', '112519.jpg', '112566.jpg', '112609.jpg', '112610.jpg', '112627.jpg', '112644.jpg', '112681.jpg', '112688.jpg', '112717.jpg', '112741.jpg', '112743.jpg', '112785.jpg', '112788.jpg', '112795.jpg', '112799.jpg', '112803.jpg', '112823.jpg', '112833.jpg', '112842.jpg', '112850.jpg', '112865.jpg', '112870.jpg', '112874.jpg', '112879.jpg', '112911.jpg', '112916.jpg', '112917.jpg', '112934.jpg', '112940.jpg', '112950.jpg', '112962.jpg', '112970.jpg', '112980.jpg', '112982.jpg', '113003.jpg', '113014.jpg', '113032.jpg', '113040.jpg', '113082.jpg', '113115.jpg', '113252.jpg', '113265.jpg', '113307.jpg', '113314.jpg', '113337.jpg', '113361.jpg', '113367.jpg', '113374.jpg', '113411.jpg', '113415.jpg', '113490.jpg', '113507.jpg', '113518.jpg', '113524.jpg', '113563.jpg', '113590.jpg', '113619.jpg', '113630.jpg', '113640.jpg', '113695.jpg', '113731.jpg', '113736.jpg', '113761.jpg', '113767.jpg', '113770.jpg', '113802.jpg', '113808.jpg', '113841.jpg', '113871.jpg', '113887.jpg', '113909.jpg', '113936.jpg', '113964.jpg', '114017.jpg', '114046.jpg', '114055.jpg', '114097.jpg', '114163.jpg', '114166.jpg', '114191.jpg', '114206.jpg', '114226.jpg', '114239.jpg', '114252.jpg', '114266.jpg', '114292.jpg', '114304.jpg', '114306.jpg', '114310.jpg', '114318.jpg', '114333.jpg', '114343.jpg', '114388.jpg', '114403.jpg', '114420.jpg', '114435.jpg', '114440.jpg', '114460.jpg', '114524.jpg', '114527.jpg', '114530.jpg', '114544.jpg', '114553.jpg', '114595.jpg', '114610.jpg', '114621.jpg', '114625.jpg', '114626.jpg', '114630.jpg', '114661.jpg', '114681.jpg', '114726.jpg', '114757.jpg', '114777.jpg', '114805.jpg', '114816.jpg', '114820.jpg', '114826.jpg', '114853.jpg', '114857.jpg', '114866.jpg', '114887.jpg', '114912.jpg', '114913.jpg', '114920.jpg', '114982.jpg', '114990.jpg', '114994.jpg', '115039.jpg', '115043.jpg', '115051.jpg', '115056.jpg', '115057.jpg', '115101.jpg', '115120.jpg', '115135.jpg', '115152.jpg', '115159.jpg', '115169.jpg', '115187.jpg', '115201.jpg', '115227.jpg', '115237.jpg', '115263.jpg', '115284.jpg', '115285.jpg', '115292.jpg', '115317.jpg', '115337.jpg', '115356.jpg', '115369.jpg', '115377.jpg', '115391.jpg', '115455.jpg', '115462.jpg', '115464.jpg', '115484.jpg', '115490.jpg', '115531.jpg', '115547.jpg', '115555.jpg', '115571.jpg', '115582.jpg', '115636.jpg', '115638.jpg', '115653.jpg', '115677.jpg', '115719.jpg', '115760.jpg', '115762.jpg', '115789.jpg', '115802.jpg', '115807.jpg', '115839.jpg', '115957.jpg', '115958.jpg', '115966.jpg', '115971.jpg', '116001.jpg', '116029.jpg', '116038.jpg', '116045.jpg', '116052.jpg', '116055.jpg', '116102.jpg', '116140.jpg', '116154.jpg', '116166.jpg', '116169.jpg', '116215.jpg', '116251.jpg', '116259.jpg', '116264.jpg', '116278.jpg', '116281.jpg', '116283.jpg', '116358.jpg', '116368.jpg', '116375.jpg', '116381.jpg', '116443.jpg', '116464.jpg', '116476.jpg', '116500.jpg', '116509.jpg', '116512.jpg', '116519.jpg', '116531.jpg', '116639.jpg', '116642.jpg', '116681.jpg', '116740.jpg', '116757.jpg', '116761.jpg', '116789.jpg', '116812.jpg', '116813.jpg', '116852.jpg', '116887.jpg', '116894.jpg', '116904.jpg', '116934.jpg', '116981.jpg', '117018.jpg', '117032.jpg', '117046.jpg', '117106.jpg', '117115.jpg', '117119.jpg', '117157.jpg', '117158.jpg', '117171.jpg', '117176.jpg', '117193.jpg', '117244.jpg', '117247.jpg', '117279.jpg', '117315.jpg', '117319.jpg', '117324.jpg', '117333.jpg', '117370.jpg', '117430.jpg', '117449.jpg', '117469.jpg', '117534.jpg', '117546.jpg', '117602.jpg', '117616.jpg', '117621.jpg', '117623.jpg', '117666.jpg', '117670.jpg', '117683.jpg', '117758.jpg', '117827.jpg', '117844.jpg', '117862.jpg', '117874.jpg', '117880.jpg', '117881.jpg', '117898.jpg', '117948.jpg', '118030.jpg', '118112.jpg', '118130.jpg', '118172.jpg', '118179.jpg', '118182.jpg', '118212.jpg', '118213.jpg', '118229.jpg', '118272.jpg', '118273.jpg', '118282.jpg', '118311.jpg', '118344.jpg', '118345.jpg', '118347.jpg', '118378.jpg', '118500.jpg', '118505.jpg', '118520.jpg', '118542.jpg', '118596.jpg', '118607.jpg', '118608.jpg', '118641.jpg', '118644.jpg', '118673.jpg', '118691.jpg', '118737.jpg', '118764.jpg', '118775.jpg', '118787.jpg', '118797.jpg', '118802.jpg', '118830.jpg', '118839.jpg', '118871.jpg', '118874.jpg', '118891.jpg', '118939.jpg', '118955.jpg', '118992.jpg', '119010.jpg', '119031.jpg', '119060.jpg', '119071.jpg', '119081.jpg', '119089.jpg', '119112.jpg', '119114.jpg', '119142.jpg', '119143.jpg', '119151.jpg', '119159.jpg', '119175.jpg', '119183.jpg', '119222.jpg', '119277.jpg', '119293.jpg', '119308.jpg', '119322.jpg', '119358.jpg', '119370.jpg', '119380.jpg', '119413.jpg', '119438.jpg', '119443.jpg', '119454.jpg', '119544.jpg', '119545.jpg', '119546.jpg', '119560.jpg', '119597.jpg', '119601.jpg', '119626.jpg', '119637.jpg', '119651.jpg', '119657.jpg', '119693.jpg', '119727.jpg', '119734.jpg', '119737.jpg', '119746.jpg', '119756.jpg', '119763.jpg', '119766.jpg', '119780.jpg', '119800.jpg', '119803.jpg', '119817.jpg', '119823.jpg', '119865.jpg', '119873.jpg', '119875.jpg', '119887.jpg', '119916.jpg', '119917.jpg', '119927.jpg', '119963.jpg', '119972.jpg', '119977.jpg', '120050.jpg', '120088.jpg', '120118.jpg', '120131.jpg', '120135.jpg', '120141.jpg', '120145.jpg', '120166.jpg', '120188.jpg', '120200.jpg', '120224.jpg', '120237.jpg', '120241.jpg', '120243.jpg', '120266.jpg', '120269.jpg', '120279.jpg', '120280.jpg', '120286.jpg', '120312.jpg', '120335.jpg', '120344.jpg', '120365.jpg', '120376.jpg', '120409.jpg', '120412.jpg', '120418.jpg', '120424.jpg', '120458.jpg', '120460.jpg', '120474.jpg', '120483.jpg', '120488.jpg', '120521.jpg', '120552.jpg', '120561.jpg', '120569.jpg', '120608.jpg', '120628.jpg', '120710.jpg', '120716.jpg', '120719.jpg', '120722.jpg', '120730.jpg', '120748.jpg', '120794.jpg', '120802.jpg', '120805.jpg', '120812.jpg', '120819.jpg', '120830.jpg', '120866.jpg', '120869.jpg', '120915.jpg', '120932.jpg', '120937.jpg', '120938.jpg', '121027.jpg', '121056.jpg', '121108.jpg', '121147.jpg', '121148.jpg', '121172.jpg', '121176.jpg', '121214.jpg', '121273.jpg', '121296.jpg', '121357.jpg', '121381.jpg', '121404.jpg', '121405.jpg', '121429.jpg', '121489.jpg', '121497.jpg', '121502.jpg', '121516.jpg', '121520.jpg', '121532.jpg', '121577.jpg', '121579.jpg', '121582.jpg', '121589.jpg', '121590.jpg', '121618.jpg', '121620.jpg', '121633.jpg', '121642.jpg', '121643.jpg', '121667.jpg', '121669.jpg', '121845.jpg', '121862.jpg', '121885.jpg', '121931.jpg', '121959.jpg', '121970.jpg', '121982.jpg', '122019.jpg', '122026.jpg', '122040.jpg', '122051.jpg', '122078.jpg', '122098.jpg', '122106.jpg', '122108.jpg', '122112.jpg', '122150.jpg', '122215.jpg', '122232.jpg', '122240.jpg', '122246.jpg', '122301.jpg', '122304.jpg', '122305.jpg', '122310.jpg', '122313.jpg', '122330.jpg', '122346.jpg', '122356.jpg', '122401.jpg', '122433.jpg', '122445.jpg', '122496.jpg', '122554.jpg', '122563.jpg', '122592.jpg', '122593.jpg', '122628.jpg', '122633.jpg', '122654.jpg', '122668.jpg', '122677.jpg', '122710.jpg', '122719.jpg', '122734.jpg', '122747.jpg', '122768.jpg', '122788.jpg', '122793.jpg', '122803.jpg', '122826.jpg', '122866.jpg', '122868.jpg', '122875.jpg', '122918.jpg', '122956.jpg', '123003.jpg', '123041.jpg', '123066.jpg', '123076.jpg', '123078.jpg', '123098.jpg', '123121.jpg', '123124.jpg', '123172.jpg', '123196.jpg', '123225.jpg', '123241.jpg', '123248.jpg', '123253.jpg', '123298.jpg', '123315.jpg', '123320.jpg', '123365.jpg', '123367.jpg', '123401.jpg', '123412.jpg', '123459.jpg', '123474.jpg', '123483.jpg', '123504.jpg', '123507.jpg', '123509.jpg', '123547.jpg', '123575.jpg', '123588.jpg', '123590.jpg', '123603.jpg', '123610.jpg', '123624.jpg', '123633.jpg', '123691.jpg', '123721.jpg', '123743.jpg', '123750.jpg', '123789.jpg', '123794.jpg', '123814.jpg', '123842.jpg', '123846.jpg', '123859.jpg', '123864.jpg', '123944.jpg', '123957.jpg', '123959.jpg', '123981.jpg', '123997.jpg', '124021.jpg', '124092.jpg', '124106.jpg', '124146.jpg', '124149.jpg', '124167.jpg', '124172.jpg', '124182.jpg', '124221.jpg', '124252.jpg', '124308.jpg', '124368.jpg', '124372.jpg', '124373.jpg', '124438.jpg', '124486.jpg', '124488.jpg', '124528.jpg', '124530.jpg', '124546.jpg', '124594.jpg', '124626.jpg', '124673.jpg', '124686.jpg', '124704.jpg', '124727.jpg', '124755.jpg', '124789.jpg', '124790.jpg', '124804.jpg', '124812.jpg', '124846.jpg', '124860.jpg', '124866.jpg', '124887.jpg', '124906.jpg', '124925.jpg', '124934.jpg', '124970.jpg', '125000.jpg', '125010.jpg', '125049.jpg', '125073.jpg', '125177.jpg', '125204.jpg', '125230.jpg', '125275.jpg', '125286.jpg', '125292.jpg', '125316.jpg', '125359.jpg', '125400.jpg', '125427.jpg', '125475.jpg', '125489.jpg', '125527.jpg', '125536.jpg', '125547.jpg', '125564.jpg', '125587.jpg', '125599.jpg', '125642.jpg', '125650.jpg', '125661.jpg', '125668.jpg', '125682.jpg', '125694.jpg', '125703.jpg', '125706.jpg', '125711.jpg', '125718.jpg', '125747.jpg', '125749.jpg', '125758.jpg', '125800.jpg', '125817.jpg', '125875.jpg', '125889.jpg', '125937.jpg', '125951.jpg', '125957.jpg', '125966.jpg', '125978.jpg', '125995.jpg', '126003.jpg', '126058.jpg', '126078.jpg', '126085.jpg', '126092.jpg', '126096.jpg', '126126.jpg', '126127.jpg', '126138.jpg', '126144.jpg', '126154.jpg', '126161.jpg', '126182.jpg', '126196.jpg', '126206.jpg', '126208.jpg', '126266.jpg', '126267.jpg', '126272.jpg', '126355.jpg', '126356.jpg', '126378.jpg', '126401.jpg', '126403.jpg', '126450.jpg', '126495.jpg', '126502.jpg', '126505.jpg', '126519.jpg', '126521.jpg', '126528.jpg', '126534.jpg', '126553.jpg', '126608.jpg', '126634.jpg', '126716.jpg', '126757.jpg', '126761.jpg', '126762.jpg', '126766.jpg', '126782.jpg', '126801.jpg', '126807.jpg', '126812.jpg', '126814.jpg', '126817.jpg', '126820.jpg', '126823.jpg', '126833.jpg', '126861.jpg', '126864.jpg', '126866.jpg', '126881.jpg', '126886.jpg', '126896.jpg', '126901.jpg', '126902.jpg', '126907.jpg', '126913.jpg', '127001.jpg', '127031.jpg', '127060.jpg', '127066.jpg', '127088.jpg', '127096.jpg', '127102.jpg', '127136.jpg', '127138.jpg', '127143.jpg', '127172.jpg', '127176.jpg', '127187.jpg', '127226.jpg', '127234.jpg', '127236.jpg', '127238.jpg', '127243.jpg', '127248.jpg', '127256.jpg', '127261.jpg', '127286.jpg', '127290.jpg', '127357.jpg', '127364.jpg', '127406.jpg', '127425.jpg', '127447.jpg', '127485.jpg', '127486.jpg', '127522.jpg', '127533.jpg', '127561.jpg', '127566.jpg', '127588.jpg', '127589.jpg', '127612.jpg', '127613.jpg', '127637.jpg', '127640.jpg', '127650.jpg', '127651.jpg', '127672.jpg', '127687.jpg', '127741.jpg', '127752.jpg', '127768.jpg', '127771.jpg', '127775.jpg', '127794.jpg', '127803.jpg', '127806.jpg', '127814.jpg', '127881.jpg', '127884.jpg', '127931.jpg', '127933.jpg', '127973.jpg', '128012.jpg', '128019.jpg', '128030.jpg', '128068.jpg', '128083.jpg', '128090.jpg', '128102.jpg', '128110.jpg', '128185.jpg', '128199.jpg', '128201.jpg', '128211.jpg', '128215.jpg', '128263.jpg', '128272.jpg', '128343.jpg', '128344.jpg', '128368.jpg', '128431.jpg', '128451.jpg', '128493.jpg', '128525.jpg', '128532.jpg', '128543.jpg', '128550.jpg', '128557.jpg', '128562.jpg', '128579.jpg', '128613.jpg', '128622.jpg', '128643.jpg', '128667.jpg', '128699.jpg', '128716.jpg', '128733.jpg', '128734.jpg', '128736.jpg', '128742.jpg', '128743.jpg', '128756.jpg', '128832.jpg', '128842.jpg', '128859.jpg', '128881.jpg', '128882.jpg', '128883.jpg', '128892.jpg', '128908.jpg', '128921.jpg', '128925.jpg', '128934.jpg', '128963.jpg', '129034.jpg', '129036.jpg', '129043.jpg', '129062.jpg', '129068.jpg', '129078.jpg', '129081.jpg', '129088.jpg', '129089.jpg', '129106.jpg', '129176.jpg', '129191.jpg', '129234.jpg', '129238.jpg', '129249.jpg', '129274.jpg', '129291.jpg', '129310.jpg', '129315.jpg', '129332.jpg', '129366.jpg', '129370.jpg', '129381.jpg', '129437.jpg', '129465.jpg', '129491.jpg', '129492.jpg', '129493.jpg', '129514.jpg', '129518.jpg', '129526.jpg', '129545.jpg', '129578.jpg', '129584.jpg', '129587.jpg', '129588.jpg', '129590.jpg', '129626.jpg', '129652.jpg', '129718.jpg', '129746.jpg', '129751.jpg', '129752.jpg', '129758.jpg', '129764.jpg', '129776.jpg', '129787.jpg', '129793.jpg', '129822.jpg', '129844.jpg', '129846.jpg', '129939.jpg', '129969.jpg', '129974.jpg', '129978.jpg', '130009.jpg', '130029.jpg', '130051.jpg', '130088.jpg', '130112.jpg', '130120.jpg', '130124.jpg', '130126.jpg', '130212.jpg', '130217.jpg', '130228.jpg', '130231.jpg', '130242.jpg', '130261.jpg', '130264.jpg', '130274.jpg', '130285.jpg', '130286.jpg', '130300.jpg', '130302.jpg', '130332.jpg', '130362.jpg', '130368.jpg', '130374.jpg', '130390.jpg', '130397.jpg', '130431.jpg', '130441.jpg', '130466.jpg', '130500.jpg', '130549.jpg', '130560.jpg', '130563.jpg', '130572.jpg', '130600.jpg', '130630.jpg', '130654.jpg', '130684.jpg', '130706.jpg', '130717.jpg', '130720.jpg', '130738.jpg', '130742.jpg', '130783.jpg', '130832.jpg', '130859.jpg', '130863.jpg', '130904.jpg', '130973.jpg', '130986.jpg', '130987.jpg', '130998.jpg', '131005.jpg', '131034.jpg', '131082.jpg', '131093.jpg', '131176.jpg', '131280.jpg', '131287.jpg', '131289.jpg', '131319.jpg', '131327.jpg', '131400.jpg', '131406.jpg', '131408.jpg', '131444.jpg', '131453.jpg', '131484.jpg', '131500.jpg', '131519.jpg', '131566.jpg', '131567.jpg', '131616.jpg', '131618.jpg', '131639.jpg', '131647.jpg', '131675.jpg', '131682.jpg', '131722.jpg', '131739.jpg', '131744.jpg', '131793.jpg', '131799.jpg', '131810.jpg', '131815.jpg', '131881.jpg', '131890.jpg', '131999.jpg', '132009.jpg', '132012.jpg', '132013.jpg', '132037.jpg', '132055.jpg', '132088.jpg', '132102.jpg', '132113.jpg', '132238.jpg', '132275.jpg', '132293.jpg', '132362.jpg', '132363.jpg', '132371.jpg', '132395.jpg', '132399.jpg', '132468.jpg', '132481.jpg', '132509.jpg', '132552.jpg', '132557.jpg', '132583.jpg', '132605.jpg', '132639.jpg', '132652.jpg', '132703.jpg', '132741.jpg', '132744.jpg', '132758.jpg', '132773.jpg', '132782.jpg', '132814.jpg', '132862.jpg', '132895.jpg', '132921.jpg', '132970.jpg', '132974.jpg', '132975.jpg', '133041.jpg', '133044.jpg', '133049.jpg', '133101.jpg', '133110.jpg', '133113.jpg', '133142.jpg', '133150.jpg', '133169.jpg', '133180.jpg', '133192.jpg', '133195.jpg', '133217.jpg', '133231.jpg', '133279.jpg', '133285.jpg', '133325.jpg', '133343.jpg', '133359.jpg', '133383.jpg', '133388.jpg', '133390.jpg', '133455.jpg', '133499.jpg', '133522.jpg', '133557.jpg', '133584.jpg', '133605.jpg', '133612.jpg', '133625.jpg', '133639.jpg', '133658.jpg', '133663.jpg', '133674.jpg', '133684.jpg', '133702.jpg', '133752.jpg', '133754.jpg', '133759.jpg', '133768.jpg', '133776.jpg', '133786.jpg', '133805.jpg', '133822.jpg', '133830.jpg', '133836.jpg', '133841.jpg', '133860.jpg', '133870.jpg', '133889.jpg', '133900.jpg', '133914.jpg', '133923.jpg', '133965.jpg', '133980.jpg', '134021.jpg', '134040.jpg', '134044.jpg', '134052.jpg', '134060.jpg', '134065.jpg', '134075.jpg', '134080.jpg', '134119.jpg', '134158.jpg', '134173.jpg', '134174.jpg', '134195.jpg', '134218.jpg', '134259.jpg', '134263.jpg', '134299.jpg', '134343.jpg', '134361.jpg', '134394.jpg', '134404.jpg', '134411.jpg', '134432.jpg', '134440.jpg', '134459.jpg', '134473.jpg', '134477.jpg', '134481.jpg', '134491.jpg', '134498.jpg', '134526.jpg', '134534.jpg', '134542.jpg', '134554.jpg', '134584.jpg', '134596.jpg', '134606.jpg', '134648.jpg', '134686.jpg', '134763.jpg', '134783.jpg', '134790.jpg', '134791.jpg', '134880.jpg', '134904.jpg', '134905.jpg', '134927.jpg', '134953.jpg', '134973.jpg', '134978.jpg', '135002.jpg', '135005.jpg', '135014.jpg', '135021.jpg', '135027.jpg', '135044.jpg', '135050.jpg', '135051.jpg', '135059.jpg', '135066.jpg', '135126.jpg', '135141.jpg', '135144.jpg', '135145.jpg', '135149.jpg', '135158.jpg', '135203.jpg', '135215.jpg', '135243.jpg', '135264.jpg', '135288.jpg', '135291.jpg', '135298.jpg', '135329.jpg', '135339.jpg', '135403.jpg', '135411.jpg', '135413.jpg', '135508.jpg', '135523.jpg', '135539.jpg', '135601.jpg', '135614.jpg', '135615.jpg', '135643.jpg', '135650.jpg', '135655.jpg', '135666.jpg', '135678.jpg', '135681.jpg', '135684.jpg', '135697.jpg', '135698.jpg', '135751.jpg', '135769.jpg', '135784.jpg', '135792.jpg', '135803.jpg', '135827.jpg', '135832.jpg', '135873.jpg', '135892.jpg', '135952.jpg', '135954.jpg', '135966.jpg', '135997.jpg', '136022.jpg', '136023.jpg', '136046.jpg', '136091.jpg', '136109.jpg', '136124.jpg', '136133.jpg', '136158.jpg', '136163.jpg', '136184.jpg', '136190.jpg', '136191.jpg', '136242.jpg', '136294.jpg', '136302.jpg', '136305.jpg', '136320.jpg', '136325.jpg', '136326.jpg', '136348.jpg', '136368.jpg', '136372.jpg', '136382.jpg', '136386.jpg', '136403.jpg', '136429.jpg', '136435.jpg', '136517.jpg', '136532.jpg', '136558.jpg', '136611.jpg', '136637.jpg', '136652.jpg', '136662.jpg', '136673.jpg', '136676.jpg', '136704.jpg', '136712.jpg', '136719.jpg', '136723.jpg', '136745.jpg', '136746.jpg', '136777.jpg', '136785.jpg', '136788.jpg', '136792.jpg', '136821.jpg', '136833.jpg', '136884.jpg', '136914.jpg', '136923.jpg', '136932.jpg', '136951.jpg', '136958.jpg', '136984.jpg', '136992.jpg', '137010.jpg', '137070.jpg', '137088.jpg', '137110.jpg', '137147.jpg', '137150.jpg', '137153.jpg', '137163.jpg', '137174.jpg', '137194.jpg', '137202.jpg', '137270.jpg', '137279.jpg', '137303.jpg', '137363.jpg', '137368.jpg', '137395.jpg', '137425.jpg', '137432.jpg', '137472.jpg', '137474.jpg', '137515.jpg', '137521.jpg', '137536.jpg', '137547.jpg', '137553.jpg', '137555.jpg', '137581.jpg', '137602.jpg', '137632.jpg', '137636.jpg', '137637.jpg', '137646.jpg', '137679.jpg', '137694.jpg', '137706.jpg', '137707.jpg', '137709.jpg', '137730.jpg', '137743.jpg', '137813.jpg', '137814.jpg', '137839.jpg', '137840.jpg', '137863.jpg', '137882.jpg', '137888.jpg', '137904.jpg', '137918.jpg', '137924.jpg', '137973.jpg', '137984.jpg', '137991.jpg', '138018.jpg', '138044.jpg', '138048.jpg', '138053.jpg', '138092.jpg', '138107.jpg', '138120.jpg', '138138.jpg', '138139.jpg', '138146.jpg', '138166.jpg', '138214.jpg', '138253.jpg', '138272.jpg', '138320.jpg', '138358.jpg', '138364.jpg', '138447.jpg', '138456.jpg', '138492.jpg', '138501.jpg', '138571.jpg', '138622.jpg', '138623.jpg', '138626.jpg', '138636.jpg', '138670.jpg', '138706.jpg', '138709.jpg', '138732.jpg', '138754.jpg', '138768.jpg', '138793.jpg', '138809.jpg', '138815.jpg', '138839.jpg', '138846.jpg', '138906.jpg', '138923.jpg', '138933.jpg', '138982.jpg', '139017.jpg', '139033.jpg', '139036.jpg', '139038.jpg', '139054.jpg', '139117.jpg', '139121.jpg', '139164.jpg', '139195.jpg', '139219.jpg', '139223.jpg', '139230.jpg', '139239.jpg', '139248.jpg', '139256.jpg', '139257.jpg', '139282.jpg', '139290.jpg', '139298.jpg', '139304.jpg', '139356.jpg', '139395.jpg', '139414.jpg', '139420.jpg', '139430.jpg', '139454.jpg', '139506.jpg', '139535.jpg', '139595.jpg', '139602.jpg', '139608.jpg', '139609.jpg', '139620.jpg', '139662.jpg', '139666.jpg', '139684.jpg', '139704.jpg', '139763.jpg', '139782.jpg', '139788.jpg', '139808.jpg', '139813.jpg', '139814.jpg', '139820.jpg', '139840.jpg', '139876.jpg', '139881.jpg', '139908.jpg', '140003.jpg', '140023.jpg', '140037.jpg', '140044.jpg', '140053.jpg', '140080.jpg', '140084.jpg', '140097.jpg', '140098.jpg', '140128.jpg', '140160.jpg', '140188.jpg', '140212.jpg', '140221.jpg', '140233.jpg', '140252.jpg', '140256.jpg', '140282.jpg', '140285.jpg', '140320.jpg', '140331.jpg', '140332.jpg', '140365.jpg', '140366.jpg', '140372.jpg', '140495.jpg', '140527.jpg', '140548.jpg', '140585.jpg', '140589.jpg', '140607.jpg', '140622.jpg', '140626.jpg', '140689.jpg', '140714.jpg', '140780.jpg', '140830.jpg', '140905.jpg', '140919.jpg', '140953.jpg', '140972.jpg', '141017.jpg', '141018.jpg', '141039.jpg', '141052.jpg', '141067.jpg', '141113.jpg', '141137.jpg', '141144.jpg', '141171.jpg', '141180.jpg', '141213.jpg', '141219.jpg', '141241.jpg', '141279.jpg', '141294.jpg', '141355.jpg', '141359.jpg', '141423.jpg', '141433.jpg', '141457.jpg', '141475.jpg', '141488.jpg', '141517.jpg', '141534.jpg', '141542.jpg', '141557.jpg', '141574.jpg', '141583.jpg', '141599.jpg', '141657.jpg', '141697.jpg', '141703.jpg', '141716.jpg', '141739.jpg', '141760.jpg', '141787.jpg', '141798.jpg', '141799.jpg', '141914.jpg', '141955.jpg', '141985.jpg', '141987.jpg', '142040.jpg', '142050.jpg', '142054.jpg', '142092.jpg', '142135.jpg', '142140.jpg', '142145.jpg', '142157.jpg', '142167.jpg', '142188.jpg', '142216.jpg', '142223.jpg', '142228.jpg', '142306.jpg', '142324.jpg', '142335.jpg', '142344.jpg', '142345.jpg', '142359.jpg', '142370.jpg', '142387.jpg', '142392.jpg', '142412.jpg', '142436.jpg', '142438.jpg', '142443.jpg', '142455.jpg', '142457.jpg', '142468.jpg', '142488.jpg', '142491.jpg', '142492.jpg', '142498.jpg', '142537.jpg', '142545.jpg', '142550.jpg', '142571.jpg', '142576.jpg', '142606.jpg', '142615.jpg', '142618.jpg', '142634.jpg', '142664.jpg', '142674.jpg', '142679.jpg', '142688.jpg', '142693.jpg', '142719.jpg', '142721.jpg', '142736.jpg', '142742.jpg', '142748.jpg', '142795.jpg', '142816.jpg', '142860.jpg', '142888.jpg', '142903.jpg', '142914.jpg', '142943.jpg', '142944.jpg', '142979.jpg', '142985.jpg', '143021.jpg', '143044.jpg', '143106.jpg', '143136.jpg', '143158.jpg', '143194.jpg', '143198.jpg', '143254.jpg', '143344.jpg', '143359.jpg', '143376.jpg', '143395.jpg', '143414.jpg', '143417.jpg', '143419.jpg', '143435.jpg', '143471.jpg', '143498.jpg', '143503.jpg', '143514.jpg', '143519.jpg', '143527.jpg', '143534.jpg', '143542.jpg', '143571.jpg', '143581.jpg', '143633.jpg', '143640.jpg', '143680.jpg', '143691.jpg', '143701.jpg', '143704.jpg', '143715.jpg', '143720.jpg', '143737.jpg', '143740.jpg', '143774.jpg', '143785.jpg', '143788.jpg', '143801.jpg', '143847.jpg', '143853.jpg', '143856.jpg', '143868.jpg', '143875.jpg', '143883.jpg', '143892.jpg', '143894.jpg', '144026.jpg', '144091.jpg', '144094.jpg', '144102.jpg', '144117.jpg', '144119.jpg', '144132.jpg', '144200.jpg', '144216.jpg', '144223.jpg', '144243.jpg', '144258.jpg', '144283.jpg', '144287.jpg', '144308.jpg', '144359.jpg', '144369.jpg', '144375.jpg', '144397.jpg', '144401.jpg', '144436.jpg', '144448.jpg', '144456.jpg', '144489.jpg', '144498.jpg', '144505.jpg', '144531.jpg', '144535.jpg', '144579.jpg', '144584.jpg', '144598.jpg', '144623.jpg', '144687.jpg', '144735.jpg', '144739.jpg', '144775.jpg', '144806.jpg', '144822.jpg', '144875.jpg', '144883.jpg', '144924.jpg', '144928.jpg', '144961.jpg', '145003.jpg', '145050.jpg', '145053.jpg', '145159.jpg', '145168.jpg', '145222.jpg', '145264.jpg', '145267.jpg', '145328.jpg', '145334.jpg', '145378.jpg', '145397.jpg', '145403.jpg', '145415.jpg', '145434.jpg', '145459.jpg', '145490.jpg', '145501.jpg', '145525.jpg', '145546.jpg', '145571.jpg', '145581.jpg', '145662.jpg', '145673.jpg', '145677.jpg', '145691.jpg', '145709.jpg', '145715.jpg', '145725.jpg', '145783.jpg', '145799.jpg', '145821.jpg', '145835.jpg', '145842.jpg', '145872.jpg', '145886.jpg', '145929.jpg', '145946.jpg', '145953.jpg', '145964.jpg', '145981.jpg', '146086.jpg', '146092.jpg', '146100.jpg', '146112.jpg', '146127.jpg', '146142.jpg', '146147.jpg', '146159.jpg', '146177.jpg', '146181.jpg', '146191.jpg', '146216.jpg', '146219.jpg', '146228.jpg', '146251.jpg', '146267.jpg', '146270.jpg', '146283.jpg', '146293.jpg', '146333.jpg', '146336.jpg', '146341.jpg', '146393.jpg', '146411.jpg', '146422.jpg', '146424.jpg', '146425.jpg', '146434.jpg', '146481.jpg', '146511.jpg', '146521.jpg', '146542.jpg', '146546.jpg', '146558.jpg', '146572.jpg', '146573.jpg', '146605.jpg', '146611.jpg', '146617.jpg', '146622.jpg', '146628.jpg', '146666.jpg', '146709.jpg', '146744.jpg', '146787.jpg', '146790.jpg', '146808.jpg', '146817.jpg', '146851.jpg', '146854.jpg', '146856.jpg', '146889.jpg', '146939.jpg', '146940.jpg', '146945.jpg', '146956.jpg', '147003.jpg', '147039.jpg', '147055.jpg', '147061.jpg', '147091.jpg', '147096.jpg', '147135.jpg', '147174.jpg', '147192.jpg', '147222.jpg', '147228.jpg', '147237.jpg', '147264.jpg', '147269.jpg', '147277.jpg', '147298.jpg', '147306.jpg', '147320.jpg', '147367.jpg', '147374.jpg', '147400.jpg', '147410.jpg', '147415.jpg', '147423.jpg', '147490.jpg', '147503.jpg', '147538.jpg', '147548.jpg', '147551.jpg', '147553.jpg', '147585.jpg', '147586.jpg', '147629.jpg', '147650.jpg', '147661.jpg', '147667.jpg', '147684.jpg', '147766.jpg', '147777.jpg', '147780.jpg', '147792.jpg', '147799.jpg', '147820.jpg', '147833.jpg', '147840.jpg', '147847.jpg', '147871.jpg', '147898.jpg', '147907.jpg', '147909.jpg', '147931.jpg', '147949.jpg', '147973.jpg', '147982.jpg', '148008.jpg', '148013.jpg', '148017.jpg', '148028.jpg', '148029.jpg', '148038.jpg', '148057.jpg', '148060.jpg', '148065.jpg', '148118.jpg', '148120.jpg', '148157.jpg', '148182.jpg', '148192.jpg', '148211.jpg', '148269.jpg', '148280.jpg', '148302.jpg', '148303.jpg', '148319.jpg', '148322.jpg', '148327.jpg', '148331.jpg', '148333.jpg', '148338.jpg', '148345.jpg', '148369.jpg', '148402.jpg', '148416.jpg', '148421.jpg', '148446.jpg', '148508.jpg', '148554.jpg', '148560.jpg', '148572.jpg', '148578.jpg', '148588.jpg', '148607.jpg', '148613.jpg', '148624.jpg', '148680.jpg', '148768.jpg', '148770.jpg', '148776.jpg', '148778.jpg', '148787.jpg', '148792.jpg', '148793.jpg', '148872.jpg', '148873.jpg', '148902.jpg', '148971.jpg', '148982.jpg', '148991.jpg', '149000.jpg', '149012.jpg', '149017.jpg', '149083.jpg', '149095.jpg', '149099.jpg', '149101.jpg', '149124.jpg', '149152.jpg', '149158.jpg', '149200.jpg', '149230.jpg', '149320.jpg', '149321.jpg', '149329.jpg', '149331.jpg', '149416.jpg', '149426.jpg', '149431.jpg', '149459.jpg', '149482.jpg', '149488.jpg', '149547.jpg', '149563.jpg', '149565.jpg', '149573.jpg', '149588.jpg', '149595.jpg', '149674.jpg', '149680.jpg', '149734.jpg', '149775.jpg', '149799.jpg', '149801.jpg', '149804.jpg', '149818.jpg', '149836.jpg', '149877.jpg', '149920.jpg', '149926.jpg', '149936.jpg', '149966.jpg', '150016.jpg', '150033.jpg', '150056.jpg', '150096.jpg', '150133.jpg', '150215.jpg', '150274.jpg', '150323.jpg', '150336.jpg', '150351.jpg', '150382.jpg', '150418.jpg', '150426.jpg', '150448.jpg', '150450.jpg', '150456.jpg', '150465.jpg', '150472.jpg', '150473.jpg', '150481.jpg', '150489.jpg', '150492.jpg', '150518.jpg', '150526.jpg', '150528.jpg', '150537.jpg', '150570.jpg', '150588.jpg', '150616.jpg', '150633.jpg', '150647.jpg', '150678.jpg', '150689.jpg', '150690.jpg', '150752.jpg', '150760.jpg', '150772.jpg', '150827.jpg', '150830.jpg', '150834.jpg', '150885.jpg', '150926.jpg', '150936.jpg', '150938.jpg', '150963.jpg', '151049.jpg', '151187.jpg', '151240.jpg', '151241.jpg', '151255.jpg', '151260.jpg', '151283.jpg', '151284.jpg', '151341.jpg', '151385.jpg', '151392.jpg', '151405.jpg', '151410.jpg', '151426.jpg', '151465.jpg', '151498.jpg', '151509.jpg', '151526.jpg', '151530.jpg', '151544.jpg', '151563.jpg', '151570.jpg', '151591.jpg', '151610.jpg', '151631.jpg', '151643.jpg', '151710.jpg', '151727.jpg', '151729.jpg', '151756.jpg', '151774.jpg', '151793.jpg', '151804.jpg', '151857.jpg', '151862.jpg', '151863.jpg', '151896.jpg', '151942.jpg', '151946.jpg', '151957.jpg', '152044.jpg', '152053.jpg', '152054.jpg', '152060.jpg', '152081.jpg', '152087.jpg', '152088.jpg', '152099.jpg', '152132.jpg', '152161.jpg', '152213.jpg', '152228.jpg', '152291.jpg', '152294.jpg', '152310.jpg', '152321.jpg', '152359.jpg', '152386.jpg', '152413.jpg', '152438.jpg', '152445.jpg', '152453.jpg', '152468.jpg', '152486.jpg', '152533.jpg', '152574.jpg', '152582.jpg', '152586.jpg', '152592.jpg', '152595.jpg', '152618.jpg', '152657.jpg', '152665.jpg', '152666.jpg', '152683.jpg', '152692.jpg', '152712.jpg', '152728.jpg', '152734.jpg', '152776.jpg', '152802.jpg', '152824.jpg', '152839.jpg', '152846.jpg', '152866.jpg', '152903.jpg', '152914.jpg', '152944.jpg', '152948.jpg', '152979.jpg', '152994.jpg', '153018.jpg', '153026.jpg', '153071.jpg', '153089.jpg', '153112.jpg', '153146.jpg', '153152.jpg', '153159.jpg', '153163.jpg', '153173.jpg', '153181.jpg', '153207.jpg', '153212.jpg', '153276.jpg', '153306.jpg', '153338.jpg', '153361.jpg', '153372.jpg', '153382.jpg', '153385.jpg', '153404.jpg', '153431.jpg', '153471.jpg', '153476.jpg', '153484.jpg', '153524.jpg', '153559.jpg', '153595.jpg', '153613.jpg', '153654.jpg', '153656.jpg', '153668.jpg', '153747.jpg', '153800.jpg', '153806.jpg', '153818.jpg', '153860.jpg', '153869.jpg', '153874.jpg', '153885.jpg', '153938.jpg', '153952.jpg', '153996.jpg', '154002.jpg', '154053.jpg', '154070.jpg', '154114.jpg', '154129.jpg', '154164.jpg', '154185.jpg', '154190.jpg', '154196.jpg', '154197.jpg', '154212.jpg', '154247.jpg', '154255.jpg', '154332.jpg', '154335.jpg', '154358.jpg', '154365.jpg', '154378.jpg', '154425.jpg', '154428.jpg', '154441.jpg', '154496.jpg', '154514.jpg', '154536.jpg', '154541.jpg', '154542.jpg', '154595.jpg', '154612.jpg', '154641.jpg', '154649.jpg', '154667.jpg', '154683.jpg', '154697.jpg', '154723.jpg', '154725.jpg', '154726.jpg', '154771.jpg', '154776.jpg', '154801.jpg', '154812.jpg', '154818.jpg', '154826.jpg', '154858.jpg', '154887.jpg', '154903.jpg', '154904.jpg', '154912.jpg', '154948.jpg', '154954.jpg', '154961.jpg', '154988.jpg', '154995.jpg', '155010.jpg', '155032.jpg', '155047.jpg', '155077.jpg', '155150.jpg', '155162.jpg', '155169.jpg', '155186.jpg', '155216.jpg', '155229.jpg', '155236.jpg', '155258.jpg', '155284.jpg', '155289.jpg', '155290.jpg', '155292.jpg', '155296.jpg', '155334.jpg', '155344.jpg', '155371.jpg', '155381.jpg', '155416.jpg', '155426.jpg', '155446.jpg', '155450.jpg', '155524.jpg', '155580.jpg', '155594.jpg', '155621.jpg', '155632.jpg', '155642.jpg', '155682.jpg', '155685.jpg', '155691.jpg', '155707.jpg', '155744.jpg', '155767.jpg', '155781.jpg', '155794.jpg', '155837.jpg', '155840.jpg', '155842.jpg', '155906.jpg', '155916.jpg', '155918.jpg', '155931.jpg', '155935.jpg', '155937.jpg', '155947.jpg', '155967.jpg', '155988.jpg', '156009.jpg', '156038.jpg', '156064.jpg', '156066.jpg', '156082.jpg', '156103.jpg', '156104.jpg', '156129.jpg', '156157.jpg', '156165.jpg', '156190.jpg', '156201.jpg', '156217.jpg', '156228.jpg', '156263.jpg', '156285.jpg', '156303.jpg', '156342.jpg', '156353.jpg', '156368.jpg', '156415.jpg', '156426.jpg', '156434.jpg', '156460.jpg', '156462.jpg', '156477.jpg', '156498.jpg', '156557.jpg', '156560.jpg', '156566.jpg', '156570.jpg', '156583.jpg', '156613.jpg', '156659.jpg', '156729.jpg', '156738.jpg', '156760.jpg', '156768.jpg', '156797.jpg', '156809.jpg', '156813.jpg', '156816.jpg', '156818.jpg', '156830.jpg', '156835.jpg', '156839.jpg', '156850.jpg', '156860.jpg', '156882.jpg', '156889.jpg', '156908.jpg', '156910.jpg', '156913.jpg', '156932.jpg', '156933.jpg', '156934.jpg', '156991.jpg', '156998.jpg', '157017.jpg', '157020.jpg', '157035.jpg', '157055.jpg', '157060.jpg', '157077.jpg', '157081.jpg', '157094.jpg', '157121.jpg', '157161.jpg', '157165.jpg', '157170.jpg', '157177.jpg', '157179.jpg', '157194.jpg', '157198.jpg', '157214.jpg', '157227.jpg', '157279.jpg', '157336.jpg', '157352.jpg', '157372.jpg', '157375.jpg', '157379.jpg', '157398.jpg', '157418.jpg', '157428.jpg', '157429.jpg', '157436.jpg', '157446.jpg', '157460.jpg', '157475.jpg', '157508.jpg', '157540.jpg', '157668.jpg', '157681.jpg', '157720.jpg', '157726.jpg', '157753.jpg', '157769.jpg', '157791.jpg', '157797.jpg', '157801.jpg', '157833.jpg', '157856.jpg', '157865.jpg', '157893.jpg', '157975.jpg', '157979.jpg', '157992.jpg', '158003.jpg', '158072.jpg', '158077.jpg', '158140.jpg', '158161.jpg', '158182.jpg', '158204.jpg', '158209.jpg', '158217.jpg', '158240.jpg', '158264.jpg', '158277.jpg', '158292.jpg', '158315.jpg', '158332.jpg', '158371.jpg', '158413.jpg', '158414.jpg', '158429.jpg', '158466.jpg', '158490.jpg', '158501.jpg', '158506.jpg', '158508.jpg', '158543.jpg', '158557.jpg', '158575.jpg', '158637.jpg', '158643.jpg', '158647.jpg', '158682.jpg', '158685.jpg', '158693.jpg', '158714.jpg', '158753.jpg', '158767.jpg', '158770.jpg', '158774.jpg', '158810.jpg', '158812.jpg', '158918.jpg', '158923.jpg', '158966.jpg', '158989.jpg', '158999.jpg', '159016.jpg', '159025.jpg', '159027.jpg', '159046.jpg', '159068.jpg', '159085.jpg', '159091.jpg', '159109.jpg', '159116.jpg', '159130.jpg', '159140.jpg', '159235.jpg', '159246.jpg', '159248.jpg', '159282.jpg', '159304.jpg', '159332.jpg', '159347.jpg', '159362.jpg', '159373.jpg', '159449.jpg', '159450.jpg', '159464.jpg', '159475.jpg', '159502.jpg', '159504.jpg', '159551.jpg', '159562.jpg', '159595.jpg', '159603.jpg', '159605.jpg', '159656.jpg', '159674.jpg', '159675.jpg', '159691.jpg', '159711.jpg', '159732.jpg', '159737.jpg', '159739.jpg', '159769.jpg', '159778.jpg', '159817.jpg', '159825.jpg', '159855.jpg', '159857.jpg', '159866.jpg', '159883.jpg', '159885.jpg', '159895.jpg', '159925.jpg', '159930.jpg', '159945.jpg', '159957.jpg', '159962.jpg', '159971.jpg', '160003.jpg', '160046.jpg', '160054.jpg', '160061.jpg', '160071.jpg', '160087.jpg', '160098.jpg', '160101.jpg', '160112.jpg', '160113.jpg', '160152.jpg', '160270.jpg', '160271.jpg', '160296.jpg', '160324.jpg', '160345.jpg', '160400.jpg', '160404.jpg', '160425.jpg', '160431.jpg', '160433.jpg', '160457.jpg', '160493.jpg', '160505.jpg', '160517.jpg', '160555.jpg', '160562.jpg', '160625.jpg', '160640.jpg', '160660.jpg', '160679.jpg', '160680.jpg', '160685.jpg', '160698.jpg', '160717.jpg', '160732.jpg', '160741.jpg', '160755.jpg', '160778.jpg', '160779.jpg', '160785.jpg', '160794.jpg', '160819.jpg', '160825.jpg', '160834.jpg', '160839.jpg', '160876.jpg', '160883.jpg', '160896.jpg', '160914.jpg', '160935.jpg', '160949.jpg', '160963.jpg', '160979.jpg', '161009.jpg', '161012.jpg', '161017.jpg', '161029.jpg', '161043.jpg', '161046.jpg', '161082.jpg', '161121.jpg', '161161.jpg', '161189.jpg', '161202.jpg', '161208.jpg', '161210.jpg', '161222.jpg', '161271.jpg', '161291.jpg', '161305.jpg', '161356.jpg', '161369.jpg', '161391.jpg', '161430.jpg', '161440.jpg', '161457.jpg', '161510.jpg', '161516.jpg', '161531.jpg', '161585.jpg', '161586.jpg', '161615.jpg', '161622.jpg', '161636.jpg', '161638.jpg', '161642.jpg', '161648.jpg', '161652.jpg', '161676.jpg', '161694.jpg', '161750.jpg', '161788.jpg', '161799.jpg', '161849.jpg', '161851.jpg', '161932.jpg', '161943.jpg', '161967.jpg', '161985.jpg', '161986.jpg', '161999.jpg', '162003.jpg', '162039.jpg', '162080.jpg', '162083.jpg', '162119.jpg', '162137.jpg', '162147.jpg', '162155.jpg', '162175.jpg', '162178.jpg', '162181.jpg', '162196.jpg', '162208.jpg', '162213.jpg', '162216.jpg', '162225.jpg', '162238.jpg', '162269.jpg', '162299.jpg', '162315.jpg', '162370.jpg', '162371.jpg', '162384.jpg', '162423.jpg', '162427.jpg', '162465.jpg', '162466.jpg', '162485.jpg', '162533.jpg', '162554.jpg', '162562.jpg', '162572.jpg', '162628.jpg', '162647.jpg', '162656.jpg', '162744.jpg', '162764.jpg', '162772.jpg', '162778.jpg', '162827.jpg', '162834.jpg', '162853.jpg', '162857.jpg', '162864.jpg', '162882.jpg', '162885.jpg', '162890.jpg', '162897.jpg', '162933.jpg', '162941.jpg', '162942.jpg', '162947.jpg', '162960.jpg', '162975.jpg', '162988.jpg', '163009.jpg', '163029.jpg', '163057.jpg', '163069.jpg', '163114.jpg', '163115.jpg', '163119.jpg', '163134.jpg', '163146.jpg', '163162.jpg', '163164.jpg', '163188.jpg', '163190.jpg', '163235.jpg', '163247.jpg', '163297.jpg', '163310.jpg', '163335.jpg', '163353.jpg', '163357.jpg', '163408.jpg', '163429.jpg', '163466.jpg', '163505.jpg', '163526.jpg', '163586.jpg', '163588.jpg', '163602.jpg', '163624.jpg', '163626.jpg', '163632.jpg', '163676.jpg', '163765.jpg', '163771.jpg', '163782.jpg', '163792.jpg', '163795.jpg', '163806.jpg', '163898.jpg', '163899.jpg', '163928.jpg', '163947.jpg', '163950.jpg', '164025.jpg', '164027.jpg', '164042.jpg', '164066.jpg', '164112.jpg', '164113.jpg', '164116.jpg', '164132.jpg', '164147.jpg', '164173.jpg', '164180.jpg', '164187.jpg', '164218.jpg', '164219.jpg', '164220.jpg', '164228.jpg', '164231.jpg', '164233.jpg', '164260.jpg', '164284.jpg', '164302.jpg', '164310.jpg', '164311.jpg', '164422.jpg', '164437.jpg', '164533.jpg', '164570.jpg', '164579.jpg', '164588.jpg', '164605.jpg', '164607.jpg', '164631.jpg', '164662.jpg', '164675.jpg', '164706.jpg', '164719.jpg', '164730.jpg', '164781.jpg', '164822.jpg', '164834.jpg', '164847.jpg', '164864.jpg', '164880.jpg', '164929.jpg', '164947.jpg', '164948.jpg', '164957.jpg', '164986.jpg', '164987.jpg', '165000.jpg', '165010.jpg', '165019.jpg', '165020.jpg', '165025.jpg', '165035.jpg', '165054.jpg', '165069.jpg', '165090.jpg', '165100.jpg', '165107.jpg', '165165.jpg', '165195.jpg', '165197.jpg', '165217.jpg', '165225.jpg', '165235.jpg', '165272.jpg', '165276.jpg', '165311.jpg', '165349.jpg', '165351.jpg', '165358.jpg', '165372.jpg', '165379.jpg', '165386.jpg', '165411.jpg', '165441.jpg', '165447.jpg', '165460.jpg', '165472.jpg', '165473.jpg', '165476.jpg', '165512.jpg', '165557.jpg', '165578.jpg', '165581.jpg', '165588.jpg', '165589.jpg', '165606.jpg', '165620.jpg', '165629.jpg', '165639.jpg', '165665.jpg', '165670.jpg', '165682.jpg', '165715.jpg', '165757.jpg', '165765.jpg', '165811.jpg', '165816.jpg', '165832.jpg', '165837.jpg', '165847.jpg', '165858.jpg', '165883.jpg', '165886.jpg', '165912.jpg', '165913.jpg', '165957.jpg', '165959.jpg', '165960.jpg', '166007.jpg', '166036.jpg', '166039.jpg', '166042.jpg', '166078.jpg', '166104.jpg', '166128.jpg', '166130.jpg', '166155.jpg', '166161.jpg', '166177.jpg', '166182.jpg', '166190.jpg', '166232.jpg', '166287.jpg', '166332.jpg', '166337.jpg', '166342.jpg', '166373.jpg', '166405.jpg', '166440.jpg', '166446.jpg', '166480.jpg', '166503.jpg', '166505.jpg', '166546.jpg', '166551.jpg', '166558.jpg', '166563.jpg', '166621.jpg', '166627.jpg', '166629.jpg', '166632.jpg', '166646.jpg', '166667.jpg', '166671.jpg', '166672.jpg', '166706.jpg', '166717.jpg', '166781.jpg', '166803.jpg', '166828.jpg', '166835.jpg', '166841.jpg', '166846.jpg', '166859.jpg', '166866.jpg', '166886.jpg', '166902.jpg', '166912.jpg', '166957.jpg', '166966.jpg', '166976.jpg', '166982.jpg', '166995.jpg', '167013.jpg', '167061.jpg', '167069.jpg', '167073.jpg', '167085.jpg', '167101.jpg', '167111.jpg', '167115.jpg', '167124.jpg', '167142.jpg', '167153.jpg', '167169.jpg', '167171.jpg', '167173.jpg', '167210.jpg', '167257.jpg', '167282.jpg', '167296.jpg', '167330.jpg', '167347.jpg', '167405.jpg', '167414.jpg', '167464.jpg', '167493.jpg', '167509.jpg', '167559.jpg', '167628.jpg', '167672.jpg', '167674.jpg', '167677.jpg', '167727.jpg', '167809.jpg', '167812.jpg', '167813.jpg', '167826.jpg', '167848.jpg', '167875.jpg', '167914.jpg', '167923.jpg', '167987.jpg', '167991.jpg', '168035.jpg', '168066.jpg', '168092.jpg', '168107.jpg', '168109.jpg', '168132.jpg', '168133.jpg', '168137.jpg', '168181.jpg', '168197.jpg', '168220.jpg', '168222.jpg', '168256.jpg', '168273.jpg', '168275.jpg', '168329.jpg', '168358.jpg', '168429.jpg', '168430.jpg', '168444.jpg', '168476.jpg', '168482.jpg', '168501.jpg', '168513.jpg', '168527.jpg', '168572.jpg', '168601.jpg', '168629.jpg', '168699.jpg', '168738.jpg', '168754.jpg', '168766.jpg', '168810.jpg', '168814.jpg', '168817.jpg', '168878.jpg', '168910.jpg', '168919.jpg', '168954.jpg', '168963.jpg', '168969.jpg', '169048.jpg', '169059.jpg', '169074.jpg', '169098.jpg', '169132.jpg', '169146.jpg', '169191.jpg', '169199.jpg', '169273.jpg', '169283.jpg', '169305.jpg', '169307.jpg', '169336.jpg', '169340.jpg', '169384.jpg', '169401.jpg', '169443.jpg', '169446.jpg', '169545.jpg', '169570.jpg', '169575.jpg', '169628.jpg', '169636.jpg', '169640.jpg', '169661.jpg', '169678.jpg', '169700.jpg', '169721.jpg', '169729.jpg', '169749.jpg', '169797.jpg', '169835.jpg', '169876.jpg', '169897.jpg', '169975.jpg', '169976.jpg', '170018.jpg', '170024.jpg', '170025.jpg', '170037.jpg', '170108.jpg', '170115.jpg', '170121.jpg', '170140.jpg', '170146.jpg', '170165.jpg', '170204.jpg', '170227.jpg', '170235.jpg', '170238.jpg', '170268.jpg', '170277.jpg', '170279.jpg', '170287.jpg', '170342.jpg', '170408.jpg', '170413.jpg', '170429.jpg', '170444.jpg', '170472.jpg', '170491.jpg', '170514.jpg', '170527.jpg', '170548.jpg', '170584.jpg', '170650.jpg', '170651.jpg', '170668.jpg', '170693.jpg', '170702.jpg', '170732.jpg', '170753.jpg', '170802.jpg', '170824.jpg', '170837.jpg', '170883.jpg', '170897.jpg', '170919.jpg', '170920.jpg', '170935.jpg', '171017.jpg', '171047.jpg', '171068.jpg', '171119.jpg', '171151.jpg', '171177.jpg', '171188.jpg', '171206.jpg', '171227.jpg', '171230.jpg', '171247.jpg', '171265.jpg', '171271.jpg', '171312.jpg', '171336.jpg', '171363.jpg', '171408.jpg', '171424.jpg', '171451.jpg', '171463.jpg', '171482.jpg', '171560.jpg', '171562.jpg', '171583.jpg', '171586.jpg', '171599.jpg', '171605.jpg', '171665.jpg', '171667.jpg', '171681.jpg', '171687.jpg', '171703.jpg', '171733.jpg', '171770.jpg', '171779.jpg', '171792.jpg', '171808.jpg', '171818.jpg', '171839.jpg', '171842.jpg', '171846.jpg', '171924.jpg', '171943.jpg', '171979.jpg', '172002.jpg', '172042.jpg', '172045.jpg', '172048.jpg', '172078.jpg', '172079.jpg', '172100.jpg', '172127.jpg', '172132.jpg', '172142.jpg', '172151.jpg', '172184.jpg', '172190.jpg', '172216.jpg', '172223.jpg', '172250.jpg', '172265.jpg', '172347.jpg', '172362.jpg', '172387.jpg', '172432.jpg', '172464.jpg', '172469.jpg', '172470.jpg', '172477.jpg', '172483.jpg', '172527.jpg', '172552.jpg', '172582.jpg', '172609.jpg', '172619.jpg', '172663.jpg', '172679.jpg', '172688.jpg', '172697.jpg', '172718.jpg', '172742.jpg', '172748.jpg', '172749.jpg', '172774.jpg', '172784.jpg', '172788.jpg', '172809.jpg', '172822.jpg', '172830.jpg', '172835.jpg', '172890.jpg', '172899.jpg', '172915.jpg', '172917.jpg', '172934.jpg', '172965.jpg', '172974.jpg', '172978.jpg', '172991.jpg', '172997.jpg', '172999.jpg', '173006.jpg', '173009.jpg', '173054.jpg', '173072.jpg', '173076.jpg', '173122.jpg', '173129.jpg', '173130.jpg', '173161.jpg', '173162.jpg', '173198.jpg', '173205.jpg', '173231.jpg', '173232.jpg', '173287.jpg', '173314.jpg', '173338.jpg', '173380.jpg', '173399.jpg', '173441.jpg', '173450.jpg', '173466.jpg', '173475.jpg', '173488.jpg', '173501.jpg', '173519.jpg', '173547.jpg', '173549.jpg', '173574.jpg', '173578.jpg', '173599.jpg', '173625.jpg', '173632.jpg', '173659.jpg', '173670.jpg', '173684.jpg', '173703.jpg', '173728.jpg', '173737.jpg', '173767.jpg', '173793.jpg', '173808.jpg', '173895.jpg', '173911.jpg', '173913.jpg', '173916.jpg', '174008.jpg', '174039.jpg', '174040.jpg', '174073.jpg', '174108.jpg', '174139.jpg', '174144.jpg', '174149.jpg', '174171.jpg', '174206.jpg', '174227.jpg', '174241.jpg', '174256.jpg', '174290.jpg', '174301.jpg', '174432.jpg', '174451.jpg', '174544.jpg', '174567.jpg', '174589.jpg', '174593.jpg', '174607.jpg', '174635.jpg', '174658.jpg', '174668.jpg', '174669.jpg', '174699.jpg', '174702.jpg', '174759.jpg', '174791.jpg', '174792.jpg', '174810.jpg', '174822.jpg', '174824.jpg', '174839.jpg', '174842.jpg', '174844.jpg', '174855.jpg', '174872.jpg', '174936.jpg', '174973.jpg', '174989.jpg', '174999.jpg', '175079.jpg', '175102.jpg', '175133.jpg', '175150.jpg', '175183.jpg', '175209.jpg', '175225.jpg', '175233.jpg', '175239.jpg', '175252.jpg', '175278.jpg', '175291.jpg', '175355.jpg', '175387.jpg', '175509.jpg', '175535.jpg', '175560.jpg', '175587.jpg', '175595.jpg', '175612.jpg', '175620.jpg', '175700.jpg', '175713.jpg', '175716.jpg', '175748.jpg', '175750.jpg', '175756.jpg', '175774.jpg', '175775.jpg', '175778.jpg', '175805.jpg', '175811.jpg', '175819.jpg', '175836.jpg', '175840.jpg', '175863.jpg', '175889.jpg', '175890.jpg', '175891.jpg', '175908.jpg', '175913.jpg', '175954.jpg', '175964.jpg', '175970.jpg', '176001.jpg', '176036.jpg', '176038.jpg', '176048.jpg', '176090.jpg', '176095.jpg', '176105.jpg', '176118.jpg', '176120.jpg', '176140.jpg', '176164.jpg', '176220.jpg', '176271.jpg', '176306.jpg', '176330.jpg', '176361.jpg', '176411.jpg', '176424.jpg', '176470.jpg', '176500.jpg', '176520.jpg', '176550.jpg', '176589.jpg', '176593.jpg', '176612.jpg', '176616.jpg', '176622.jpg', '176625.jpg', '176660.jpg', '176687.jpg', '176728.jpg', '176735.jpg', '176747.jpg', '176769.jpg', '176780.jpg', '176801.jpg', '176805.jpg', '176814.jpg', '176817.jpg', '176825.jpg', '176826.jpg', '176841.jpg', '176850.jpg', '176852.jpg', '176900.jpg', '176903.jpg', '176909.jpg', '176917.jpg', '176928.jpg', '176952.jpg', '176990.jpg', '177004.jpg', '177007.jpg', '177019.jpg', '177030.jpg', '177037.jpg', '177046.jpg', '177066.jpg', '177071.jpg', '177098.jpg', '177159.jpg', '177175.jpg', '177200.jpg', '177205.jpg', '177220.jpg', '177221.jpg', '177252.jpg', '177254.jpg', '177269.jpg', '177360.jpg', '177377.jpg', '177395.jpg', '177448.jpg', '177449.jpg', '177459.jpg', '177534.jpg', '177539.jpg', '177544.jpg', '177552.jpg', '177610.jpg', '177619.jpg', '177643.jpg', '177661.jpg', '177669.jpg', '177675.jpg', '177703.jpg', '177724.jpg', '177727.jpg', '177731.jpg', '177738.jpg', '177747.jpg', '177804.jpg', '177853.jpg', '177854.jpg', '177892.jpg', '177941.jpg', '177956.jpg', '177957.jpg', '177972.jpg', '177981.jpg', '177982.jpg', '178006.jpg', '178019.jpg', '178027.jpg', '178053.jpg', '178060.jpg', '178065.jpg', '178096.jpg', '178099.jpg', '178103.jpg', '178122.jpg', '178201.jpg', '178208.jpg', '178225.jpg', '178268.jpg', '178294.jpg', '178303.jpg', '178318.jpg', '178332.jpg', '178345.jpg', '178378.jpg', '178395.jpg', '178428.jpg', '178436.jpg', '178445.jpg', '178453.jpg', '178461.jpg', '178463.jpg', '178474.jpg', '178476.jpg', '178577.jpg', '178593.jpg', '178598.jpg', '178604.jpg', '178619.jpg', '178663.jpg', '178677.jpg', '178678.jpg', '178698.jpg', '178744.jpg', '178763.jpg', '178776.jpg', '178801.jpg', '178806.jpg', '178818.jpg', '178825.jpg', '178839.jpg', '178876.jpg', '178928.jpg', '178942.jpg', '178945.jpg', '178958.jpg', '178999.jpg', '179011.jpg', '179013.jpg', '179042.jpg', '179045.jpg', '179067.jpg', '179112.jpg', '179127.jpg', '179131.jpg', '179170.jpg', '179195.jpg', '179228.jpg', '179238.jpg', '179253.jpg', '179278.jpg', '179282.jpg', '179314.jpg', '179331.jpg', '179371.jpg', '179380.jpg', '179381.jpg', '179388.jpg', '179424.jpg', '179453.jpg', '179461.jpg', '179472.jpg', '179478.jpg', '179526.jpg', '179661.jpg', '179674.jpg', '179717.jpg', '179733.jpg', '179746.jpg', '179852.jpg', '179853.jpg', '179886.jpg', '179936.jpg', '179939.jpg', '179943.jpg', '179961.jpg', '179972.jpg', '180007.jpg', '180008.jpg', '180018.jpg', '180026.jpg', '180034.jpg', '180036.jpg', '180064.jpg', '180069.jpg', '180089.jpg', '180092.jpg', '180096.jpg', '180102.jpg', '180125.jpg', '180174.jpg', '180197.jpg', '180230.jpg', '180249.jpg', '180251.jpg', '180300.jpg', '180323.jpg', '180430.jpg', '180476.jpg', '180487.jpg', '180502.jpg', '180509.jpg', '180583.jpg', '180585.jpg', '180590.jpg', '180603.jpg', '180627.jpg', '180632.jpg', '180643.jpg', '180672.jpg', '180737.jpg', '180764.jpg', '180799.jpg', '180822.jpg', '180839.jpg', '180855.jpg', '180858.jpg', '180866.jpg', '180875.jpg', '180910.jpg', '180925.jpg', '180999.jpg', '181004.jpg', '181016.jpg', '181042.jpg', '181062.jpg', '181068.jpg', '181077.jpg', '181081.jpg', '181095.jpg', '181131.jpg', '181137.jpg', '181138.jpg', '181156.jpg', '181167.jpg', '181177.jpg', '181178.jpg', '181196.jpg', '181200.jpg', '181201.jpg', '181208.jpg', '181220.jpg', '181250.jpg', '181254.jpg', '181268.jpg', '181288.jpg', '181349.jpg', '181385.jpg', '181392.jpg', '181393.jpg', '181418.jpg', '181419.jpg', '181425.jpg', '181434.jpg', '181446.jpg', '181474.jpg', '181488.jpg', '181506.jpg', '181557.jpg', '181592.jpg', '181596.jpg', '181597.jpg', '181616.jpg', '181665.jpg', '181685.jpg', '181686.jpg', '181691.jpg', '181722.jpg', '181729.jpg', '181774.jpg', '181784.jpg', '181795.jpg', '181814.jpg', '181827.jpg', '181833.jpg', '181837.jpg', '181881.jpg', '181891.jpg', '181895.jpg', '181915.jpg', '181921.jpg', '181943.jpg', '181946.jpg', '181989.jpg', '182001.jpg', '182011.jpg', '182014.jpg', '182028.jpg', '182058.jpg', '182074.jpg', '182108.jpg', '182150.jpg', '182154.jpg', '182155.jpg', '182157.jpg', '182158.jpg', '182170.jpg', '182196.jpg', '182204.jpg', '182220.jpg', '182258.jpg', '182303.jpg', '182307.jpg', '182311.jpg', '182318.jpg', '182324.jpg', '182330.jpg', '182359.jpg', '182381.jpg', '182484.jpg', '182505.jpg', '182536.jpg', '182581.jpg', '182622.jpg', '182653.jpg', '182672.jpg', '182682.jpg', '182685.jpg', '182751.jpg', '182786.jpg', '182805.jpg', '182811.jpg', '182833.jpg', '182850.jpg', '182873.jpg', '182877.jpg', '182896.jpg', '182903.jpg', '182906.jpg', '182928.jpg', '182953.jpg', '182988.jpg', '183004.jpg', '183007.jpg', '183017.jpg', '183018.jpg', '183066.jpg', '183081.jpg', '183083.jpg', '183202.jpg', '183204.jpg', '183245.jpg', '183291.jpg', '183309.jpg', '183317.jpg', '183323.jpg', '183329.jpg', '183341.jpg', '183368.jpg', '183406.jpg', '183448.jpg', '183454.jpg', '183456.jpg', '183462.jpg', '183489.jpg', '183531.jpg', '183550.jpg', '183558.jpg', '183605.jpg', '183635.jpg', '183690.jpg', '183700.jpg', '183718.jpg', '183731.jpg', '183759.jpg', '183761.jpg', '183769.jpg', '183788.jpg', '183805.jpg', '183824.jpg', '183847.jpg', '183855.jpg', '183873.jpg', '183879.jpg', '183925.jpg', '183926.jpg', '183950.jpg', '183953.jpg', '183968.jpg', '183999.jpg', '184059.jpg', '184076.jpg', '184136.jpg', '184139.jpg', '184174.jpg', '184219.jpg', '184245.jpg', '184252.jpg', '184253.jpg', '184254.jpg', '184261.jpg', '184264.jpg', '184280.jpg', '184308.jpg', '184311.jpg', '184314.jpg', '184355.jpg', '184411.jpg', '184475.jpg', '184485.jpg', '184486.jpg', '184489.jpg', '184503.jpg', '184506.jpg', '184512.jpg', '184539.jpg', '184544.jpg', '184555.jpg', '184589.jpg', '184599.jpg', '184606.jpg', '184613.jpg', '184631.jpg', '184636.jpg', '184640.jpg', '184689.jpg', '184697.jpg', '184739.jpg', '184746.jpg', '184782.jpg', '184795.jpg', '184893.jpg', '184908.jpg', '184946.jpg', '184947.jpg', '184951.jpg', '184953.jpg', '184983.jpg', '184986.jpg', '184995.jpg', '185022.jpg', '185034.jpg', '185063.jpg', '185087.jpg', '185121.jpg', '185129.jpg', '185203.jpg', '185210.jpg', '185219.jpg', '185220.jpg', '185229.jpg', '185235.jpg', '185254.jpg', '185273.jpg', '185276.jpg', '185311.jpg', '185315.jpg', '185342.jpg', '185354.jpg', '185363.jpg', '185397.jpg', '185399.jpg', '185460.jpg', '185462.jpg', '185477.jpg', '185486.jpg', '185488.jpg', '185512.jpg', '185515.jpg', '185525.jpg', '185538.jpg', '185594.jpg', '185598.jpg', '185616.jpg', '185649.jpg', '185653.jpg', '185677.jpg', '185701.jpg', '185705.jpg', '185726.jpg', '185728.jpg', '185740.jpg', '185769.jpg', '185796.jpg', '185802.jpg', '185815.jpg', '185830.jpg', '185915.jpg', '185931.jpg', '185937.jpg', '185950.jpg', '185962.jpg', '185975.jpg', '185983.jpg', '185998.jpg', '186030.jpg', '186042.jpg', '186076.jpg', '186077.jpg', '186087.jpg', '186090.jpg', '186105.jpg', '186156.jpg', '186179.jpg', '186204.jpg', '186223.jpg', '186243.jpg', '186250.jpg', '186278.jpg', '186284.jpg', '186340.jpg', '186366.jpg', '186377.jpg', '186378.jpg', '186394.jpg', '186400.jpg', '186410.jpg', '186422.jpg', '186440.jpg', '186508.jpg', '186509.jpg', '186523.jpg', '186524.jpg', '186572.jpg', '186589.jpg', '186590.jpg', '186597.jpg', '186602.jpg', '186643.jpg', '186678.jpg', '186710.jpg', '186789.jpg', '186801.jpg', '186840.jpg', '186897.jpg', '186900.jpg', '186916.jpg', '186940.jpg', '186968.jpg', '186985.jpg', '187036.jpg', '187058.jpg', '187082.jpg', '187086.jpg', '187165.jpg', '187169.jpg', '187188.jpg', '187191.jpg', '187192.jpg', '187194.jpg', '187214.jpg', '187223.jpg', '187252.jpg', '187255.jpg', '187278.jpg', '187310.jpg', '187323.jpg', '187333.jpg', '187365.jpg', '187394.jpg', '187399.jpg', '187415.jpg', '187418.jpg', '187479.jpg', '187538.jpg', '187542.jpg', '187543.jpg', '187582.jpg', '187589.jpg', '187601.jpg', '187609.jpg', '187683.jpg', '187707.jpg', '187714.jpg', '187729.jpg', '187736.jpg', '187743.jpg', '187748.jpg', '187749.jpg', '187750.jpg', '187774.jpg', '187809.jpg', '187834.jpg', '187848.jpg', '187850.jpg', '187868.jpg', '187882.jpg', '187926.jpg', '187937.jpg', '187948.jpg', '187977.jpg', '188022.jpg', '188040.jpg', '188042.jpg', '188070.jpg', '188136.jpg', '188142.jpg', '188218.jpg', '188239.jpg', '188296.jpg', '188297.jpg', '188308.jpg', '188325.jpg', '188425.jpg', '188443.jpg', '188447.jpg', '188455.jpg', '188476.jpg', '188488.jpg', '188504.jpg', '188516.jpg', '188541.jpg', '188551.jpg', '188573.jpg', '188608.jpg', '188613.jpg', '188616.jpg', '188621.jpg', '188642.jpg', '188644.jpg', '188653.jpg', '188697.jpg', '188735.jpg', '188741.jpg', '188749.jpg', '188758.jpg', '188772.jpg', '188849.jpg', '188856.jpg', '188868.jpg', '188870.jpg', '188884.jpg', '188912.jpg', '188996.jpg', '189010.jpg', '189046.jpg', '189048.jpg', '189074.jpg', '189082.jpg', '189094.jpg', '189142.jpg', '189147.jpg', '189165.jpg', '189215.jpg', '189219.jpg', '189224.jpg', '189232.jpg', '189233.jpg', '189236.jpg', '189255.jpg', '189320.jpg', '189329.jpg', '189358.jpg', '189378.jpg', '189405.jpg', '189406.jpg', '189419.jpg', '189424.jpg', '189473.jpg', '189497.jpg', '189499.jpg', '189503.jpg', '189550.jpg', '189556.jpg', '189564.jpg', '189576.jpg', '189605.jpg', '189609.jpg', '189616.jpg', '189631.jpg', '189635.jpg', '189648.jpg', '189701.jpg', '189705.jpg', '189708.jpg', '189726.jpg', '189787.jpg', '189823.jpg', '189827.jpg', '189848.jpg', '189870.jpg', '189872.jpg', '189877.jpg', '189888.jpg', '189893.jpg', '189906.jpg', '189985.jpg', '189988.jpg', '189994.jpg', '190030.jpg', '190050.jpg', '190063.jpg', '190106.jpg', '190109.jpg', '190143.jpg', '190144.jpg', '190178.jpg', '190213.jpg', '190225.jpg', '190235.jpg', '190267.jpg', '190269.jpg', '190273.jpg', '190297.jpg', '190314.jpg', '190343.jpg', '190366.jpg', '190452.jpg', '190457.jpg', '190473.jpg', '190475.jpg', '190533.jpg', '190544.jpg', '190549.jpg', '190554.jpg', '190612.jpg', '190625.jpg', '190675.jpg', '190687.jpg', '190697.jpg', '190713.jpg', '190730.jpg', '190772.jpg', '190806.jpg', '190826.jpg', '190831.jpg', '190839.jpg', '190902.jpg', '190912.jpg', '190915.jpg', '190945.jpg', '190957.jpg', '190994.jpg', '191039.jpg', '191041.jpg', '191045.jpg', '191067.jpg', '191070.jpg', '191082.jpg', '191112.jpg', '191115.jpg', '191123.jpg', '191130.jpg', '191139.jpg', '191148.jpg', '191149.jpg', '191152.jpg', '191158.jpg', '191165.jpg', '191197.jpg', '191207.jpg', '191277.jpg', '191290.jpg', '191291.jpg', '191300.jpg', '191326.jpg', '191327.jpg', '191333.jpg', '191352.jpg', '191378.jpg', '191442.jpg', '191481.jpg', '191485.jpg', '191517.jpg', '191531.jpg', '191543.jpg', '191579.jpg', '191586.jpg', '191604.jpg', '191617.jpg', '191619.jpg', '191690.jpg', '191692.jpg', '191714.jpg', '191743.jpg', '191759.jpg', '191766.jpg', '191795.jpg', '191808.jpg', '191848.jpg', '191856.jpg', '191875.jpg', '191892.jpg', '191907.jpg', '191909.jpg', '191911.jpg', '191931.jpg', '191937.jpg', '191944.jpg', '191959.jpg', '191960.jpg', '191977.jpg', '192012.jpg', '192033.jpg', '192058.jpg', '192113.jpg', '192125.jpg', '192126.jpg', '192127.jpg', '192128.jpg', '192134.jpg', '192139.jpg', '192150.jpg', '192169.jpg', '192199.jpg', '192209.jpg', '192210.jpg', '192217.jpg', '192225.jpg', '192236.jpg', '192245.jpg', '192261.jpg', '192270.jpg', '192288.jpg', '192311.jpg', '192414.jpg', '192423.jpg', '192433.jpg', '192435.jpg', '192438.jpg', '192442.jpg', '192448.jpg', '192457.jpg', '192466.jpg', '192498.jpg', '192500.jpg', '192502.jpg', '192504.jpg', '192551.jpg', '192554.jpg', '192590.jpg', '192605.jpg', '192635.jpg', '192650.jpg', '192690.jpg', '192697.jpg', '192736.jpg', '192739.jpg', '192741.jpg', '192766.jpg', '192771.jpg', '192781.jpg', '192795.jpg', '192804.jpg', '192829.jpg', '192832.jpg', '192835.jpg', '192858.jpg', '192894.jpg', '192937.jpg', '192974.jpg', '193006.jpg', '193065.jpg', '193088.jpg', '193111.jpg', '193123.jpg', '193161.jpg', '193172.jpg', '193238.jpg', '193275.jpg', '193278.jpg', '193292.jpg', '193299.jpg', '193306.jpg', '193318.jpg', '193327.jpg', '193334.jpg', '193339.jpg', '193373.jpg', '193384.jpg', '193424.jpg', '193442.jpg', '193449.jpg', '193491.jpg', '193492.jpg', '193502.jpg', '193520.jpg', '193527.jpg', '193551.jpg', '193552.jpg', '193556.jpg', '193566.jpg', '193592.jpg', '193633.jpg', '193656.jpg', '193691.jpg', '193693.jpg', '193796.jpg', '193827.jpg', '193840.jpg', '193860.jpg', '193872.jpg', '193889.jpg', '193919.jpg', '193921.jpg', '193923.jpg', '193964.jpg', '194004.jpg', '194009.jpg', '194040.jpg', '194060.jpg', '194084.jpg', '194144.jpg', '194162.jpg', '194165.jpg', '194209.jpg', '194221.jpg', '194231.jpg', '194251.jpg', '194305.jpg', '194327.jpg', '194379.jpg', '194388.jpg', '194404.jpg', '194409.jpg', '194418.jpg', '194451.jpg', '194453.jpg', '194465.jpg', '194503.jpg', '194550.jpg', '194560.jpg', '194582.jpg', '194598.jpg', '194609.jpg', '194611.jpg', '194624.jpg', '194655.jpg', '194692.jpg', '194729.jpg', '194740.jpg', '194770.jpg', '194802.jpg', '194828.jpg', '194869.jpg', '194897.jpg', '194901.jpg', '194944.jpg', '194957.jpg', '194978.jpg', '194979.jpg', '195027.jpg', '195037.jpg', '195042.jpg', '195048.jpg', '195079.jpg', '195134.jpg', '195175.jpg', '195229.jpg', '195270.jpg', '195274.jpg', '195290.jpg', '195293.jpg', '195317.jpg', '195318.jpg', '195322.jpg', '195327.jpg', '195346.jpg', '195367.jpg', '195388.jpg', '195423.jpg', '195443.jpg', '195457.jpg', '195465.jpg', '195470.jpg', '195478.jpg', '195521.jpg', '195524.jpg', '195538.jpg', '195550.jpg', '195553.jpg', '195633.jpg', '195653.jpg', '195658.jpg', '195672.jpg', '195693.jpg', '195712.jpg', '195738.jpg', '195799.jpg', '195816.jpg', '195819.jpg', '195833.jpg', '195873.jpg', '195888.jpg', '195953.jpg', '195968.jpg', '195979.jpg', '196000.jpg', '196019.jpg', '196023.jpg', '196035.jpg', '196070.jpg', '196085.jpg', '196112.jpg', '196147.jpg', '196172.jpg', '196174.jpg', '196189.jpg', '196278.jpg', '196347.jpg', '196354.jpg', '196375.jpg', '196377.jpg', '196386.jpg', '196395.jpg', '196414.jpg', '196440.jpg', '196458.jpg', '196465.jpg', '196546.jpg', '196561.jpg', '196574.jpg', '196598.jpg', '196627.jpg', '196659.jpg', '196668.jpg', '196686.jpg', '196697.jpg', '196744.jpg', '196795.jpg', '196801.jpg', '196809.jpg', '196816.jpg', '196871.jpg', '196891.jpg', '196893.jpg', '196937.jpg', '196946.jpg', '196974.jpg', '196978.jpg', '197037.jpg', '197046.jpg', '197073.jpg', '197095.jpg', '197110.jpg', '197164.jpg', '197197.jpg', '197198.jpg', '197238.jpg', '197298.jpg', '197311.jpg', '197319.jpg', '197336.jpg', '197346.jpg', '197350.jpg', '197356.jpg', '197409.jpg', '197424.jpg', '197448.jpg', '197452.jpg', '197498.jpg', '197507.jpg', '197520.jpg', '197523.jpg', '197531.jpg', '197570.jpg', '197638.jpg', '197642.jpg', '197648.jpg', '197658.jpg', '197681.jpg', '197687.jpg', '197695.jpg', '197732.jpg', '197742.jpg', '197843.jpg', '197860.jpg', '197902.jpg', '197904.jpg', '197975.jpg', '198044.jpg', '198047.jpg', '198061.jpg', '198082.jpg', '198088.jpg', '198176.jpg', '198190.jpg', '198198.jpg', '198200.jpg', '198214.jpg', '198266.jpg', '198294.jpg', '198301.jpg', '198302.jpg', '198348.jpg', '198354.jpg', '198358.jpg', '198364.jpg', '198388.jpg', '198394.jpg', '198413.jpg', '198471.jpg', '198526.jpg', '198543.jpg', '198566.jpg', '198569.jpg', '198590.jpg', '198609.jpg', '198627.jpg', '198661.jpg', '198703.jpg', '198733.jpg', '198756.jpg', '198780.jpg', '198791.jpg', '198812.jpg', '198874.jpg', '198877.jpg', '198936.jpg', '198954.jpg', '198958.jpg', '198959.jpg', '198965.jpg', '198988.jpg', '199006.jpg', '199036.jpg', '199094.jpg', '199096.jpg', '199108.jpg', '199182.jpg', '199218.jpg', '199220.jpg', '199226.jpg', '199246.jpg', '199253.jpg', '199254.jpg', '199265.jpg', '199286.jpg', '199287.jpg', '199290.jpg', '199310.jpg', '199322.jpg', '199330.jpg', '199334.jpg', '199340.jpg', '199342.jpg', '199361.jpg', '199363.jpg', '199368.jpg', '199405.jpg', '199442.jpg', '199484.jpg', '199503.jpg', '199535.jpg', '199560.jpg', '199562.jpg', '199586.jpg', '199589.jpg', '199590.jpg', '199598.jpg', '199638.jpg', '199642.jpg', '199675.jpg', '199689.jpg', '199768.jpg', '199790.jpg', '199848.jpg', '199928.jpg', '199942.jpg', '199962.jpg', '199963.jpg', '199965.jpg', '200018.jpg', '200029.jpg', '200039.jpg', '200058.jpg', '200072.jpg', '200085.jpg', '200105.jpg', '200109.jpg', '200112.jpg', '200113.jpg', '200133.jpg', '200141.jpg', '200144.jpg', '200147.jpg', '200180.jpg', '200244.jpg', '200308.jpg', '200345.jpg', '200348.jpg', '200369.jpg', '200379.jpg', '200395.jpg', '200422.jpg', '200467.jpg', '200484.jpg', '200487.jpg', '200497.jpg', '200518.jpg', '200524.jpg', '200555.jpg', '200580.jpg', '200587.jpg', '200591.jpg', '200604.jpg', '200605.jpg', '200670.jpg', '200691.jpg', '200696.jpg', '200742.jpg', '200856.jpg', '200875.jpg', '200969.jpg', '200973.jpg', '200989.jpg', '201009.jpg', '201018.jpg', '201033.jpg', '201040.jpg', '201045.jpg', '201102.jpg', '201107.jpg', '201108.jpg', '201193.jpg', '201269.jpg', '201276.jpg', '201282.jpg', '201306.jpg', '201325.jpg', '201336.jpg', '201351.jpg', '201368.jpg', '201430.jpg', '201456.jpg', '201498.jpg', '201506.jpg', '201522.jpg', '201538.jpg', '201555.jpg', '201560.jpg', '201575.jpg', '201581.jpg', '201604.jpg', '201611.jpg', '201624.jpg', '201652.jpg', '201719.jpg', '201756.jpg', '201797.jpg', '201856.jpg', '201863.jpg', '201870.jpg', '201877.jpg', '201886.jpg', '201987.jpg', '202011.jpg', '202020.jpg', '202039.jpg', '202051.jpg', '202090.jpg', '202101.jpg', '202126.jpg', '202132.jpg', '202139.jpg', '202155.jpg', '202157.jpg', '202195.jpg', '202212.jpg', '202253.jpg', '202258.jpg', '202265.jpg', '202277.jpg', '202310.jpg', '202312.jpg', '202365.jpg', '202382.jpg', '202400.jpg', '202405.jpg', '202408.jpg', '202424.jpg', '202427.jpg', '202443.jpg', '202453.jpg', '202456.jpg', '202480.jpg', '202494.jpg', '202521.jpg', '202564.jpg', '202575.jpg', '202578.jpg']\n",
            "10000\n"
          ],
          "name": "stdout"
        }
      ]
    },
    {
      "cell_type": "code",
      "metadata": {
        "id": "HNNkX09cpABQ",
        "colab": {
          "base_uri": "https://localhost:8080/",
          "height": 69
        },
        "outputId": "3146bb10-9d97-4777-e301-a871d5fbd133"
      },
      "source": [
        "photo = cv2.imread(f\"./img_align_celeba/000232.jpg\", 0)\n",
        "print(photo.shape)\n",
        "photo = photo.flatten()\n",
        "print(photo.shape)\n",
        "print(photo)"
      ],
      "execution_count": null,
      "outputs": [
        {
          "output_type": "stream",
          "text": [
            "(218, 178)\n",
            "(38804,)\n",
            "[83 83 84 ... 64 55 55]\n"
          ],
          "name": "stdout"
        }
      ]
    },
    {
      "cell_type": "code",
      "metadata": {
        "id": "kgwRHqxs3uBn",
        "colab": {
          "base_uri": "https://localhost:8080/",
          "height": 139
        },
        "outputId": "437fbc00-1dbd-4967-c36b-6cf05d11fb7e"
      },
      "source": [
        "import cv2\n",
        "x_data = np.array([])\n",
        "for i, j in enumerate(wow):\n",
        "  photo = cv2.imread(f\"./img_align_celeba/{j}\", 0)\n",
        "  photo = photo.flatten()\n",
        "  if len(x_data) == 0:\n",
        "    x_data = photo\n",
        "  else:\n",
        "    x_data = np.vstack((x_data, photo))\n",
        "x_data\n",
        "# 100M 100F of 218x178 photos: (200*218) x 178"
      ],
      "execution_count": null,
      "outputs": [
        {
          "output_type": "execute_result",
          "data": {
            "text/plain": [
              "array([[ 59,  64,  64, ...,  76,  77,  77],\n",
              "       [139, 139, 139, ...,  20,  34,  39],\n",
              "       [ 73,  77,  74, ..., 214, 215, 217],\n",
              "       ...,\n",
              "       [  2,   2,   2, ...,  42,  56,  57],\n",
              "       [255, 255, 255, ...,  41,  50,  52],\n",
              "       [ 32,  29,  25, ...,  72,  72,  72]], dtype=uint8)"
            ]
          },
          "metadata": {
            "tags": []
          },
          "execution_count": 185
        }
      ]
    },
    {
      "cell_type": "code",
      "metadata": {
        "id": "77ELLuuMHLBh",
        "colab": {
          "base_uri": "https://localhost:8080/",
          "height": 121
        },
        "outputId": "a21e9f12-0976-4d7f-f093-28dd01405e0b"
      },
      "source": [
        "y_labels = data[\"Male\"]\n",
        "y_labels.head(5)"
      ],
      "execution_count": null,
      "outputs": [
        {
          "output_type": "execute_result",
          "data": {
            "text/plain": [
              "81     1\n",
              "84     0\n",
              "107    0\n",
              "155    0\n",
              "200    0\n",
              "Name: Male, dtype: int64"
            ]
          },
          "metadata": {
            "tags": []
          },
          "execution_count": 186
        }
      ]
    },
    {
      "cell_type": "code",
      "metadata": {
        "id": "oEztfsJOJQrP",
        "colab": {
          "base_uri": "https://localhost:8080/",
          "height": 35
        },
        "outputId": "9aff8ef0-034e-408f-a377-47be2889dbd4"
      },
      "source": [
        "x_data.shape, y_labels.shape"
      ],
      "execution_count": null,
      "outputs": [
        {
          "output_type": "execute_result",
          "data": {
            "text/plain": [
              "((10000, 38804), (10000,))"
            ]
          },
          "metadata": {
            "tags": []
          },
          "execution_count": 187
        }
      ]
    },
    {
      "cell_type": "code",
      "metadata": {
        "id": "eaTVcaMEG5Zy",
        "colab": {
          "base_uri": "https://localhost:8080/",
          "height": 35
        },
        "outputId": "5b2b8ae0-a5d7-468b-8993-38c07dc117b0"
      },
      "source": [
        "# Shuffle\n",
        "from sklearn.utils import shuffle\n",
        "x_data, y_labels = shuffle(x_data, y_labels, random_state=42)\n",
        "\n",
        "# Train Test Split\n",
        "from sklearn.model_selection import train_test_split\n",
        "\n",
        "x_train, x_test, y_train, y_test = train_test_split(x_data, y_labels, test_size=0.1, random_state=42) # 10% of the data is used to test\n",
        "\n",
        "x_train.shape, y_train.shape"
      ],
      "execution_count": null,
      "outputs": [
        {
          "output_type": "execute_result",
          "data": {
            "text/plain": [
              "((9000, 38804), (9000,))"
            ]
          },
          "metadata": {
            "tags": []
          },
          "execution_count": 188
        }
      ]
    },
    {
      "cell_type": "code",
      "metadata": {
        "id": "tF3SRXMjIKP5",
        "colab": {
          "base_uri": "https://localhost:8080/",
          "height": 52
        },
        "outputId": "6ca7b9a2-0b4c-4bcf-9acc-ecd3e1461c48"
      },
      "source": [
        "# Reshape and normalize\n",
        "x_train = x_train.reshape(x_train.shape[0], 218, 178, 1).astype('float32')\n",
        "x_test = x_test.reshape(x_test.shape[0], 218, 178, 1).astype('float32')\n",
        "\n",
        "x_train /= 255.0 # To make the values between 0 and 1\n",
        "x_test /= 255.0\n",
        "\n",
        "print(x_train.shape)\n",
        "x_train.ndim"
      ],
      "execution_count": null,
      "outputs": [
        {
          "output_type": "stream",
          "text": [
            "(9000, 218, 178, 1)\n"
          ],
          "name": "stdout"
        },
        {
          "output_type": "execute_result",
          "data": {
            "text/plain": [
              "4"
            ]
          },
          "metadata": {
            "tags": []
          },
          "execution_count": 189
        }
      ]
    },
    {
      "cell_type": "code",
      "metadata": {
        "id": "phw_SZcd34c-",
        "colab": {
          "base_uri": "https://localhost:8080/",
          "height": 208
        },
        "outputId": "f9818841-6d16-4afd-b3d9-7e09f28617f5"
      },
      "source": [
        "type(y_train)\n",
        "y_train.head(10)"
      ],
      "execution_count": null,
      "outputs": [
        {
          "output_type": "execute_result",
          "data": {
            "text/plain": [
              "66151     0\n",
              "149965    1\n",
              "120936    0\n",
              "195818    1\n",
              "230       0\n",
              "43399     0\n",
              "183316    0\n",
              "17463     0\n",
              "194597    0\n",
              "23003     1\n",
              "Name: Male, dtype: int64"
            ]
          },
          "metadata": {
            "tags": []
          },
          "execution_count": 190
        }
      ]
    },
    {
      "cell_type": "code",
      "metadata": {
        "id": "e-Ho-5g72kF1"
      },
      "source": [
        "\n",
        "y_train = tf.keras.utils.to_categorical(y_train, 2) # 1 hot encoding\n",
        "y_test = tf.keras.utils.to_categorical(y_test, 2)"
      ],
      "execution_count": null,
      "outputs": []
    },
    {
      "cell_type": "code",
      "metadata": {
        "id": "b1AtQnxz4_In",
        "colab": {
          "base_uri": "https://localhost:8080/",
          "height": 35
        },
        "outputId": "1ff2cf21-75bd-4b9f-bb28-bbf89c02bab4"
      },
      "source": [
        "y_train.shape, y_test.shape"
      ],
      "execution_count": null,
      "outputs": [
        {
          "output_type": "execute_result",
          "data": {
            "text/plain": [
              "((9000, 2), (1000, 2))"
            ]
          },
          "metadata": {
            "tags": []
          },
          "execution_count": 192
        }
      ]
    },
    {
      "cell_type": "code",
      "metadata": {
        "id": "l2mkOHqN1yKL"
      },
      "source": [
        "# Data Pipeline\n",
        "\n",
        "import keras\n",
        "import tensorflow as tf\n",
        "from keras.models import Model, Sequential\n",
        "from keras.applications.mobilenet import MobileNet\n",
        "from keras.layers import *\n",
        "from keras.optimizers import Adam, SGD"
      ],
      "execution_count": null,
      "outputs": []
    },
    {
      "cell_type": "code",
      "metadata": {
        "id": "2xM08nIK16Qk"
      },
      "source": [
        "# Setting up our Network Hyper Parameters\n",
        "\n",
        "learning_rate = 0.001 \n",
        "training_epochs = 10\n",
        "batch_size = 128\n",
        "num_classes = 20"
      ],
      "execution_count": null,
      "outputs": []
    },
    {
      "cell_type": "code",
      "metadata": {
        "id": "sXh9ZT9L18Ri"
      },
      "source": [
        "input_shape = (218,178,1)\n",
        "num_classes = 2\n",
        "\n",
        "# Model\n",
        "Inp=Input(shape=input_shape)\n",
        "x = Conv2D(32, kernel_size=(3, 3), activation='relu',name = 'Conv_01')(Inp)\n",
        "x = MaxPooling2D(pool_size=(2, 2),name = 'MaxPool_01')(x)\n",
        "x = Conv2D(64, (3, 3), activation='relu',name = 'Conv_02')(x)\n",
        "x = MaxPooling2D(pool_size=(2, 2),name = 'MaxPool_02')(x)\n",
        "x = Conv2D(64, (3, 3), activation='relu',name = 'Conv_03')(x)\n",
        "x = Flatten(name = 'Flatten_01')(x)\n",
        "x = Dense(64, activation='relu',name = 'Dense_01')(x)\n",
        "x = Dropout(0.5,name = 'Dropout_02')(x)\n",
        "output = Dense(num_classes, activation='softmax',name = 'Dense_02')(x)"
      ],
      "execution_count": null,
      "outputs": []
    },
    {
      "cell_type": "code",
      "metadata": {
        "id": "5-o8GCxK2B7t",
        "colab": {
          "base_uri": "https://localhost:8080/",
          "height": 485
        },
        "outputId": "261ce115-0ee0-473a-ae5b-aa5dfc5366f5"
      },
      "source": [
        "model = Model(Inp,output)\n",
        "model.summary()"
      ],
      "execution_count": null,
      "outputs": [
        {
          "output_type": "stream",
          "text": [
            "_________________________________________________________________\n",
            "Layer (type)                 Output Shape              Param #   \n",
            "=================================================================\n",
            "input_6 (InputLayer)         (None, 218, 178, 1)       0         \n",
            "_________________________________________________________________\n",
            "Conv_01 (Conv2D)             (None, 216, 176, 32)      320       \n",
            "_________________________________________________________________\n",
            "MaxPool_01 (MaxPooling2D)    (None, 108, 88, 32)       0         \n",
            "_________________________________________________________________\n",
            "Conv_02 (Conv2D)             (None, 106, 86, 64)       18496     \n",
            "_________________________________________________________________\n",
            "MaxPool_02 (MaxPooling2D)    (None, 53, 43, 64)        0         \n",
            "_________________________________________________________________\n",
            "Conv_03 (Conv2D)             (None, 51, 41, 64)        36928     \n",
            "_________________________________________________________________\n",
            "Flatten_01 (Flatten)         (None, 133824)            0         \n",
            "_________________________________________________________________\n",
            "Dense_01 (Dense)             (None, 64)                8564800   \n",
            "_________________________________________________________________\n",
            "Dropout_02 (Dropout)         (None, 64)                0         \n",
            "_________________________________________________________________\n",
            "Dense_02 (Dense)             (None, 2)                 130       \n",
            "=================================================================\n",
            "Total params: 8,620,674\n",
            "Trainable params: 8,620,674\n",
            "Non-trainable params: 0\n",
            "_________________________________________________________________\n"
          ],
          "name": "stdout"
        }
      ]
    },
    {
      "cell_type": "code",
      "metadata": {
        "id": "fj29YfvQ2E-n"
      },
      "source": [
        "model.compile(loss=tf.keras.losses.categorical_crossentropy,\n",
        "              optimizer= Adam(),\n",
        "              metrics=['accuracy'])"
      ],
      "execution_count": null,
      "outputs": []
    },
    {
      "cell_type": "code",
      "metadata": {
        "id": "Q6BbsWcJ2Hei",
        "colab": {
          "base_uri": "https://localhost:8080/",
          "height": 381
        },
        "outputId": "40a3369a-e060-4ca3-e7c9-1443d33cd8dd"
      },
      "source": [
        "hist = model.fit(x_train, y_train,\n",
        "          batch_size=batch_size,\n",
        "          epochs=10,\n",
        "          verbose=1,\n",
        "          callbacks = None,\n",
        "          validation_data=(x_test, y_test))"
      ],
      "execution_count": null,
      "outputs": [
        {
          "output_type": "stream",
          "text": [
            "Train on 9000 samples, validate on 1000 samples\n",
            "Epoch 1/10\n",
            "9000/9000 [==============================] - 20s 2ms/step - loss: 0.6556 - acc: 0.6808 - val_loss: 0.3618 - val_acc: 0.8490\n",
            "Epoch 2/10\n",
            "9000/9000 [==============================] - 18s 2ms/step - loss: 0.3244 - acc: 0.8661 - val_loss: 0.2476 - val_acc: 0.8890\n",
            "Epoch 3/10\n",
            "9000/9000 [==============================] - 18s 2ms/step - loss: 0.2313 - acc: 0.9097 - val_loss: 0.2026 - val_acc: 0.9210\n",
            "Epoch 4/10\n",
            "9000/9000 [==============================] - 18s 2ms/step - loss: 0.1779 - acc: 0.9294 - val_loss: 0.1833 - val_acc: 0.9230\n",
            "Epoch 5/10\n",
            "9000/9000 [==============================] - 18s 2ms/step - loss: 0.1448 - acc: 0.9427 - val_loss: 0.1915 - val_acc: 0.9170\n",
            "Epoch 6/10\n",
            "9000/9000 [==============================] - 18s 2ms/step - loss: 0.1014 - acc: 0.9610 - val_loss: 0.1951 - val_acc: 0.9340\n",
            "Epoch 7/10\n",
            "9000/9000 [==============================] - 18s 2ms/step - loss: 0.0864 - acc: 0.9686 - val_loss: 0.1994 - val_acc: 0.9300\n",
            "Epoch 8/10\n",
            "9000/9000 [==============================] - 18s 2ms/step - loss: 0.0670 - acc: 0.9744 - val_loss: 0.2196 - val_acc: 0.9260\n",
            "Epoch 9/10\n",
            "9000/9000 [==============================] - 18s 2ms/step - loss: 0.0526 - acc: 0.9791 - val_loss: 0.2426 - val_acc: 0.9200\n",
            "Epoch 10/10\n",
            "9000/9000 [==============================] - 18s 2ms/step - loss: 0.0458 - acc: 0.9827 - val_loss: 0.2657 - val_acc: 0.9210\n"
          ],
          "name": "stdout"
        }
      ]
    },
    {
      "cell_type": "code",
      "metadata": {
        "id": "ozQd5gyi2Psn"
      },
      "source": [
        "def plot_train(hist):\n",
        "    h = hist.history\n",
        "    if 'acc' in h:\n",
        "        meas='acc'\n",
        "        loc='lower right'\n",
        "    else:\n",
        "        meas='loss'\n",
        "        loc='upper right'\n",
        "    plt.plot(hist.history[meas])\n",
        "    plt.plot(hist.history['val_'+meas])\n",
        "    plt.title('model '+meas)\n",
        "    plt.ylabel(meas)\n",
        "    plt.xlabel('epoch')\n",
        "    plt.legend(['train', 'validation'], loc=loc)"
      ],
      "execution_count": null,
      "outputs": []
    },
    {
      "cell_type": "code",
      "metadata": {
        "id": "ZLEqP2xh50d0",
        "colab": {
          "base_uri": "https://localhost:8080/",
          "height": 295
        },
        "outputId": "36a49d58-c6f4-4003-a5d1-b9bc3a9713ba"
      },
      "source": [
        "plot_train(hist)"
      ],
      "execution_count": null,
      "outputs": [
        {
          "output_type": "display_data",
          "data": {
            "image/png": "[encoded data removed]",
            "text/plain": [
              "<Figure size 432x288 with 1 Axes>"
            ]
          },
          "metadata": {
            "tags": []
          }
        }
      ]
    },
    {
      "cell_type": "code",
      "metadata": {
        "id": "WaSRq32ODwuo",
        "colab": {
          "base_uri": "https://localhost:8080/",
          "height": 281
        },
        "outputId": "99b6c9ee-ed70-4cd1-dfb1-7e80eb35f612"
      },
      "source": [
        "# Plot loss function value through epochs\n",
        "plt.figure(figsize=(18, 4))\n",
        "plt.plot(hist.history['loss'], label = 'train')\n",
        "plt.plot(hist.history['val_loss'], label = 'valid')\n",
        "plt.legend()\n",
        "plt.title('Loss Function')\n",
        "plt.show()"
      ],
      "execution_count": null,
      "outputs": [
        {
          "output_type": "display_data",
          "data": {
            "image/png": "[encoded data removed]",
            "text/plain": [
              "<Figure size 1296x288 with 1 Axes>"
            ]
          },
          "metadata": {
            "tags": []
          }
        }
      ]
    },
    {
      "cell_type": "code",
      "metadata": {
        "id": "_PIRU8_k52bq",
        "colab": {
          "base_uri": "https://localhost:8080/",
          "height": 52
        },
        "outputId": "6cbfaf67-0a5b-42d9-ef2a-a4df74de5009"
      },
      "source": [
        "# Overfitting seems to be occuring. Wanted to use more samples but takes too long to process\n",
        "model.evaluate(x_test,y_test)"
      ],
      "execution_count": null,
      "outputs": [
        {
          "output_type": "stream",
          "text": [
            "1000/1000 [==============================] - 1s 1ms/step\n"
          ],
          "name": "stdout"
        },
        {
          "output_type": "execute_result",
          "data": {
            "text/plain": [
              "[0.26574166750907896, 0.921]"
            ]
          },
          "metadata": {
            "tags": []
          },
          "execution_count": 201
        }
      ]
    },
    {
      "cell_type": "markdown",
      "metadata": {
        "id": "ofpWVWELGbq8"
      },
      "source": [
        "0.921 Test Accuracy"
      ]
    },
    {
      "cell_type": "code",
      "metadata": {
        "id": "ScYDWYBTFuik"
      },
      "source": [
        ""
      ],
      "execution_count": null,
      "outputs": []
    }
  ]
}