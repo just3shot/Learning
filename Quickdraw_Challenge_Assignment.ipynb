{
  "nbformat": 4,
  "nbformat_minor": 0,
  "metadata": {
    "colab": {
      "name": "Quickdraw Challenge Assignment.ipynb",
      "provenance": [],
      "collapsed_sections": [],
      "include_colab_link": true
    },
    "kernelspec": {
      "name": "python3",
      "display_name": "Python 3"
    }
  },
  "cells": [
    {
      "cell_type": "markdown",
      "metadata": {
        "id": "view-in-github",
        "colab_type": "text"
      },
      "source": [
        "<a href=\"https://colab.research.google.com/github/just3shot/Learning/blob/main/Quickdraw_Challenge_Assignment.ipynb\" target=\"_parent\"><img src=\"https://colab.research.google.com/assets/colab-badge.svg\" alt=\"Open In Colab\"/></a>"
      ]
    },
    {
      "cell_type": "code",
      "metadata": {
        "id": "24aPnyiZan2C",
        "colab": {
          "base_uri": "https://localhost:8080/",
          "height": 35
        },
        "outputId": "88e116d6-d700-424f-a2bd-3b2655eee0f9"
      },
      "source": [
        "!wget -qq https://www.dropbox.com/s/gdlb8dnjzcly51o/quickdraw.zip\n",
        "  \n",
        "!unzip -qq quickdraw.zip\n",
        "\n",
        "!rm -r __MACOSX\n",
        "!rm quickdraw.zip\n",
        "\n",
        "!ls"
      ],
      "execution_count": null,
      "outputs": [
        {
          "output_type": "stream",
          "text": [
            "quickdraw  sample_data\n"
          ],
          "name": "stdout"
        }
      ]
    },
    {
      "cell_type": "code",
      "metadata": {
        "id": "XX9N24LwbESd",
        "colab": {
          "base_uri": "https://localhost:8080/",
          "height": 104
        },
        "outputId": "545051dd-ab66-4254-c938-47178bb53ce1"
      },
      "source": [
        "!ls quickdraw\n",
        "\n"
      ],
      "execution_count": null,
      "outputs": [
        {
          "output_type": "stream",
          "text": [
            "'alarm clock.npy'   bee.npy\t\t cookie.npy\t  lollipop.npy\n",
            " ambulance.npy\t   'birthday cake.npy'\t donut.npy\t 'palm tree.npy'\n",
            " angel.npy\t    brain.npy\t\t eyeglasses.npy   pig.npy\n",
            " ant.npy\t    cactus.npy\t\t face.npy\t  postcard.npy\n",
            " banana.npy\t    cat.npy\t\t fish.npy\t  rainbow.npy\n"
          ],
          "name": "stdout"
        }
      ]
    },
    {
      "cell_type": "code",
      "metadata": {
        "id": "p6nsFxdVbGkK"
      },
      "source": [
        "import matplotlib.pyplot as plt\n",
        "import matplotlib.cm as cm # colourmap\n",
        "%matplotlib inline\n",
        "\n",
        "import numpy as np\n",
        "\n",
        "from glob import glob # filename pattern matching module\n",
        "import ntpath\n",
        "# http://effbot.org/librarybook/ntpath.htm\n",
        "# provides os.path functionality on Windows platform\n",
        "\n",
        "import tensorflow as tf"
      ],
      "execution_count": null,
      "outputs": []
    },
    {
      "cell_type": "code",
      "metadata": {
        "id": "Rh8_9BsMd8Qt"
      },
      "source": [
        "file_names = glob(\"./quickdraw/*.npy\") # Grab and make a list of file names with .npy extension "
      ],
      "execution_count": null,
      "outputs": []
    },
    {
      "cell_type": "code",
      "metadata": {
        "id": "m4M-Md3VeVL9",
        "colab": {
          "base_uri": "https://localhost:8080/",
          "height": 381
        },
        "outputId": "832b6c43-d3d3-45d1-baa8-e385bbf3ec89"
      },
      "source": [
        "print(type(file_names))\n",
        "file_names"
      ],
      "execution_count": null,
      "outputs": [
        {
          "output_type": "stream",
          "text": [
            "<class 'list'>\n"
          ],
          "name": "stdout"
        },
        {
          "output_type": "execute_result",
          "data": {
            "text/plain": [
              "['./quickdraw/cactus.npy',\n",
              " './quickdraw/ant.npy',\n",
              " './quickdraw/pig.npy',\n",
              " './quickdraw/brain.npy',\n",
              " './quickdraw/birthday cake.npy',\n",
              " './quickdraw/face.npy',\n",
              " './quickdraw/bee.npy',\n",
              " './quickdraw/cookie.npy',\n",
              " './quickdraw/fish.npy',\n",
              " './quickdraw/ambulance.npy',\n",
              " './quickdraw/lollipop.npy',\n",
              " './quickdraw/banana.npy',\n",
              " './quickdraw/alarm clock.npy',\n",
              " './quickdraw/donut.npy',\n",
              " './quickdraw/postcard.npy',\n",
              " './quickdraw/eyeglasses.npy',\n",
              " './quickdraw/angel.npy',\n",
              " './quickdraw/cat.npy',\n",
              " './quickdraw/palm tree.npy',\n",
              " './quickdraw/rainbow.npy']"
            ]
          },
          "metadata": {
            "tags": []
          },
          "execution_count": 25
        }
      ]
    },
    {
      "cell_type": "code",
      "metadata": {
        "id": "zYaI-wSIdf08",
        "colab": {
          "base_uri": "https://localhost:8080/",
          "height": 55
        },
        "outputId": "46538a39-6d56-45fa-b54b-8d7c584864ea"
      },
      "source": [
        "# Make some class names for classification\n",
        "class_names = []\n",
        "\n",
        "for file in file_names:\n",
        "  name = ntpath.basename(file)\n",
        "  name = name[:-4] # Remove the .npy extension in name\n",
        "  class_names.append(name)\n",
        "print(class_names)"
      ],
      "execution_count": null,
      "outputs": [
        {
          "output_type": "stream",
          "text": [
            "['cactus', 'ant', 'pig', 'brain', 'birthday cake', 'face', 'bee', 'cookie', 'fish', 'ambulance', 'lollipop', 'banana', 'alarm clock', 'donut', 'postcard', 'eyeglasses', 'angel', 'cat', 'palm tree', 'rainbow']\n"
          ],
          "name": "stdout"
        }
      ]
    },
    {
      "cell_type": "code",
      "metadata": {
        "id": "NsrEZHtddlrU",
        "colab": {
          "base_uri": "https://localhost:8080/",
          "height": 364
        },
        "outputId": "e4cce1e7-48b8-4039-aa9b-91e4f7d3876f"
      },
      "source": [
        "# Test to see what i am doing\n",
        "for i, j in enumerate(file_names): # j refers to the filename\n",
        "  print(i,j)"
      ],
      "execution_count": null,
      "outputs": [
        {
          "output_type": "stream",
          "text": [
            "0 ./quickdraw/cactus.npy\n",
            "1 ./quickdraw/ant.npy\n",
            "2 ./quickdraw/pig.npy\n",
            "3 ./quickdraw/brain.npy\n",
            "4 ./quickdraw/birthday cake.npy\n",
            "5 ./quickdraw/face.npy\n",
            "6 ./quickdraw/bee.npy\n",
            "7 ./quickdraw/cookie.npy\n",
            "8 ./quickdraw/fish.npy\n",
            "9 ./quickdraw/ambulance.npy\n",
            "10 ./quickdraw/lollipop.npy\n",
            "11 ./quickdraw/banana.npy\n",
            "12 ./quickdraw/alarm clock.npy\n",
            "13 ./quickdraw/donut.npy\n",
            "14 ./quickdraw/postcard.npy\n",
            "15 ./quickdraw/eyeglasses.npy\n",
            "16 ./quickdraw/angel.npy\n",
            "17 ./quickdraw/cat.npy\n",
            "18 ./quickdraw/palm tree.npy\n",
            "19 ./quickdraw/rainbow.npy\n"
          ],
          "name": "stdout"
        }
      ]
    },
    {
      "cell_type": "code",
      "metadata": {
        "id": "tQeeN1SmgXOC",
        "colab": {
          "base_uri": "https://localhost:8080/",
          "height": 52
        },
        "outputId": "0eddc72f-6e93-4040-b21a-aa691d966958"
      },
      "source": [
        "# x_data is the dataset used\n",
        "# y_labels is the labeling of data \n",
        "x_data = []\n",
        "y_labels = []\n",
        "\n",
        "for i, j in enumerate(file_names):\n",
        "  array_data = np.load(j) # j itself is just a file path\n",
        "  array_data = array_data[:10000, :] # Crop the first 10k data entries\n",
        "  x_data.append(array_data)\n",
        "  \n",
        "  for k in range(10000):\n",
        "    k = i\n",
        "    y_labels.append(k) # Should have 10k 0, 10k 1, 10k 2 ....., 10k 20\n",
        "  \n",
        "x_data = np.asarray(x_data) # (20, 10000, 784)\n",
        "x_data = np.reshape(x_data, (20*10000, 784))\n",
        "print(x_data.shape)\n",
        "\n",
        "y_labels = np.asarray(y_labels)\n",
        "y_labels.shape\n",
        "  "
      ],
      "execution_count": null,
      "outputs": [
        {
          "output_type": "stream",
          "text": [
            "(200000, 784)\n"
          ],
          "name": "stdout"
        },
        {
          "output_type": "execute_result",
          "data": {
            "text/plain": [
              "(200000,)"
            ]
          },
          "metadata": {
            "tags": []
          },
          "execution_count": 28
        }
      ]
    },
    {
      "cell_type": "code",
      "metadata": {
        "id": "RL_L75qqiS2o",
        "colab": {
          "base_uri": "https://localhost:8080/",
          "height": 35
        },
        "outputId": "1c2e1633-aa8d-4301-eec0-cdcdca8dc624"
      },
      "source": [
        "# Shuffle\n",
        "from sklearn.utils import shuffle\n",
        "x_data, y_labels = shuffle(x_data, y_labels, random_state=42)\n",
        "\n",
        "# Train Test Split\n",
        "from sklearn.model_selection import train_test_split\n",
        "\n",
        "x_train, x_test, y_train, y_test = train_test_split(x_data, y_labels, test_size=0.1, random_state=42) # 10% of the data is used to test\n",
        "\n",
        "x_train.shape, y_train.shape"
      ],
      "execution_count": null,
      "outputs": [
        {
          "output_type": "execute_result",
          "data": {
            "text/plain": [
              "((180000, 784), (180000,))"
            ]
          },
          "metadata": {
            "tags": []
          },
          "execution_count": 29
        }
      ]
    },
    {
      "cell_type": "code",
      "metadata": {
        "id": "WxNx1BV6mweC",
        "colab": {
          "base_uri": "https://localhost:8080/",
          "height": 35
        },
        "outputId": "353ffd4e-7da0-4d66-bc55-99bae117d0bf"
      },
      "source": [
        "y_labels[:10]"
      ],
      "execution_count": null,
      "outputs": [
        {
          "output_type": "execute_result",
          "data": {
            "text/plain": [
              "array([11,  7, 15,  6,  3,  2, 13, 17, 13,  0])"
            ]
          },
          "metadata": {
            "tags": []
          },
          "execution_count": 30
        }
      ]
    },
    {
      "cell_type": "code",
      "metadata": {
        "id": "3Z5_mpwFnv7y",
        "colab": {
          "base_uri": "https://localhost:8080/",
          "height": 52
        },
        "outputId": "693ae34f-e563-4817-c17e-bb73acdccdc4"
      },
      "source": [
        "# Preprocessing the Data\n",
        "image_size = 28\n",
        "\n",
        "# Reshape and normalize\n",
        "x_train = x_train.reshape(x_train.shape[0], image_size, image_size, 1).astype('float32')\n",
        "x_test = x_test.reshape(x_test.shape[0], image_size, image_size, 1).astype('float32')\n",
        "\n",
        "x_train /= 255.0 # To make the values between 0 and 1\n",
        "x_test /= 255.0\n",
        "\n",
        "print(x_train.shape)\n",
        "x_train.ndim"
      ],
      "execution_count": null,
      "outputs": [
        {
          "output_type": "stream",
          "text": [
            "(180000, 28, 28, 1)\n"
          ],
          "name": "stdout"
        },
        {
          "output_type": "execute_result",
          "data": {
            "text/plain": [
              "4"
            ]
          },
          "metadata": {
            "tags": []
          },
          "execution_count": 31
        }
      ]
    },
    {
      "cell_type": "code",
      "metadata": {
        "id": "kEhsvOm7qQzu",
        "colab": {
          "base_uri": "https://localhost:8080/",
          "height": 35
        },
        "outputId": "7f9dd552-98de-40d2-9e9a-fddfa5add869"
      },
      "source": [
        "y_train[:10]\n",
        "# We want to change 16 to [0,0,0,0,0,0,0,0,0,0,0,0,0,0,0,0,1,0,0,0]"
      ],
      "execution_count": null,
      "outputs": [
        {
          "output_type": "execute_result",
          "data": {
            "text/plain": [
              "array([16, 19,  0,  9, 14, 15, 10,  2,  1,  6])"
            ]
          },
          "metadata": {
            "tags": []
          },
          "execution_count": 32
        }
      ]
    },
    {
      "cell_type": "code",
      "metadata": {
        "id": "-PdLIG3XpzlI"
      },
      "source": [
        "# Convert class vectors to class matrices\n",
        "y_train = tf.keras.utils.to_categorical(y_train, len(class_names)) # 1 hot encoding\n",
        "y_test = tf.keras.utils.to_categorical(y_test, len(class_names))"
      ],
      "execution_count": null,
      "outputs": []
    },
    {
      "cell_type": "code",
      "metadata": {
        "id": "8kAZr2Eoq9jx",
        "colab": {
          "base_uri": "https://localhost:8080/",
          "height": 121
        },
        "outputId": "d506d476-8f34-41ce-cd9f-dcc3a610ab40"
      },
      "source": [
        "y_train[:3]"
      ],
      "execution_count": null,
      "outputs": [
        {
          "output_type": "execute_result",
          "data": {
            "text/plain": [
              "array([[0., 0., 0., 0., 0., 0., 0., 0., 0., 0., 0., 0., 0., 0., 0., 0.,\n",
              "        1., 0., 0., 0.],\n",
              "       [0., 0., 0., 0., 0., 0., 0., 0., 0., 0., 0., 0., 0., 0., 0., 0.,\n",
              "        0., 0., 0., 1.],\n",
              "       [1., 0., 0., 0., 0., 0., 0., 0., 0., 0., 0., 0., 0., 0., 0., 0.,\n",
              "        0., 0., 0., 0.]], dtype=float32)"
            ]
          },
          "metadata": {
            "tags": []
          },
          "execution_count": 34
        }
      ]
    },
    {
      "cell_type": "code",
      "metadata": {
        "id": "FLVisvNCq-uW",
        "colab": {
          "base_uri": "https://localhost:8080/",
          "height": 35
        },
        "outputId": "7b580edd-5928-4c40-cd7c-5060d6e6cf9d"
      },
      "source": [
        "# Data Pipeline\n",
        "\n",
        "import keras\n",
        "from keras.models import Model, Sequential\n",
        "from keras.applications.mobilenet import MobileNet\n",
        "from keras.layers import *\n",
        "from keras.optimizers import Adam, SGD"
      ],
      "execution_count": null,
      "outputs": [
        {
          "output_type": "stream",
          "text": [
            "Using TensorFlow backend.\n"
          ],
          "name": "stderr"
        }
      ]
    },
    {
      "cell_type": "code",
      "metadata": {
        "id": "EWDX_7Bar_4u"
      },
      "source": [
        "# Setting up our Network Hyper Parameters\n",
        "\n",
        "learning_rate = 0.001 \n",
        "training_epochs = 10\n",
        "batch_size = 128\n",
        "num_classes = 20 "
      ],
      "execution_count": null,
      "outputs": []
    },
    {
      "cell_type": "code",
      "metadata": {
        "id": "lVAh1VU3sE9e",
        "colab": {
          "base_uri": "https://localhost:8080/",
          "height": 141
        },
        "outputId": "7792710c-f819-4122-9145-4908595260a2"
      },
      "source": [
        "input_shape = (28,28,1)\n",
        "num_classes = 20\n",
        "\n",
        "# Model\n",
        "Inp=Input(shape=input_shape)\n",
        "x = Conv2D(32, kernel_size=(3, 3), activation='relu',name = 'Conv_01')(Inp)\n",
        "x = MaxPooling2D(pool_size=(2, 2),name = 'MaxPool_01')(x)\n",
        "x = Conv2D(64, (3, 3), activation='relu',name = 'Conv_02')(x)\n",
        "x = MaxPooling2D(pool_size=(2, 2),name = 'MaxPool_02')(x)\n",
        "x = Conv2D(64, (3, 3), activation='relu',name = 'Conv_03')(x)\n",
        "x = Flatten(name = 'Flatten_01')(x)\n",
        "x = Dense(64, activation='relu',name = 'Dense_01')(x)\n",
        "x = Dropout(0.5,name = 'Dropout_02')(x)\n",
        "output = Dense(num_classes, activation='softmax',name = 'Dense_02')(x)"
      ],
      "execution_count": null,
      "outputs": [
        {
          "output_type": "stream",
          "text": [
            "WARNING:tensorflow:From /usr/local/lib/python3.6/dist-packages/tensorflow/python/framework/op_def_library.py:263: colocate_with (from tensorflow.python.framework.ops) is deprecated and will be removed in a future version.\n",
            "Instructions for updating:\n",
            "Colocations handled automatically by placer.\n",
            "WARNING:tensorflow:From /usr/local/lib/python3.6/dist-packages/keras/backend/tensorflow_backend.py:3445: calling dropout (from tensorflow.python.ops.nn_ops) with keep_prob is deprecated and will be removed in a future version.\n",
            "Instructions for updating:\n",
            "Please use `rate` instead of `keep_prob`. Rate should be set to `rate = 1 - keep_prob`.\n"
          ],
          "name": "stdout"
        }
      ]
    },
    {
      "cell_type": "code",
      "metadata": {
        "id": "9AyJSKkCsTTn",
        "colab": {
          "base_uri": "https://localhost:8080/",
          "height": 485
        },
        "outputId": "cca14f72-3dc4-42a8-d6bf-81f485d0d35e"
      },
      "source": [
        "model = Model(Inp,output)\n",
        "model.summary()"
      ],
      "execution_count": null,
      "outputs": [
        {
          "output_type": "stream",
          "text": [
            "_________________________________________________________________\n",
            "Layer (type)                 Output Shape              Param #   \n",
            "=================================================================\n",
            "input_1 (InputLayer)         (None, 28, 28, 1)         0         \n",
            "_________________________________________________________________\n",
            "Conv_01 (Conv2D)             (None, 26, 26, 32)        320       \n",
            "_________________________________________________________________\n",
            "MaxPool_01 (MaxPooling2D)    (None, 13, 13, 32)        0         \n",
            "_________________________________________________________________\n",
            "Conv_02 (Conv2D)             (None, 11, 11, 64)        18496     \n",
            "_________________________________________________________________\n",
            "MaxPool_02 (MaxPooling2D)    (None, 5, 5, 64)          0         \n",
            "_________________________________________________________________\n",
            "Conv_03 (Conv2D)             (None, 3, 3, 64)          36928     \n",
            "_________________________________________________________________\n",
            "Flatten_01 (Flatten)         (None, 576)               0         \n",
            "_________________________________________________________________\n",
            "Dense_01 (Dense)             (None, 64)                36928     \n",
            "_________________________________________________________________\n",
            "Dropout_02 (Dropout)         (None, 64)                0         \n",
            "_________________________________________________________________\n",
            "Dense_02 (Dense)             (None, 20)                1300      \n",
            "=================================================================\n",
            "Total params: 93,972\n",
            "Trainable params: 93,972\n",
            "Non-trainable params: 0\n",
            "_________________________________________________________________\n"
          ],
          "name": "stdout"
        }
      ]
    },
    {
      "cell_type": "code",
      "metadata": {
        "id": "-kycKrmFsiWe"
      },
      "source": [
        "model.compile(loss=tf.keras.losses.categorical_crossentropy,\n",
        "              optimizer= Adam(),\n",
        "              metrics=['accuracy'])"
      ],
      "execution_count": null,
      "outputs": []
    },
    {
      "cell_type": "code",
      "metadata": {
        "id": "8oINWX1Zsizv",
        "colab": {
          "base_uri": "https://localhost:8080/",
          "height": 381
        },
        "outputId": "e9d6953d-6833-4d53-ec16-6085a9aa1e43"
      },
      "source": [
        "hist = model.fit(x_train, y_train,\n",
        "          batch_size=batch_size,\n",
        "          epochs=10,\n",
        "          verbose=1,\n",
        "          callbacks = None,\n",
        "          validation_data=(x_test, y_test))"
      ],
      "execution_count": null,
      "outputs": [
        {
          "output_type": "stream",
          "text": [
            "Train on 180000 samples, validate on 20000 samples\n",
            "Epoch 1/10\n",
            "180000/180000 [==============================] - 179s 994us/step - loss: 1.1393 - acc: 0.6661 - val_loss: 0.6038 - val_acc: 0.8273\n",
            "Epoch 2/10\n",
            "180000/180000 [==============================] - 178s 988us/step - loss: 0.7050 - acc: 0.8020 - val_loss: 0.4990 - val_acc: 0.8587\n",
            "Epoch 3/10\n",
            "180000/180000 [==============================] - 178s 989us/step - loss: 0.5835 - acc: 0.8373 - val_loss: 0.4363 - val_acc: 0.8766\n",
            "Epoch 4/10\n",
            "180000/180000 [==============================] - 178s 991us/step - loss: 0.5154 - acc: 0.8576 - val_loss: 0.4103 - val_acc: 0.8831\n",
            "Epoch 5/10\n",
            "180000/180000 [==============================] - 184s 1ms/step - loss: 0.4696 - acc: 0.8700 - val_loss: 0.3818 - val_acc: 0.8920\n",
            "Epoch 6/10\n",
            "180000/180000 [==============================] - 179s 995us/step - loss: 0.4402 - acc: 0.8787 - val_loss: 0.3690 - val_acc: 0.8944\n",
            "Epoch 7/10\n",
            "180000/180000 [==============================] - 180s 998us/step - loss: 0.4135 - acc: 0.8864 - val_loss: 0.3569 - val_acc: 0.8993\n",
            "Epoch 8/10\n",
            "180000/180000 [==============================] - 179s 996us/step - loss: 0.3880 - acc: 0.8927 - val_loss: 0.3489 - val_acc: 0.9038\n",
            "Epoch 9/10\n",
            "180000/180000 [==============================] - 179s 993us/step - loss: 0.3717 - acc: 0.8970 - val_loss: 0.3475 - val_acc: 0.9028\n",
            "Epoch 10/10\n",
            "180000/180000 [==============================] - 179s 996us/step - loss: 0.3548 - acc: 0.9022 - val_loss: 0.3388 - val_acc: 0.9058\n"
          ],
          "name": "stdout"
        }
      ]
    },
    {
      "cell_type": "code",
      "metadata": {
        "id": "ecbjDh5BuyBO"
      },
      "source": [
        "def plot_train(hist):\n",
        "    h = hist.history\n",
        "    if 'acc' in h:\n",
        "        meas='acc'\n",
        "        loc='lower right'\n",
        "    else:\n",
        "        meas='loss'\n",
        "        loc='upper right'\n",
        "    plt.plot(hist.history[meas])\n",
        "    plt.plot(hist.history['val_'+meas])\n",
        "    plt.title('model '+meas)\n",
        "    plt.ylabel(meas)\n",
        "    plt.xlabel('epoch')\n",
        "    plt.legend(['train', 'validation'], loc=loc)"
      ],
      "execution_count": null,
      "outputs": []
    },
    {
      "cell_type": "code",
      "metadata": {
        "id": "J5X-Mbk43KKu",
        "colab": {
          "base_uri": "https://localhost:8080/",
          "height": 295
        },
        "outputId": "5f975762-44c1-4f86-aff2-8c09d0abc7c2"
      },
      "source": [
        "plot_train(hist)"
      ],
      "execution_count": null,
      "outputs": [
        {
          "output_type": "display_data",
          "data": {
            "image/png": "[encoded data removed]",
            "text/plain": [
              "<Figure size 432x288 with 1 Axes>"
            ]
          },
          "metadata": {
            "tags": []
          }
        }
      ]
    },
    {
      "cell_type": "code",
      "metadata": {
        "id": "Rf6gUqXtRLcq",
        "colab": {
          "base_uri": "https://localhost:8080/",
          "height": 281
        },
        "outputId": "2c2e1778-82fa-4fc8-ae3d-9edf308aa21b"
      },
      "source": [
        "# Plot loss function value through epochs\n",
        "plt.figure(figsize=(18, 4))\n",
        "plt.plot(hist.history['loss'], label = 'train')\n",
        "plt.plot(hist.history['val_loss'], label = 'valid')\n",
        "plt.legend()\n",
        "plt.title('Loss Function')\n",
        "plt.show()"
      ],
      "execution_count": null,
      "outputs": [
        {
          "output_type": "display_data",
          "data": {
            "image/png": "[encoded data removed]",
            "text/plain": [
              "<Figure size 1296x288 with 1 Axes>"
            ]
          },
          "metadata": {
            "tags": []
          }
        }
      ]
    },
    {
      "cell_type": "code",
      "metadata": {
        "id": "Ylx76v8Q3rWS",
        "colab": {
          "base_uri": "https://localhost:8080/",
          "height": 52
        },
        "outputId": "5f61989b-8bc6-4309-b9ff-948da71fb727"
      },
      "source": [
        "model.evaluate(x_test,y_test)"
      ],
      "execution_count": null,
      "outputs": [
        {
          "output_type": "stream",
          "text": [
            "20000/20000 [==============================] - 6s 322us/step\n"
          ],
          "name": "stdout"
        },
        {
          "output_type": "execute_result",
          "data": {
            "text/plain": [
              "[0.33875188027024267, 0.9058]"
            ]
          },
          "metadata": {
            "tags": []
          },
          "execution_count": 47
        }
      ]
    },
    {
      "cell_type": "markdown",
      "metadata": {
        "id": "Oeh_zs7oRTYp"
      },
      "source": [
        "90.58% Accuracy on test data"
      ]
    },
    {
      "cell_type": "code",
      "metadata": {
        "id": "s_iOh3AeRZBv"
      },
      "source": [
        ""
      ],
      "execution_count": null,
      "outputs": []
    }
  ]
}